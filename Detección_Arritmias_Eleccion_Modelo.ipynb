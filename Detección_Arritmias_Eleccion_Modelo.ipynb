{
  "cells": [
    {
      "cell_type": "markdown",
      "metadata": {
        "id": "_fj1n5D5JAJz"
      },
      "source": [
        "# **Diseño de una Herramienta para la Detección de Arritmias Cardíacas en Electrocardiogramas utilizando Técnicas de Aprendizaje Automático**"
      ]
    },
    {
      "cell_type": "markdown",
      "metadata": {
        "id": "daPCEr0-m_3o"
      },
      "source": [
        "# **Arritmia Prediction**: Monografía presentada​ para optar al título de ​Especialista en Analítica y Ciencia de Datos​\n",
        "\n",
        "**Estudiantes:** <br>\n",
        "Robinson Alvarez Patiño <br>\n",
        "Alejandro Ruiz Luna\n",
        "\n",
        "**Asesora:** <br>\n",
        "Maria Bernarda Salazar Sánchez, PhD. e-mail: bernarda.salazar@udea.edu.co\n",
        "\n",
        "<br>\n",
        "Universidad de Antioquia <br>\n",
        "​Facultad de Ingeniería​ <br>\n",
        "​​Especialización en Analítica y Ciencia de Datos​ <br>\n",
        "​​Medellín, Antioquia, Colombia​ <br>\n",
        "2023\n",
        "\n",
        "\n"
      ]
    },
    {
      "cell_type": "code",
      "execution_count": null,
      "metadata": {
        "colab": {
          "base_uri": "https://localhost:8080/"
        },
        "id": "YRMUDd_IBA_3",
        "outputId": "fe04b9a0-26bc-450f-8fd9-17dbd8b18cc9"
      },
      "outputs": [
        {
          "name": "stdout",
          "output_type": "stream",
          "text": [
            "Looking in indexes: https://pypi.org/simple, https://us-python.pkg.dev/colab-wheels/public/simple/\n",
            "Requirement already satisfied: scikit-learn in /usr/local/lib/python3.10/dist-packages (1.2.2)\n",
            "Requirement already satisfied: numpy>=1.17.3 in /usr/local/lib/python3.10/dist-packages (from scikit-learn) (1.22.4)\n",
            "Requirement already satisfied: scipy>=1.3.2 in /usr/local/lib/python3.10/dist-packages (from scikit-learn) (1.10.1)\n",
            "Requirement already satisfied: joblib>=1.1.1 in /usr/local/lib/python3.10/dist-packages (from scikit-learn) (1.2.0)\n",
            "Requirement already satisfied: threadpoolctl>=2.0.0 in /usr/local/lib/python3.10/dist-packages (from scikit-learn) (3.1.0)\n",
            "Looking in indexes: https://pypi.org/simple, https://us-python.pkg.dev/colab-wheels/public/simple/\n",
            "Requirement already satisfied: scikit-learn in /usr/local/lib/python3.10/dist-packages (1.2.2)\n",
            "Requirement already satisfied: numpy>=1.17.3 in /usr/local/lib/python3.10/dist-packages (from scikit-learn) (1.22.4)\n",
            "Requirement already satisfied: scipy>=1.3.2 in /usr/local/lib/python3.10/dist-packages (from scikit-learn) (1.10.1)\n",
            "Requirement already satisfied: joblib>=1.1.1 in /usr/local/lib/python3.10/dist-packages (from scikit-learn) (1.2.0)\n",
            "Requirement already satisfied: threadpoolctl>=2.0.0 in /usr/local/lib/python3.10/dist-packages (from scikit-learn) (3.1.0)\n",
            "Looking in indexes: https://pypi.org/simple, https://us-python.pkg.dev/colab-wheels/public/simple/\n",
            "Requirement already satisfied: matplotlib in /usr/local/lib/python3.10/dist-packages (3.7.1)\n",
            "Requirement already satisfied: contourpy>=1.0.1 in /usr/local/lib/python3.10/dist-packages (from matplotlib) (1.0.7)\n",
            "Requirement already satisfied: cycler>=0.10 in /usr/local/lib/python3.10/dist-packages (from matplotlib) (0.11.0)\n",
            "Requirement already satisfied: fonttools>=4.22.0 in /usr/local/lib/python3.10/dist-packages (from matplotlib) (4.39.3)\n",
            "Requirement already satisfied: kiwisolver>=1.0.1 in /usr/local/lib/python3.10/dist-packages (from matplotlib) (1.4.4)\n",
            "Requirement already satisfied: numpy>=1.20 in /usr/local/lib/python3.10/dist-packages (from matplotlib) (1.22.4)\n",
            "Requirement already satisfied: packaging>=20.0 in /usr/local/lib/python3.10/dist-packages (from matplotlib) (23.1)\n",
            "Requirement already satisfied: pillow>=6.2.0 in /usr/local/lib/python3.10/dist-packages (from matplotlib) (8.4.0)\n",
            "Requirement already satisfied: pyparsing>=2.3.1 in /usr/local/lib/python3.10/dist-packages (from matplotlib) (3.0.9)\n",
            "Requirement already satisfied: python-dateutil>=2.7 in /usr/local/lib/python3.10/dist-packages (from matplotlib) (2.8.2)\n",
            "Requirement already satisfied: six>=1.5 in /usr/local/lib/python3.10/dist-packages (from python-dateutil>=2.7->matplotlib) (1.16.0)\n"
          ]
        }
      ],
      "source": [
        "!pip install -U scikit-learn\n",
        "!pip install --upgrade scikit-learn\n",
        "!pip install --upgrade matplotlib"
      ]
    },
    {
      "cell_type": "code",
      "execution_count": null,
      "metadata": {
        "id": "Tb6rmJ0dPsIe"
      },
      "outputs": [],
      "source": [
        "#from google.colab import drive\n",
        "#drive.mount('/content/drive')"
      ]
    },
    {
      "cell_type": "code",
      "execution_count": null,
      "metadata": {
        "id": "xzzpItXTxruT"
      },
      "outputs": [],
      "source": [
        "rm -rf Monografia"
      ]
    },
    {
      "cell_type": "code",
      "execution_count": null,
      "metadata": {
        "colab": {
          "base_uri": "https://localhost:8080/"
        },
        "id": "32ektPL9NZLz",
        "outputId": "a099b07d-b49c-4106-e1c5-ada1c76619e7"
      },
      "outputs": [
        {
          "name": "stdout",
          "output_type": "stream",
          "text": [
            "Cloning into 'Monografia'...\n",
            "remote: Enumerating objects: 9, done.\u001b[K\n",
            "remote: Counting objects: 100% (9/9), done.\u001b[K\n",
            "remote: Compressing objects: 100% (8/8), done.\u001b[K\n",
            "remote: Total 9 (delta 1), reused 0 (delta 0), pack-reused 0\u001b[K\n",
            "Unpacking objects: 100% (9/9), 984.62 KiB | 4.85 MiB/s, done.\n"
          ]
        }
      ],
      "source": [
        "!git clone https://github.com/Alejoruizl/Monografia"
      ]
    },
    {
      "cell_type": "code",
      "execution_count": null,
      "metadata": {
        "id": "2aWAqvM4FiX4"
      },
      "outputs": [],
      "source": [
        "import numpy as np\n",
        "import pandas as pd\n",
        "import matplotlib.pyplot as plt\n",
        "import seaborn as sns\n",
        "\n",
        "from sklearn.preprocessing import LabelEncoder, StandardScaler\n",
        "from sklearn.model_selection import train_test_split, GridSearchCV\n",
        "from sklearn.ensemble import RandomForestClassifier\n",
        "from sklearn.svm import SVC\n",
        "from sklearn.metrics import accuracy_score, precision_score, recall_score, f1_score\n",
        "from sklearn.metrics import confusion_matrix, matthews_corrcoef, balanced_accuracy_score, mean_absolute_percentage_error\n",
        "\n",
        "from mlxtend.plotting import plot_confusion_matrix\n",
        "\n",
        "from imblearn.under_sampling import RandomUnderSampler\n",
        "from imblearn.over_sampling import SMOTE"
      ]
    },
    {
      "cell_type": "markdown",
      "metadata": {
        "id": "0U7pbFp2sDV3"
      },
      "source": [
        "## **Base de datos**\n",
        "</b> Este dataset contiene 10.646 registros de pacientes con diagnósticos de arritmia, con sus correspondientes variables de escala de predicción de arritmia. Contiene 14 atributos, de los cual 11 son valores númericos y el resto categóricas. El propósito es clasificarlo en uno de los 11 tipos de arritmias.\n",
        "\n",
        "La base de datos está disponible en: https://physionet.org/content/ecg-arrhythmia/1.0.0/"
      ]
    },
    {
      "cell_type": "code",
      "execution_count": null,
      "metadata": {
        "id": "MSk-eJky22SS"
      },
      "outputs": [],
      "source": [
        "# Leer el archivo csv con los registros categorizados\n",
        "df = pd.read_excel('Monografia/Diagnostics.xlsx')"
      ]
    },
    {
      "cell_type": "code",
      "execution_count": null,
      "metadata": {
        "colab": {
          "base_uri": "https://localhost:8080/",
          "height": 364
        },
        "id": "9FpnlpPnIH_8",
        "outputId": "ca47a454-f6cb-42cf-b421-8317ece18427"
      },
      "outputs": [
        {
          "data": {
            "text/html": [
              "\n",
              "  <div id=\"df-5362083f-3a4f-4b3b-9825-01c8de0a4959\">\n",
              "    <div class=\"colab-df-container\">\n",
              "      <div>\n",
              "<style scoped>\n",
              "    .dataframe tbody tr th:only-of-type {\n",
              "        vertical-align: middle;\n",
              "    }\n",
              "\n",
              "    .dataframe tbody tr th {\n",
              "        vertical-align: top;\n",
              "    }\n",
              "\n",
              "    .dataframe thead th {\n",
              "        text-align: right;\n",
              "    }\n",
              "</style>\n",
              "<table border=\"1\" class=\"dataframe\">\n",
              "  <thead>\n",
              "    <tr style=\"text-align: right;\">\n",
              "      <th></th>\n",
              "      <th>PatientAge</th>\n",
              "      <th>VentricularRate</th>\n",
              "      <th>AtrialRate</th>\n",
              "      <th>QRSDuration</th>\n",
              "      <th>QTInterval</th>\n",
              "      <th>QTCorrected</th>\n",
              "      <th>RAxis</th>\n",
              "      <th>TAxis</th>\n",
              "      <th>QRSCount</th>\n",
              "      <th>QOnset</th>\n",
              "      <th>QOffset</th>\n",
              "      <th>TOffset</th>\n",
              "    </tr>\n",
              "  </thead>\n",
              "  <tbody>\n",
              "    <tr>\n",
              "      <th>count</th>\n",
              "      <td>10646.000000</td>\n",
              "      <td>10646.000000</td>\n",
              "      <td>10646.00000</td>\n",
              "      <td>10646.000000</td>\n",
              "      <td>10646.000000</td>\n",
              "      <td>10646.000000</td>\n",
              "      <td>10646.000000</td>\n",
              "      <td>10646.000000</td>\n",
              "      <td>10646.000000</td>\n",
              "      <td>10646.000000</td>\n",
              "      <td>10646.000000</td>\n",
              "      <td>10646.000000</td>\n",
              "    </tr>\n",
              "    <tr>\n",
              "      <th>mean</th>\n",
              "      <td>59.186831</td>\n",
              "      <td>84.136107</td>\n",
              "      <td>92.57787</td>\n",
              "      <td>90.989292</td>\n",
              "      <td>384.150855</td>\n",
              "      <td>434.154048</td>\n",
              "      <td>39.620609</td>\n",
              "      <td>44.637704</td>\n",
              "      <td>13.839470</td>\n",
              "      <td>219.260567</td>\n",
              "      <td>264.755213</td>\n",
              "      <td>411.335995</td>\n",
              "    </tr>\n",
              "    <tr>\n",
              "      <th>std</th>\n",
              "      <td>18.030019</td>\n",
              "      <td>34.455349</td>\n",
              "      <td>60.09394</td>\n",
              "      <td>17.479540</td>\n",
              "      <td>59.226289</td>\n",
              "      <td>39.354182</td>\n",
              "      <td>41.212648</td>\n",
              "      <td>57.478092</td>\n",
              "      <td>5.676339</td>\n",
              "      <td>6.410413</td>\n",
              "      <td>8.362120</td>\n",
              "      <td>29.777404</td>\n",
              "    </tr>\n",
              "    <tr>\n",
              "      <th>min</th>\n",
              "      <td>4.000000</td>\n",
              "      <td>34.000000</td>\n",
              "      <td>0.00000</td>\n",
              "      <td>18.000000</td>\n",
              "      <td>114.000000</td>\n",
              "      <td>219.000000</td>\n",
              "      <td>-89.000000</td>\n",
              "      <td>-89.000000</td>\n",
              "      <td>5.000000</td>\n",
              "      <td>159.000000</td>\n",
              "      <td>249.000000</td>\n",
              "      <td>281.000000</td>\n",
              "    </tr>\n",
              "    <tr>\n",
              "      <th>25%</th>\n",
              "      <td>49.000000</td>\n",
              "      <td>57.000000</td>\n",
              "      <td>57.00000</td>\n",
              "      <td>80.000000</td>\n",
              "      <td>344.000000</td>\n",
              "      <td>408.000000</td>\n",
              "      <td>14.000000</td>\n",
              "      <td>19.000000</td>\n",
              "      <td>9.000000</td>\n",
              "      <td>216.000000</td>\n",
              "      <td>259.000000</td>\n",
              "      <td>392.000000</td>\n",
              "    </tr>\n",
              "    <tr>\n",
              "      <th>50%</th>\n",
              "      <td>62.000000</td>\n",
              "      <td>73.000000</td>\n",
              "      <td>72.00000</td>\n",
              "      <td>88.000000</td>\n",
              "      <td>390.000000</td>\n",
              "      <td>430.000000</td>\n",
              "      <td>46.000000</td>\n",
              "      <td>42.000000</td>\n",
              "      <td>12.000000</td>\n",
              "      <td>219.000000</td>\n",
              "      <td>264.000000</td>\n",
              "      <td>414.000000</td>\n",
              "    </tr>\n",
              "    <tr>\n",
              "      <th>75%</th>\n",
              "      <td>72.000000</td>\n",
              "      <td>104.000000</td>\n",
              "      <td>106.00000</td>\n",
              "      <td>98.000000</td>\n",
              "      <td>426.000000</td>\n",
              "      <td>456.000000</td>\n",
              "      <td>68.000000</td>\n",
              "      <td>62.000000</td>\n",
              "      <td>17.000000</td>\n",
              "      <td>224.000000</td>\n",
              "      <td>268.000000</td>\n",
              "      <td>432.000000</td>\n",
              "    </tr>\n",
              "    <tr>\n",
              "      <th>max</th>\n",
              "      <td>98.000000</td>\n",
              "      <td>263.000000</td>\n",
              "      <td>535.00000</td>\n",
              "      <td>256.000000</td>\n",
              "      <td>736.000000</td>\n",
              "      <td>760.000000</td>\n",
              "      <td>270.000000</td>\n",
              "      <td>270.000000</td>\n",
              "      <td>40.000000</td>\n",
              "      <td>240.000000</td>\n",
              "      <td>331.000000</td>\n",
              "      <td>582.000000</td>\n",
              "    </tr>\n",
              "  </tbody>\n",
              "</table>\n",
              "</div>\n",
              "      <button class=\"colab-df-convert\" onclick=\"convertToInteractive('df-5362083f-3a4f-4b3b-9825-01c8de0a4959')\"\n",
              "              title=\"Convert this dataframe to an interactive table.\"\n",
              "              style=\"display:none;\">\n",
              "        \n",
              "  <svg xmlns=\"http://www.w3.org/2000/svg\" height=\"24px\"viewBox=\"0 0 24 24\"\n",
              "       width=\"24px\">\n",
              "    <path d=\"M0 0h24v24H0V0z\" fill=\"none\"/>\n",
              "    <path d=\"M18.56 5.44l.94 2.06.94-2.06 2.06-.94-2.06-.94-.94-2.06-.94 2.06-2.06.94zm-11 1L8.5 8.5l.94-2.06 2.06-.94-2.06-.94L8.5 2.5l-.94 2.06-2.06.94zm10 10l.94 2.06.94-2.06 2.06-.94-2.06-.94-.94-2.06-.94 2.06-2.06.94z\"/><path d=\"M17.41 7.96l-1.37-1.37c-.4-.4-.92-.59-1.43-.59-.52 0-1.04.2-1.43.59L10.3 9.45l-7.72 7.72c-.78.78-.78 2.05 0 2.83L4 21.41c.39.39.9.59 1.41.59.51 0 1.02-.2 1.41-.59l7.78-7.78 2.81-2.81c.8-.78.8-2.07 0-2.86zM5.41 20L4 18.59l7.72-7.72 1.47 1.35L5.41 20z\"/>\n",
              "  </svg>\n",
              "      </button>\n",
              "      \n",
              "  <style>\n",
              "    .colab-df-container {\n",
              "      display:flex;\n",
              "      flex-wrap:wrap;\n",
              "      gap: 12px;\n",
              "    }\n",
              "\n",
              "    .colab-df-convert {\n",
              "      background-color: #E8F0FE;\n",
              "      border: none;\n",
              "      border-radius: 50%;\n",
              "      cursor: pointer;\n",
              "      display: none;\n",
              "      fill: #1967D2;\n",
              "      height: 32px;\n",
              "      padding: 0 0 0 0;\n",
              "      width: 32px;\n",
              "    }\n",
              "\n",
              "    .colab-df-convert:hover {\n",
              "      background-color: #E2EBFA;\n",
              "      box-shadow: 0px 1px 2px rgba(60, 64, 67, 0.3), 0px 1px 3px 1px rgba(60, 64, 67, 0.15);\n",
              "      fill: #174EA6;\n",
              "    }\n",
              "\n",
              "    [theme=dark] .colab-df-convert {\n",
              "      background-color: #3B4455;\n",
              "      fill: #D2E3FC;\n",
              "    }\n",
              "\n",
              "    [theme=dark] .colab-df-convert:hover {\n",
              "      background-color: #434B5C;\n",
              "      box-shadow: 0px 1px 3px 1px rgba(0, 0, 0, 0.15);\n",
              "      filter: drop-shadow(0px 1px 2px rgba(0, 0, 0, 0.3));\n",
              "      fill: #FFFFFF;\n",
              "    }\n",
              "  </style>\n",
              "\n",
              "      <script>\n",
              "        const buttonEl =\n",
              "          document.querySelector('#df-5362083f-3a4f-4b3b-9825-01c8de0a4959 button.colab-df-convert');\n",
              "        buttonEl.style.display =\n",
              "          google.colab.kernel.accessAllowed ? 'block' : 'none';\n",
              "\n",
              "        async function convertToInteractive(key) {\n",
              "          const element = document.querySelector('#df-5362083f-3a4f-4b3b-9825-01c8de0a4959');\n",
              "          const dataTable =\n",
              "            await google.colab.kernel.invokeFunction('convertToInteractive',\n",
              "                                                     [key], {});\n",
              "          if (!dataTable) return;\n",
              "\n",
              "          const docLinkHtml = 'Like what you see? Visit the ' +\n",
              "            '<a target=\"_blank\" href=https://colab.research.google.com/notebooks/data_table.ipynb>data table notebook</a>'\n",
              "            + ' to learn more about interactive tables.';\n",
              "          element.innerHTML = '';\n",
              "          dataTable['output_type'] = 'display_data';\n",
              "          await google.colab.output.renderOutput(dataTable, element);\n",
              "          const docLink = document.createElement('div');\n",
              "          docLink.innerHTML = docLinkHtml;\n",
              "          element.appendChild(docLink);\n",
              "        }\n",
              "      </script>\n",
              "    </div>\n",
              "  </div>\n",
              "  "
            ],
            "text/plain": [
              "         PatientAge  VentricularRate   AtrialRate   QRSDuration    QTInterval  \\\n",
              "count  10646.000000     10646.000000  10646.00000  10646.000000  10646.000000   \n",
              "mean      59.186831        84.136107     92.57787     90.989292    384.150855   \n",
              "std       18.030019        34.455349     60.09394     17.479540     59.226289   \n",
              "min        4.000000        34.000000      0.00000     18.000000    114.000000   \n",
              "25%       49.000000        57.000000     57.00000     80.000000    344.000000   \n",
              "50%       62.000000        73.000000     72.00000     88.000000    390.000000   \n",
              "75%       72.000000       104.000000    106.00000     98.000000    426.000000   \n",
              "max       98.000000       263.000000    535.00000    256.000000    736.000000   \n",
              "\n",
              "        QTCorrected         RAxis         TAxis      QRSCount        QOnset  \\\n",
              "count  10646.000000  10646.000000  10646.000000  10646.000000  10646.000000   \n",
              "mean     434.154048     39.620609     44.637704     13.839470    219.260567   \n",
              "std       39.354182     41.212648     57.478092      5.676339      6.410413   \n",
              "min      219.000000    -89.000000    -89.000000      5.000000    159.000000   \n",
              "25%      408.000000     14.000000     19.000000      9.000000    216.000000   \n",
              "50%      430.000000     46.000000     42.000000     12.000000    219.000000   \n",
              "75%      456.000000     68.000000     62.000000     17.000000    224.000000   \n",
              "max      760.000000    270.000000    270.000000     40.000000    240.000000   \n",
              "\n",
              "            QOffset       TOffset  \n",
              "count  10646.000000  10646.000000  \n",
              "mean     264.755213    411.335995  \n",
              "std        8.362120     29.777404  \n",
              "min      249.000000    281.000000  \n",
              "25%      259.000000    392.000000  \n",
              "50%      264.000000    414.000000  \n",
              "75%      268.000000    432.000000  \n",
              "max      331.000000    582.000000  "
            ]
          },
          "execution_count": 7,
          "metadata": {},
          "output_type": "execute_result"
        }
      ],
      "source": [
        "df.describe()"
      ]
    },
    {
      "cell_type": "markdown",
      "metadata": {
        "id": "kmurPl4j3IYA"
      },
      "source": [
        "### **Arritmias**"
      ]
    },
    {
      "cell_type": "markdown",
      "metadata": {
        "id": "ikYquUiOgPkR"
      },
      "source": [
        "![image.png](data:image/png;base64,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)"
      ]
    },
    {
      "cell_type": "markdown",
      "metadata": {
        "id": "H5bwQw0N3fUQ"
      },
      "source": [
        "### **Categorías**\n"
      ]
    },
    {
      "cell_type": "markdown",
      "metadata": {
        "id": "9SfYurplTJ77"
      },
      "source": [
        "![image.png](data:image/png;base64,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)"
      ]
    },
    {
      "cell_type": "code",
      "execution_count": null,
      "metadata": {
        "colab": {
          "base_uri": "https://localhost:8080/",
          "height": 492
        },
        "id": "9XcAIbgqQrL6",
        "outputId": "a1eba5ed-a89a-42c8-f1db-97d6131789c9"
      },
      "outputs": [
        {
          "data": {
            "image/png": "[encoded data removed]",
            "text/plain": [
              "<Figure size 1000x500 with 1 Axes>"
            ]
          },
          "metadata": {},
          "output_type": "display_data"
        }
      ],
      "source": [
        "# Contar los registros por categoría\n",
        "conteo = df['Rhythm'].value_counts()\n",
        "\n",
        "# Crear el gráfico de barras y agregar etiquetas\n",
        "fig, ax = plt.subplots(figsize=(10, 5))\n",
        "ax.bar(conteo.index, conteo.values, color='green')\n",
        "ax.set_title('Distribución de las muestras', fontsize=14)\n",
        "ax.set_xlabel('Arrtimia', fontsize=12)\n",
        "ax.set_ylabel('Número de registros', fontsize=12)\n",
        "\n",
        "ax.spines['right'].set_visible(False)\n",
        "ax.spines['top'].set_visible(False)\n",
        "\n",
        "# Agregar etiquetas con el número de registros\n",
        "for i, v in enumerate(conteo.values):\n",
        "    ax.text(i, v + 20, str(v), ha='center', fontsize=10)\n",
        "\n",
        "plt.show()"
      ]
    },
    {
      "cell_type": "markdown",
      "metadata": {
        "id": "oh73e0v9spTN"
      },
      "source": [
        "## **Métricas de desempeño**\n",
        "Todas las métricas a utilizar son derivadas de la Matriz de Confusión\n"
      ]
    },
    {
      "cell_type": "markdown",
      "metadata": {
        "id": "khPOUER6HjQL"
      },
      "source": [
        "* **Exactitud = Accuracy**\n",
        "</b>\n",
        "$$\\frac{TP + TN}{TP+TN+FP+FN}$$\n",
        "</b>\n",
        "* **Precisión = Positive Predictive Value (PPV)** La precisión se refiere a la proporción de verdaderos positivos entre los verdaderos positivos y falsos positivos. Es decir, la precisión mide cuántas de las predicciones positivas son realmente positivas.\n",
        "</b>\n",
        "$$\\frac{TP}{TP+FP}$$\n",
        "</b>\n",
        "* **Sensibilidad (Recall) = True Positive Rate (TPR)** Es la proporción de verdaderos positivos entre los verdaderos positivos y falsos negativos. Es decir, el recall mide cuántas de las observaciones positivas reales fueron una predicción correcta del modelo.\n",
        "</b>\n",
        "$$\\frac{TP}{TP+FN}$$\n",
        "</b>\n",
        "* **F1-score:** Es una media armónica de precisión y recall. Representa una medida equilibrada de precisión y recall. Las más usada es para $\\beta = 1$ que le da igual importancia a la Precisión y a la Sensibilidad.\n",
        "</b>\n",
        "$$F_\\beta = (1+\\beta^2) \\frac{Precision \\cdot Recall}{\\beta^2 Precision + Recall}$$\n",
        "</b>"
      ]
    },
    {
      "cell_type": "markdown",
      "metadata": {
        "id": "hZx4kgWWv_Ts"
      },
      "source": [
        "## **Análisis por categorías**"
      ]
    },
    {
      "cell_type": "code",
      "execution_count": null,
      "metadata": {
        "colab": {
          "base_uri": "https://localhost:8080/",
          "height": 524
        },
        "id": "_m8WwSFz9Cc8",
        "outputId": "fb14449f-a539-469b-c19c-a0a41c720056"
      },
      "outputs": [
        {
          "name": "stdout",
          "output_type": "stream",
          "text": [
            "['AFIB' 'SB' 'SA' 'AF' 'SR' 'ST' 'SVT' 'AT' 'AVNRT' 'SAAWR' 'AVRT']\n"
          ]
        },
        {
          "data": {
            "image/png": "[encoded data removed]",
            "text/plain": [
              "<Figure size 1000x500 with 1 Axes>"
            ]
          },
          "metadata": {},
          "output_type": "display_data"
        }
      ],
      "source": [
        "ritmos_sinusales = ['SR', 'SB', 'ST', 'SI', 'SA']\n",
        "arritmias = ['AFIB', 'AF', 'SVT', 'AT', 'AVNRT', 'AVRT']\n",
        "otras_categorias = ['SAAWR']\n",
        "\n",
        "# Obtengo los valores únicos de la columna 'Rhythm'\n",
        "valores_rhythm = df['Rhythm'].unique()\n",
        "\n",
        "# Imprimo los valores para ver si hay valores que no corresponden a ninguna categoría\n",
        "print(valores_rhythm)\n",
        "\n",
        "# Compruebo que cada valor en 'Rhythm' esté en una de las categorías definidas\n",
        "for r in valores_rhythm:\n",
        "    if r not in ritmos_sinusales + arritmias + otras_categorias:\n",
        "        print(f'Valor {r} no está en ninguna categoría')\n",
        "\n",
        "# número de registros en cada categoría\n",
        "num_registros = [len(df[df['Rhythm'].isin(ritmos_sinusales)]), len(df[df['Rhythm'].isin(arritmias)]),\n",
        "                 len(df[df['Rhythm'].isin(otras_categorias)])]\n",
        "categorias = [\"Ritmos Sinusales\", \"Arritmias\", \"Otras\"]\n",
        "\n",
        "# plot the bar chart\n",
        "fig, ax = plt.subplots(figsize=(10, 5))\n",
        "plt.bar(categorias, num_registros)\n",
        "\n",
        "# calcular el porcentaje de registros en cada categoría\n",
        "total_registros = sum(num_registros)\n",
        "porcentajes = [round(n / total_registros * 100, 2) for n in num_registros]\n",
        "\n",
        "# plot the bar chart\n",
        "plt.bar(categorias, porcentajes)\n",
        "\n",
        "# add labels and title\n",
        "plt.xlabel(\"Categorías\")\n",
        "plt.ylabel(\"Registros [%]\")\n",
        "plt.title(\"Balance de categorización\")\n",
        "ax.spines['right'].set_visible(False)\n",
        "ax.spines['top'].set_visible(False)\n",
        "\n",
        "# agregar etiquetas con el número de registros\n",
        "for i, v in enumerate(num_registros):\n",
        "    plt.text(i, v + 100, f\"{round(v / sum(num_registros) * 100, 2)}%\", color='black', ha='center')\n",
        "\n",
        "# adjust the layout to avoid cutting off the labels\n",
        "plt.tight_layout()\n",
        "\n",
        "# show the plot\n",
        "plt.show()\n",
        "\n"
      ]
    },
    {
      "cell_type": "markdown",
      "metadata": {
        "id": "RrMeK8E3wyyq"
      },
      "source": [
        "### **Correlación**"
      ]
    },
    {
      "cell_type": "code",
      "execution_count": null,
      "metadata": {
        "colab": {
          "base_uri": "https://localhost:8080/",
          "height": 805
        },
        "id": "LmpfskmbT0AP",
        "outputId": "3bb493f7-cc74-4899-b822-5414c7c7a0bf"
      },
      "outputs": [
        {
          "name": "stderr",
          "output_type": "stream",
          "text": [
            "<ipython-input-10-ce7d377aaf0a>:2: FutureWarning: The default value of numeric_only in DataFrame.corr is deprecated. In a future version, it will default to False. Select only valid columns or specify the value of numeric_only to silence this warning.\n",
            "  corr_matrix = df.corr(method='pearson')\n"
          ]
        },
        {
          "data": {
            "image/png": "[encoded data removed]",
            "text/plain": [
              "<Figure size 2000x1200 with 2 Axes>"
            ]
          },
          "metadata": {},
          "output_type": "display_data"
        }
      ],
      "source": [
        "# Definimos nuestra matriz de correlación\n",
        "corr_matrix = df.corr(method='pearson')\n",
        "\n",
        "# Creamos una máscara que filtre la diagonal superior de la matriz (para ignorar duplicados)\n",
        "mask = np.zeros_like(corr_matrix)\n",
        "mask[np.triu_indices_from(mask)] = True\n",
        "\n",
        "# Generamos nuestro heatmap con Seaborn\n",
        "plt.figure(figsize=(20,12))\n",
        "sns.heatmap(corr_matrix, mask=mask, cmap=\"coolwarm\", annot=True)\n",
        "plt.show()"
      ]
    },
    {
      "cell_type": "markdown",
      "metadata": {
        "id": "TLv1pfhgWFAJ"
      },
      "source": [
        "**Análisis valores de correlación altos** Corr > 0.8\n",
        "\n",
        "* **VentricularRate y QRSCount.** Ambos son parámetros que están relacionados con la contracción del ventrículo, y es común que a mayor frecuencia cardíaca, mayor cantidad de complejos QRS se produzcan en un cierto período de tiempo. Por lo tanto, hay una correlación esperable entre estos dos parámetros.\n",
        "\n",
        "* **QTInterval y Toffset.** Existe una correlación entre el QTInterval y TOffset porque ambos son medidas que reflejan la duración de diferentes etapas de la actividad eléctrica del corazón. El intervalo QT es la medida desde el inicio del QRS hasta el final de la onda T, lo cual refleja el tiempo total que tarda el corazón en contraerse y luego relajarse durante un latido. Por otro lado, el TOffset es la medición desde el final de la onda T hasta el final del complejo QRS, lo que indica la duración del período de la repolarización ventricular.\n",
        "Cuando se produce una alteración en la duración de la repolarización (como en el caso de ciertas arritmias o trastornos metabólicos), esto puede afectar tanto al QTInterval como al TOffset. Debido a que estas dos mediciones están estrechamente relacionadas y ambas pueden ser marcadores de cambios en la actividad eléctrica del corazón, es posible que presenten correlación. Además, otros factores (como la edad, el género y las anomalías cardíacas) también pueden influir en la duración del QTInterval y TOffset, lo que podría contribuir aún más a la correlación entre ellos."
      ]
    },
    {
      "cell_type": "markdown",
      "metadata": {
        "id": "zV00MQ63G-l5"
      },
      "source": [
        "## **Entrenamiento**\n",
        "\n",
        "* RF: RandomForest\n",
        "* DataFullClass: Datos con todas las clases completas\n",
        "* DataSubSampling: Datos desbalanceados, se gestiona con submuestreo. [Imbalanced learn - RandomUnderSampler](https://imbalanced-learn.org/stable/references/generated/imblearn.under_sampling.RandomUnderSampler.html)\n",
        "* DataOverSampling: Datos desbalanceados, se gestiona con técnica de sobremuestreo inteligente, generando datos artificiales para usar en el entrenamiento que sigan la misma distribución de los datos reales: [Synthetic Minority Oversampling Technique (SMOTE)](https://www.jair.org/index.php/jair/article/view/10302/24590) [Imbalanced learn - SMOTE](https://imbalanced-learn.org/stable/references/generated/imblearn.over_sampling.SMOTE.html)\n",
        "\n"
      ]
    },
    {
      "cell_type": "markdown",
      "metadata": {
        "id": "p4B0McpUTkSh"
      },
      "source": [
        "### **DATA (sobremuestreo/submuestreo)**"
      ]
    },
    {
      "cell_type": "code",
      "execution_count": null,
      "metadata": {
        "id": "4J-Gi35kZkEz"
      },
      "outputs": [],
      "source": [
        "# Leer el archivo de datos\n",
        "df = pd.read_excel('Monografia/Diagnostics.xlsx')\n",
        "\n",
        "# Convertir variables categóricas en numéricas\n",
        "for column in df.columns:\n",
        "    if df[column].dtype == type(object):\n",
        "        le = LabelEncoder()\n",
        "        df[column] = le.fit_transform(df[column].astype(str))\n",
        "\n",
        "# Definir variables independientes y dependiente\n",
        "X = df.drop(['Rhythm'], axis=1)\n",
        "y = df['Rhythm']\n",
        "# Separar conjunto de entrenamiento y prueba\n",
        "X_train, X_test, y_train, y_test = train_test_split(X, y, test_size=0.20, stratify=y)\n",
        "# Feature Scaling\n",
        "scaler = StandardScaler()\n",
        "X_train = scaler.fit_transform(X_train)\n",
        "X_test = scaler.transform(X_test)\n",
        "\n",
        "#Genera nuevas observaciones sintéticas en las clases minoria\n",
        "# Aplicar sobremuestreo a la clase minoritaria\n",
        "smote = SMOTE(sampling_strategy='minority', k_neighbors=1)\n",
        "X_train_resampled, y_train_resampled = smote.fit_resample(X_train, y_train)\n",
        "\n",
        "# Aplicar submuestreo a la clase mayoritaria\n",
        "rus = RandomUnderSampler(sampling_strategy='majority')\n",
        "X_train_subsampled, y_train_subsampled = rus.fit_resample(X_train, y_train)"
      ]
    },
    {
      "cell_type": "markdown",
      "metadata": {
        "id": "6p0-5KbTwWB0"
      },
      "source": [
        "### **Random Forest**"
      ]
    },
    {
      "cell_type": "code",
      "execution_count": null,
      "metadata": {
        "id": "x4s4imgKFPwr"
      },
      "outputs": [],
      "source": [
        "# Full class\n",
        "# Lista de número de árboles a probar\n",
        "num_trees = [2,5,10,20,50,100, 150,200]\n",
        "# Lista para almacenar las precisiones\n",
        "accuracy_scores = []\n",
        "balanced_accuracy_scores = []\n",
        "matthews_corrcoefs = []\n",
        "# Ajustar modelos y calcular la precisión para cada número de árboles\n",
        "for n in num_trees:\n",
        "    x=[]\n",
        "    rf = RandomForestClassifier(n_estimators=n, random_state=0,bootstrap = True,criterion = 'entropy')\n",
        "    rf.fit(X_train, y_train)\n",
        "    accuracy_scores.append(rf.score(X_test, y_test))\n",
        "    # Predecir etapa de arritmia en conjunto de prueba\n",
        "    y_pred = rf.predict(X_test)\n",
        "    balanced_accuracy_scores.append(balanced_accuracy_score(y_test,y_pred))\n",
        "    matthews_corrcoefs.append(matthews_corrcoef(y_test,y_pred))"
      ]
    },
    {
      "cell_type": "code",
      "execution_count": null,
      "metadata": {
        "id": "Q2ZTy8ILV1mD"
      },
      "outputs": [],
      "source": [
        "#OverSampling\n",
        "# Lista de número de árboles a probar\n",
        "num_trees = [2,5,10,20,50,100, 150,200]\n",
        "# Lista para almacenar las precisiones\n",
        "acc_resampled = []\n",
        "baccs_resampled = []\n",
        "mc_resampled = []\n",
        "# Ajustar modelos y calcular la precisión para cada número de árboles\n",
        "for n in num_trees:\n",
        "    x=[]\n",
        "    rf = RandomForestClassifier(n_estimators=n, random_state=0,bootstrap = True,criterion = 'entropy')\n",
        "    rf.fit(X_train_resampled, y_train_resampled)\n",
        "    acc_resampled.append(rf.score(X_test, y_test))\n",
        "    # Predecir etapa de arritmia en conjunto de prueba\n",
        "    y_pred = rf.predict(X_test)\n",
        "    baccs_resampled.append(balanced_accuracy_score(y_test,y_pred))\n",
        "    mc_resampled.append(matthews_corrcoef(y_test,y_pred))"
      ]
    },
    {
      "cell_type": "code",
      "execution_count": null,
      "metadata": {
        "id": "XxgTsKcbWquQ"
      },
      "outputs": [],
      "source": [
        "#SubSampling\n",
        "# Lista de número de árboles a probar\n",
        "num_trees = [2,5,10,20,50,100, 150,200]\n",
        "# Lista para almacenar las precisiones\n",
        "acc_subsampled = []\n",
        "baccs_subsampled = []\n",
        "mc_subsampled = []\n",
        "# Ajustar modelos y calcular la precisión para cada número de árboles\n",
        "for n in num_trees:\n",
        "    x=[]\n",
        "    rf = RandomForestClassifier(n_estimators=n, random_state=0,bootstrap = True,criterion = 'entropy')\n",
        "    rf.fit(X_train_subsampled, y_train_subsampled)\n",
        "    acc_subsampled.append(rf.score(X_test, y_test))\n",
        "    # Predecir etapa de arritmia en conjunto de prueba\n",
        "    y_pred = rf.predict(X_test)\n",
        "    baccs_subsampled.append(balanced_accuracy_score(y_test,y_pred))\n",
        "    mc_subsampled.append(matthews_corrcoef(y_test,y_pred))"
      ]
    },
    {
      "cell_type": "markdown",
      "metadata": {
        "id": "-nYQNIiyxdi2"
      },
      "source": [
        "**Gráfico de comparación**"
      ]
    },
    {
      "cell_type": "code",
      "execution_count": null,
      "metadata": {
        "colab": {
          "base_uri": "https://localhost:8080/",
          "height": 1000
        },
        "id": "iQuTCfGxROCp",
        "outputId": "d7b9cde3-c7f7-462d-af5e-cbf5a69e9a1b"
      },
      "outputs": [
        {
          "data": {
            "image/png": "[encoded data removed]",
            "text/plain": [
              "<Figure size 800x1200 with 3 Axes>"
            ]
          },
          "metadata": {},
          "output_type": "display_data"
        }
      ],
      "source": [
        "fig, ax = plt.subplots(3,1,figsize=(8,12))# azul\n",
        "ax[0].plot(num_trees, accuracy_scores, marker='o', markersize=5)# Texto\n",
        "ax[0].plot(num_trees, acc_resampled, marker='o', markersize=5)# Texto\n",
        "ax[0].plot(num_trees, acc_subsampled, marker='o', markersize=5)# Texto\n",
        "ax[0].set_ylabel('accuracy')\n",
        "ax[0].legend(['Full','Over','Sub'])\n",
        "ax[0].set_xticks(num_trees)\n",
        "ax[0].set_title('Random Forest')\n",
        "\n",
        "ax[1].plot(num_trees, balanced_accuracy_scores, marker='*', markersize=5)\n",
        "ax[1].plot(num_trees, baccs_resampled, marker='*', markersize=5)\n",
        "ax[1].plot(num_trees, baccs_subsampled, marker='*', markersize=5)\n",
        "ax[1].set_ylabel('balanced_accuracy_scores')\n",
        "ax[1].set_xticks(num_trees)\n",
        "\n",
        "ax[2].plot(num_trees, matthews_corrcoefs, marker='s', markersize=5)\n",
        "ax[2].plot(num_trees, mc_resampled, marker='s', markersize=5)\n",
        "ax[2].plot(num_trees, mc_subsampled, marker='*', markersize=5)\n",
        "ax[2].set_ylabel('matthews_corrcoefs')\n",
        "ax[2].set_xticks(num_trees)\n",
        "ax[2].set_xlabel('Número de árboles')\n",
        "\n",
        "plt.show()\n"
      ]
    },
    {
      "cell_type": "markdown",
      "metadata": {
        "id": "IHw0y4bWxM0T"
      },
      "source": [
        "**Matriz confusión mejor modelo**"
      ]
    },
    {
      "cell_type": "code",
      "execution_count": null,
      "metadata": {
        "colab": {
          "base_uri": "https://localhost:8080/",
          "height": 940
        },
        "id": "MiwQb6JVpKKm",
        "outputId": "d7e25b52-dfa0-4489-cd85-d16c87a0e9e7"
      },
      "outputs": [
        {
          "name": "stdout",
          "output_type": "stream",
          "text": [
            "Confusion matrix, without normalization\n"
          ]
        },
        {
          "data": {
            "image/png": "[encoded data removed]",
            "text/plain": [
              "<Figure size 640x480 with 2 Axes>"
            ]
          },
          "metadata": {},
          "output_type": "display_data"
        },
        {
          "name": "stdout",
          "output_type": "stream",
          "text": [
            "Normalized confusion matrix\n"
          ]
        },
        {
          "data": {
            "image/png": "[encoded data removed]",
            "text/plain": [
              "<Figure size 640x480 with 2 Axes>"
            ]
          },
          "metadata": {},
          "output_type": "display_data"
        },
        {
          "data": {
            "application/vnd.google.colaboratory.intrinsic+json": {
              "type": "string"
            },
            "text/plain": [
              "'rf_tree.pdf'"
            ]
          },
          "execution_count": 16,
          "metadata": {},
          "output_type": "execute_result"
        }
      ],
      "source": [
        "from sklearn.tree import export_graphviz\n",
        "import graphviz\n",
        "\n",
        "titles_options = [(\"Confusion matrix, without normalization\", True, False),\n",
        "                  (\"Normalized confusion matrix\", False, True)]\n",
        "\n",
        "#class_names=['class_1','class_2','class_3','class_4','class_5','class_6','class_7','class_8','class_9','class_10','class_11']\n",
        "\n",
        "n=10\n",
        "rf = RandomForestClassifier(n_estimators=n, random_state=42,bootstrap = True,criterion = 'entropy')\n",
        "rf.fit(X_train, y_train)\n",
        "y_pred = rf.predict(X_test)\n",
        "\n",
        "multiclass = confusion_matrix(y_test, y_pred)\n",
        "for title, absolute, normalize in titles_options:\n",
        "     fig, ax = plot_confusion_matrix(conf_mat=multiclass,\n",
        "                                colorbar=True,\n",
        "                                show_absolute=absolute,\n",
        "                                show_normed=normalize)\n",
        "     print(title)\n",
        "     plt.show()\n",
        "\n",
        "# Seleccionar el primer árbol de decisión del modelo\n",
        "tree = rf.estimators_[0]\n",
        "\n",
        "# Exportar el árbol en formato DOT\n",
        "dot_data = export_graphviz(tree, out_file=None, feature_names=X.columns, class_names=y.astype(str).unique().tolist(), filled=True, rounded=True, special_characters=True)\n",
        "\n",
        "# Visualizar el árbol\n",
        "graph = graphviz.Source(dot_data)\n",
        "graph.render(\"rf_tree\") # Guardar el árbol como archivo PDF"
      ]
    },
    {
      "cell_type": "markdown",
      "metadata": {
        "id": "hugPGdQzbCOc"
      },
      "source": [
        "### **LGBM**"
      ]
    },
    {
      "cell_type": "code",
      "execution_count": null,
      "metadata": {
        "id": "MbBpuSYPbJfq"
      },
      "outputs": [],
      "source": [
        "import pandas as pd\n",
        "from sklearn.preprocessing import LabelEncoder, StandardScaler\n",
        "from sklearn.model_selection import train_test_split\n",
        "from lightgbm import LGBMClassifier\n",
        "\n",
        "# Leer el archivo de datos\n",
        "df = pd.read_excel('Monografia/Diagnostics.xlsx')\n",
        "\n",
        "# Convertir variables categóricas en numéricas\n",
        "for column in df.columns:\n",
        "    if df[column].dtype == type(object):\n",
        "        le = LabelEncoder()\n",
        "        df[column] = le.fit_transform(df[column].astype(str))\n",
        "\n",
        "# Definir variables independientes y dependiente\n",
        "X = df.drop(['Rhythm'], axis=1)\n",
        "y = df['Rhythm']\n",
        "\n",
        "# Separar conjunto de entrenamiento y prueba\n",
        "X_train, X_test, y_train, y_test = train_test_split(X, y, test_size=0.20, stratify=y)\n",
        "\n",
        "# Feature Scaling\n",
        "scaler = StandardScaler()\n",
        "X_train = scaler.fit_transform(X_train)\n",
        "X_test = scaler.transform(X_test)\n",
        "\n",
        "# Definir los parámetros del modelo\n",
        "params = {\n",
        "    'boosting_type': 'gbdt',\n",
        "    'class_weight': None,\n",
        "    'colsample_bytree': 1.0,\n",
        "    'importance_type': 'split',\n",
        "    'learning_rate': 0.1,\n",
        "    'max_depth': -1,\n",
        "    'min_child_samples': 20,\n",
        "    'min_child_weight': 0.001,\n",
        "    'min_split_gain': 0.0,\n",
        "    'n_estimators': 100,\n",
        "    'n_jobs': -1,\n",
        "    'num_leaves': 31,\n",
        "    'objective': None,\n",
        "    'random_state': 7579,\n",
        "    'reg_alpha': 0.0,\n",
        "    'reg_lambda': 0.0,\n",
        "    'silent': 'warn',\n",
        "    'subsample': 1.0,\n",
        "    'subsample_for_bin': 200000,\n",
        "    'subsample_freq': 0\n",
        "}\n",
        "\n",
        "# Crear una instancia del clasificador LGBM\n",
        "lgbm = LGBMClassifier(**params)\n",
        "\n",
        "# Entrenar el modelo\n",
        "lgbm.fit(X_train, y_train)\n",
        "\n",
        "# Realizar predicciones en el conjunto de prueba\n",
        "y_pred = lgbm.predict(X_test)\n"
      ]
    },
    {
      "cell_type": "code",
      "execution_count": null,
      "metadata": {
        "colab": {
          "base_uri": "https://localhost:8080/"
        },
        "id": "okh8YFHSclJH",
        "outputId": "322d54c2-9590-490c-d2c6-908ed45b6970"
      },
      "outputs": [
        {
          "name": "stdout",
          "output_type": "stream",
          "text": [
            "Accuracy: 0.935680751173709\n",
            "AUC: 0.9673107594492908\n",
            "Recall: 0.935680751173709\n",
            "Precision: 0.9290170369031404\n",
            "F1-score: 0.930623706736778\n"
          ]
        },
        {
          "name": "stderr",
          "output_type": "stream",
          "text": [
            "/usr/local/lib/python3.10/dist-packages/sklearn/metrics/_classification.py:1344: UndefinedMetricWarning: Precision is ill-defined and being set to 0.0 in labels with no predicted samples. Use `zero_division` parameter to control this behavior.\n",
            "  _warn_prf(average, modifier, msg_start, len(result))\n"
          ]
        }
      ],
      "source": [
        "from sklearn.metrics import accuracy_score, roc_auc_score, recall_score, precision_score, f1_score\n",
        "\n",
        "# Calcular las métricas de evaluación\n",
        "accuracy = accuracy_score(y_test, y_pred)\n",
        "auc = roc_auc_score(y_test, lgbm.predict_proba(X_test), multi_class='ovr')\n",
        "recall = recall_score(y_test, y_pred, average='weighted')\n",
        "precision = precision_score(y_test, y_pred, average='weighted')\n",
        "f1 = f1_score(y_test, y_pred, average='weighted')\n",
        "\n",
        "# Imprimir los resultados del modelo\n",
        "print(\"Accuracy:\", accuracy)\n",
        "print(\"AUC:\", auc)\n",
        "print(\"Recall:\", recall)\n",
        "print(\"Precision:\", precision)\n",
        "print(\"F1-score:\", f1)\n"
      ]
    },
    {
      "cell_type": "markdown",
      "metadata": {
        "id": "wEjgHm2tiFfB"
      },
      "source": [
        "### **SVM**"
      ]
    },
    {
      "cell_type": "code",
      "execution_count": null,
      "metadata": {
        "colab": {
          "background_save": true,
          "base_uri": "https://localhost:8080/"
        },
        "id": "C_Ni-DupckYw",
        "outputId": "bf449742-7c5c-4bac-dc52-3e63c0ceff59"
      },
      "outputs": [
        {
          "name": "stdout",
          "output_type": "stream",
          "text": [
            "Muestreo:  \n",
            "Muestreo:  _resampled\n"
          ]
        }
      ],
      "source": [
        "# SVM\n",
        "# OVR\n",
        "# en esta estrategia se realizar una SVM por cada clase\n",
        "# por lo tanto tenemos que acceder a cada una de la SVM\n",
        "# OVO\n",
        "# solo tenemos una SVM\n",
        "kernels=['linear', 'rbf']\n",
        "gammas = [1, 0.1, 0.01]\n",
        "params_reg = [0.001, 0.01,0.1, 1.0,10] # C\n",
        "muestreo = ['','_resampled','_subsampled'] # corresponden a ['none','over','sub']\n",
        "\n",
        "idx = 0\n",
        "resultados = pd.DataFrame()\n",
        "\n",
        "parameters = {'kernel':kernels, 'C':params_reg,'gamma':gammas}\n",
        "svm = SVC()\n",
        "grid_search = GridSearchCV(svm, parameters, cv=5, refit = True)\n",
        "\n",
        "for sample_idx in muestreo:\n",
        "        Xtrain = eval(f'X_train{sample_idx}')\n",
        "        Ytrain = eval(f'y_train{sample_idx}')\n",
        "        print(\"Muestreo: \", sample_idx)\n",
        "        # entrenamiento\n",
        "        grid_search.fit(Xtrain, Ytrain)\n",
        "        rst=pd.Series(grid_search.best_params_)\n",
        "        resultados.loc[idx,'kernel'] = rst['kernel']\n",
        "        resultados.loc[idx,'gamma'] = rst['gamma']\n",
        "        resultados.loc[idx,'param_reg'] = rst['C']\n",
        "        resultados.loc[idx,'accuracy'] = grid_search.best_score_\n",
        "        resultados.loc[idx,'muestreo'] = sample_idx\n",
        "        resultados.loc[idx,'estimator'] = grid_search.best_estimator_\n",
        "        idx+=1\n",
        "\n",
        "# grid_predictions = grid_search.predict(X_test)\n",
        "# print classification report\n",
        "# print(classification_report(y_test, grid_predictions))\n",
        "# print(confusion_matrix(y_test,grid_predictions))\n"
      ]
    },
    {
      "cell_type": "code",
      "execution_count": null,
      "metadata": {
        "id": "WBeiPPmzlD7N"
      },
      "outputs": [],
      "source": [
        "# ver los resultados\n",
        "resultados.sort_values('accuracy',ascending=False)"
      ]
    },
    {
      "cell_type": "code",
      "execution_count": null,
      "metadata": {
        "id": "0GMlxf4yiAex"
      },
      "outputs": [],
      "source": [
        "import matplotlib.pyplot as plt\n",
        "\n",
        "fig, ax = plt.subplots(3, 1, figsize=(8, 12))\n",
        "\n",
        "# Gráfica 1: Accuracy\n",
        "ax[0].plot(resultados[resultados['muestreo']=='']['param_reg'], resultados[resultados['muestreo']=='']['accuracy'], marker='o', markersize=5)\n",
        "ax[0].plot(resultados[resultados['muestreo']=='_resampled']['param_reg'], resultados[resultados['muestreo']=='_resampled']['accuracy'], marker='o', markersize=5)\n",
        "ax[0].plot(resultados[resultados['muestreo']=='_subsampled']['param_reg'], resultados[resultados['muestreo']=='_subsampled']['accuracy'], marker='o', markersize=5)\n",
        "ax[0].set_ylabel('accuracy')\n",
        "ax[0].legend(['None', 'Over', 'Sub'])\n",
        "ax[0].set_xscale('log')\n",
        "ax[0].set_title('SVM')\n",
        "\n",
        "# Gráfica 2: Balanced Accuracy Scores\n",
        "ax[1].plot(resultados[resultados['muestreo']=='']['param_reg'], resultados[resultados['muestreo']=='']['balanced_accuracy_scores'], marker='*', markersize=5)\n",
        "ax[1].plot(resultados[resultados['muestreo']=='_resampled']['param_reg'], resultados[resultados['muestreo']=='_resampled']['balanced_accuracy_scores'], marker='*', markersize=5)\n",
        "ax[1].plot(resultados[resultados['muestreo']=='_subsampled']['param_reg'], resultados[resultados['muestreo']=='_subsampled']['balanced_accuracy_scores'], marker='*', markersize=5)\n",
        "ax[1].set_ylabel('balanced_accuracy_scores')\n",
        "ax[1].set_xscale('log')\n",
        "\n",
        "# Gráfica 3: Matthews Correlation Coefficients\n",
        "ax[2].plot(resultados[resultados['muestreo']=='']['param_reg'], resultados[resultados['muestreo']=='']['matthews_corrcoefs'], marker='s', markersize=5)\n",
        "ax[2].plot(resultados[resultados['muestreo']=='_resampled']['param_reg'], resultados[resultados['muestreo']=='_resampled']['matthews_corrcoefs'], marker='s', markersize=5)\n",
        "ax[2].plot(resultados[resultados['muestreo']=='_subsampled']['param_reg'], resultados[resultados['muestreo']=='_subsampled']['matthews_corrcoefs'], marker='*', markersize=5)\n",
        "ax[2].set_ylabel('matthews_corrcoefs')\n",
        "ax[2].set_xscale('log')\n",
        "ax[2].set_xlabel('Parámetro C')\n",
        "\n",
        "plt.tight_layout()\n",
        "plt.show()"
      ]
    },
    {
      "cell_type": "markdown",
      "metadata": {
        "id": "RFqJvx50Bqsn"
      },
      "source": [
        "### **SUMMARY**"
      ]
    },
    {
      "cell_type": "code",
      "execution_count": null,
      "metadata": {
        "colab": {
          "base_uri": "https://localhost:8080/"
        },
        "id": "FOSuKtbhBn53",
        "outputId": "0d19016b-eee0-44f8-8de7-1ab80eb3fe48"
      },
      "outputs": [
        {
          "name": "stderr",
          "output_type": "stream",
          "text": [
            "/usr/local/lib/python3.10/dist-packages/sklearn/metrics/_classification.py:1344: UndefinedMetricWarning: Precision is ill-defined and being set to 0.0 in labels with no predicted samples. Use `zero_division` parameter to control this behavior.\n",
            "  _warn_prf(average, modifier, msg_start, len(result))\n",
            "/usr/local/lib/python3.10/dist-packages/sklearn/metrics/_classification.py:1344: UndefinedMetricWarning: Precision is ill-defined and being set to 0.0 in labels with no predicted samples. Use `zero_division` parameter to control this behavior.\n",
            "  _warn_prf(average, modifier, msg_start, len(result))\n",
            "/usr/local/lib/python3.10/dist-packages/sklearn/metrics/_classification.py:1344: UndefinedMetricWarning: Precision is ill-defined and being set to 0.0 in labels with no predicted samples. Use `zero_division` parameter to control this behavior.\n",
            "  _warn_prf(average, modifier, msg_start, len(result))\n"
          ]
        },
        {
          "name": "stdout",
          "output_type": "stream",
          "text": [
            "                 Model  Accuracy  Precision    Recall  F1-score\n",
            "0        Random Forest  0.919718   0.910091  0.919718  0.911075\n",
            "1                  SVM  0.612207   0.488806  0.612207  0.520024\n",
            "2                  KNN  0.807042   0.798432  0.807042  0.789953\n",
            "3  Logistic Regression  0.746948   0.733254  0.746948  0.719048\n"
          ]
        },
        {
          "name": "stderr",
          "output_type": "stream",
          "text": [
            "/usr/local/lib/python3.10/dist-packages/sklearn/linear_model/_logistic.py:458: ConvergenceWarning: lbfgs failed to converge (status=1):\n",
            "STOP: TOTAL NO. of ITERATIONS REACHED LIMIT.\n",
            "\n",
            "Increase the number of iterations (max_iter) or scale the data as shown in:\n",
            "    https://scikit-learn.org/stable/modules/preprocessing.html\n",
            "Please also refer to the documentation for alternative solver options:\n",
            "    https://scikit-learn.org/stable/modules/linear_model.html#logistic-regression\n",
            "  n_iter_i = _check_optimize_result(\n",
            "/usr/local/lib/python3.10/dist-packages/sklearn/metrics/_classification.py:1344: UndefinedMetricWarning: Precision is ill-defined and being set to 0.0 in labels with no predicted samples. Use `zero_division` parameter to control this behavior.\n",
            "  _warn_prf(average, modifier, msg_start, len(result))\n"
          ]
        }
      ],
      "source": [
        "import pandas as pd\n",
        "from sklearn.metrics import accuracy_score, precision_score, recall_score, f1_score\n",
        "from sklearn.ensemble import RandomForestClassifier\n",
        "from sklearn.svm import SVC\n",
        "from sklearn.neighbors import KNeighborsClassifier\n",
        "from sklearn.linear_model import LogisticRegression\n",
        "from sklearn.model_selection import train_test_split\n",
        "from sklearn.preprocessing import LabelEncoder\n",
        "\n",
        "# Leer el archivo de datos\n",
        "df = pd.read_excel('Monografia/Diagnostics.xlsx')\n",
        "\n",
        "# Convertir variables categóricas en numéricas\n",
        "for column in df.columns:\n",
        "    if df[column].dtype == type(object):\n",
        "        le = LabelEncoder()\n",
        "        df[column] = le.fit_transform(df[column].astype(str))\n",
        "\n",
        "# Definir variables independientes y dependiente\n",
        "X = df.drop(['Rhythm'], axis=1)\n",
        "y = df['Rhythm']\n",
        "\n",
        "# Separar conjunto de entrenamiento y prueba\n",
        "X_train, X_test, y_train, y_test = train_test_split(X, y, test_size=0.20, stratify=y, random_state=0)\n",
        "\n",
        "# Definir modelos\n",
        "models = {\n",
        "    'Random Forest': RandomForestClassifier(random_state=0),\n",
        "    'SVM': SVC(kernel='rbf', C=1.0, random_state=0),\n",
        "    'KNN': KNeighborsClassifier(n_neighbors=5),\n",
        "    'Logistic Regression': LogisticRegression(random_state=0)\n",
        "}\n",
        "\n",
        "# Entrenar modelos y obtener métricas\n",
        "results = {'Model': [], 'Accuracy': [], 'Precision': [], 'Recall': [], 'F1-score': []}\n",
        "\n",
        "for name, model in models.items():\n",
        "    model.fit(X_train, y_train)\n",
        "    y_pred = model.predict(X_test)\n",
        "    accuracy = accuracy_score(y_test, y_pred)\n",
        "    precision = precision_score(y_test, y_pred, average='weighted')\n",
        "    recall = recall_score(y_test, y_pred, average='weighted')\n",
        "    f1 = f1_score(y_test, y_pred, average='weighted')\n",
        "    results['Model'].append(name)\n",
        "    results['Accuracy'].append(accuracy)\n",
        "    results['Precision'].append(precision)\n",
        "    results['Recall'].append(recall)\n",
        "    results['F1-score'].append(f1)\n",
        "\n",
        "# Convertir resultados a DataFrame\n",
        "df_results = pd.DataFrame(results)\n",
        "\n",
        "# Presentar resultados en una tabla\n",
        "print(df_results)"
      ]
    },
    {
      "cell_type": "markdown",
      "metadata": {
        "id": "hf6rHW4hNLjD"
      },
      "source": [
        "### **Comparar Modelos**"
      ]
    },
    {
      "cell_type": "code",
      "execution_count": null,
      "metadata": {
        "colab": {
          "base_uri": "https://localhost:8080/"
        },
        "id": "4WEqkP3ZNV4S",
        "outputId": "b9ca61e4-4350-4e65-f38b-83ebaa4516fd"
      },
      "outputs": [
        {
          "name": "stdout",
          "output_type": "stream",
          "text": [
            "Looking in indexes: https://pypi.org/simple, https://us-python.pkg.dev/colab-wheels/public/simple/\n",
            "Collecting pycaret\n",
            "  Downloading pycaret-3.0.2-py3-none-any.whl (483 kB)\n",
            "\u001b[2K     \u001b[90m━━━━━━━━━━━━━━━━━━━━━━━━━━━━━━━━━━━━━━━\u001b[0m \u001b[32m483.6/483.6 kB\u001b[0m \u001b[31m8.7 MB/s\u001b[0m eta \u001b[36m0:00:00\u001b[0m\n",
            "\u001b[?25hRequirement already satisfied: ipython>=5.5.0 in /usr/local/lib/python3.10/dist-packages (from pycaret) (7.34.0)\n",
            "Requirement already satisfied: ipywidgets>=7.6.5 in /usr/local/lib/python3.10/dist-packages (from pycaret) (7.7.1)\n",
            "Requirement already satisfied: tqdm>=4.62.0 in /usr/local/lib/python3.10/dist-packages (from pycaret) (4.65.0)\n",
            "Requirement already satisfied: numpy<1.24,>=1.21 in /usr/local/lib/python3.10/dist-packages (from pycaret) (1.22.4)\n",
            "Requirement already satisfied: pandas<2.0.0,>=1.3.0 in /usr/local/lib/python3.10/dist-packages (from pycaret) (1.5.3)\n",
            "Requirement already satisfied: jinja2>=1.2 in /usr/local/lib/python3.10/dist-packages (from pycaret) (3.1.2)\n",
            "Requirement already satisfied: scipy<2.0.0 in /usr/local/lib/python3.10/dist-packages (from pycaret) (1.10.1)\n",
            "Requirement already satisfied: joblib>=1.2.0 in /usr/local/lib/python3.10/dist-packages (from pycaret) (1.2.0)\n",
            "Requirement already satisfied: scikit-learn>=1.0 in /usr/local/lib/python3.10/dist-packages (from pycaret) (1.2.2)\n",
            "Collecting pyod>=1.0.8 (from pycaret)\n",
            "  Downloading pyod-1.0.9.tar.gz (149 kB)\n",
            "\u001b[2K     \u001b[90m━━━━━━━━━━━━━━━━━━━━━━━━━━━━━━━━━━━━━━\u001b[0m \u001b[32m150.0/150.0 kB\u001b[0m \u001b[31m15.4 MB/s\u001b[0m eta \u001b[36m0:00:00\u001b[0m\n",
            "\u001b[?25h  Preparing metadata (setup.py) ... \u001b[?25l\u001b[?25hdone\n",
            "Requirement already satisfied: imbalanced-learn>=0.8.1 in /usr/local/lib/python3.10/dist-packages (from pycaret) (0.10.1)\n",
            "Collecting category-encoders>=2.4.0 (from pycaret)\n",
            "  Downloading category_encoders-2.6.1-py2.py3-none-any.whl (81 kB)\n",
            "\u001b[2K     \u001b[90m━━━━━━━━━━━━━━━━━━━━━━━━━━━━━━━━━━━━━━━━\u001b[0m \u001b[32m81.9/81.9 kB\u001b[0m \u001b[31m8.6 MB/s\u001b[0m eta \u001b[36m0:00:00\u001b[0m\n",
            "\u001b[?25hRequirement already satisfied: lightgbm>=3.0.0 in /usr/local/lib/python3.10/dist-packages (from pycaret) (3.3.5)\n",
            "Requirement already satisfied: numba>=0.55.0 in /usr/local/lib/python3.10/dist-packages (from pycaret) (0.56.4)\n",
            "Requirement already satisfied: requests>=2.27.1 in /usr/local/lib/python3.10/dist-packages (from pycaret) (2.27.1)\n",
            "Requirement already satisfied: psutil>=5.9.0 in /usr/local/lib/python3.10/dist-packages (from pycaret) (5.9.5)\n",
            "Requirement already satisfied: markupsafe>=2.0.1 in /usr/local/lib/python3.10/dist-packages (from pycaret) (2.1.2)\n",
            "Collecting importlib-metadata>=4.12.0 (from pycaret)\n",
            "  Downloading importlib_metadata-6.6.0-py3-none-any.whl (22 kB)\n",
            "Requirement already satisfied: nbformat>=4.2.0 in /usr/local/lib/python3.10/dist-packages (from pycaret) (5.8.0)\n",
            "Requirement already satisfied: cloudpickle in /usr/local/lib/python3.10/dist-packages (from pycaret) (2.2.1)\n",
            "Collecting deprecation>=2.1.0 (from pycaret)\n",
            "  Downloading deprecation-2.1.0-py2.py3-none-any.whl (11 kB)\n",
            "Collecting xxhash (from pycaret)\n",
            "  Downloading xxhash-3.2.0-cp310-cp310-manylinux_2_17_x86_64.manylinux2014_x86_64.whl (212 kB)\n",
            "\u001b[2K     \u001b[90m━━━━━━━━━━━━━━━━━━━━━━━━━━━━━━━━━━━━━━\u001b[0m \u001b[32m212.5/212.5 kB\u001b[0m \u001b[31m20.7 MB/s\u001b[0m eta \u001b[36m0:00:00\u001b[0m\n",
            "\u001b[?25hRequirement already satisfied: matplotlib>=3.3.0 in /usr/local/lib/python3.10/dist-packages (from pycaret) (3.7.1)\n",
            "Collecting scikit-plot>=0.3.7 (from pycaret)\n",
            "  Downloading scikit_plot-0.3.7-py3-none-any.whl (33 kB)\n",
            "Requirement already satisfied: yellowbrick>=1.4 in /usr/local/lib/python3.10/dist-packages (from pycaret) (1.5)\n",
            "Requirement already satisfied: plotly>=5.0.0 in /usr/local/lib/python3.10/dist-packages (from pycaret) (5.13.1)\n",
            "Collecting kaleido>=0.2.1 (from pycaret)\n",
            "  Downloading kaleido-0.2.1-py2.py3-none-manylinux1_x86_64.whl (79.9 MB)\n",
            "\u001b[2K     \u001b[90m━━━━━━━━━━━━━━━━━━━━━━━━━━━━━━━━━━━━━━━━\u001b[0m \u001b[32m79.9/79.9 MB\u001b[0m \u001b[31m10.5 MB/s\u001b[0m eta \u001b[36m0:00:00\u001b[0m\n",
            "\u001b[?25hCollecting schemdraw==0.15 (from pycaret)\n",
            "  Downloading schemdraw-0.15-py3-none-any.whl (106 kB)\n",
            "\u001b[2K     \u001b[90m━━━━━━━━━━━━━━━━━━━━━━━━━━━━━━━━━━━━━━━\u001b[0m \u001b[32m106.8/106.8 kB\u001b[0m \u001b[31m9.3 MB/s\u001b[0m eta \u001b[36m0:00:00\u001b[0m\n",
            "\u001b[?25hCollecting plotly-resampler>=0.8.3.1 (from pycaret)\n",
            "  Downloading plotly_resampler-0.8.3.2.tar.gz (46 kB)\n",
            "\u001b[2K     \u001b[90m━━━━━━━━━━━━━━━━━━━━━━━━━━━━━━━━━━━━━━━━\u001b[0m \u001b[32m46.4/46.4 kB\u001b[0m \u001b[31m4.1 MB/s\u001b[0m eta \u001b[36m0:00:00\u001b[0m\n",
            "\u001b[?25h  Installing build dependencies ... \u001b[?25l\u001b[?25hdone\n",
            "  Getting requirements to build wheel ... \u001b[?25l\u001b[?25hdone\n",
            "  Preparing metadata (pyproject.toml) ... \u001b[?25l\u001b[?25hdone\n",
            "Requirement already satisfied: statsmodels>=0.12.1 in /usr/local/lib/python3.10/dist-packages (from pycaret) (0.13.5)\n",
            "Collecting sktime!=0.17.1,<0.17.2,>=0.16.1 (from pycaret)\n",
            "  Downloading sktime-0.17.0-py3-none-any.whl (16.1 MB)\n",
            "\u001b[2K     \u001b[90m━━━━━━━━━━━━━━━━━━━━━━━━━━━━━━━━━━━━━━━━\u001b[0m \u001b[32m16.1/16.1 MB\u001b[0m \u001b[31m23.3 MB/s\u001b[0m eta \u001b[36m0:00:00\u001b[0m\n",
            "\u001b[?25hCollecting tbats>=1.1.3 (from pycaret)\n",
            "  Downloading tbats-1.1.3-py3-none-any.whl (44 kB)\n",
            "\u001b[2K     \u001b[90m━━━━━━━━━━━━━━━━━━━━━━━━━━━━━━━━━━━━━━━━\u001b[0m \u001b[32m44.0/44.0 kB\u001b[0m \u001b[31m4.3 MB/s\u001b[0m eta \u001b[36m0:00:00\u001b[0m\n",
            "\u001b[?25hCollecting pmdarima!=1.8.1,<3.0.0,>=1.8.0 (from pycaret)\n",
            "  Downloading pmdarima-2.0.3-cp310-cp310-manylinux_2_17_x86_64.manylinux2014_x86_64.manylinux_2_28_x86_64.whl (1.8 MB)\n",
            "\u001b[2K     \u001b[90m━━━━━━━━━━━━━━━━━━━━━━━━━━━━━━━━━━━━━━━━\u001b[0m \u001b[32m1.8/1.8 MB\u001b[0m \u001b[31m77.5 MB/s\u001b[0m eta \u001b[36m0:00:00\u001b[0m\n",
            "\u001b[?25hCollecting wurlitzer (from pycaret)\n",
            "  Downloading wurlitzer-3.0.3-py3-none-any.whl (7.3 kB)\n",
            "Requirement already satisfied: patsy>=0.5.1 in /usr/local/lib/python3.10/dist-packages (from category-encoders>=2.4.0->pycaret) (0.5.3)\n",
            "Requirement already satisfied: packaging in /usr/local/lib/python3.10/dist-packages (from deprecation>=2.1.0->pycaret) (23.1)\n",
            "Requirement already satisfied: threadpoolctl>=2.0.0 in /usr/local/lib/python3.10/dist-packages (from imbalanced-learn>=0.8.1->pycaret) (3.1.0)\n",
            "Requirement already satisfied: zipp>=0.5 in /usr/local/lib/python3.10/dist-packages (from importlib-metadata>=4.12.0->pycaret) (3.15.0)\n",
            "Requirement already satisfied: setuptools>=18.5 in /usr/local/lib/python3.10/dist-packages (from ipython>=5.5.0->pycaret) (67.7.2)\n",
            "Collecting jedi>=0.16 (from ipython>=5.5.0->pycaret)\n",
            "  Downloading jedi-0.18.2-py2.py3-none-any.whl (1.6 MB)\n",
            "\u001b[2K     \u001b[90m━━━━━━━━━━━━━━━━━━━━━━━━━━━━━━━━━━━━━━━━\u001b[0m \u001b[32m1.6/1.6 MB\u001b[0m \u001b[31m68.6 MB/s\u001b[0m eta \u001b[36m0:00:00\u001b[0m\n",
            "\u001b[?25hRequirement already satisfied: decorator in /usr/local/lib/python3.10/dist-packages (from ipython>=5.5.0->pycaret) (4.4.2)\n",
            "Requirement already satisfied: pickleshare in /usr/local/lib/python3.10/dist-packages (from ipython>=5.5.0->pycaret) (0.7.5)\n",
            "Requirement already satisfied: traitlets>=4.2 in /usr/local/lib/python3.10/dist-packages (from ipython>=5.5.0->pycaret) (5.7.1)\n",
            "Requirement already satisfied: prompt-toolkit!=3.0.0,!=3.0.1,<3.1.0,>=2.0.0 in /usr/local/lib/python3.10/dist-packages (from ipython>=5.5.0->pycaret) (3.0.38)\n",
            "Requirement already satisfied: pygments in /usr/local/lib/python3.10/dist-packages (from ipython>=5.5.0->pycaret) (2.14.0)\n",
            "Requirement already satisfied: backcall in /usr/local/lib/python3.10/dist-packages (from ipython>=5.5.0->pycaret) (0.2.0)\n",
            "Requirement already satisfied: matplotlib-inline in /usr/local/lib/python3.10/dist-packages (from ipython>=5.5.0->pycaret) (0.1.6)\n",
            "Requirement already satisfied: pexpect>4.3 in /usr/local/lib/python3.10/dist-packages (from ipython>=5.5.0->pycaret) (4.8.0)\n",
            "Requirement already satisfied: ipykernel>=4.5.1 in /usr/local/lib/python3.10/dist-packages (from ipywidgets>=7.6.5->pycaret) (5.5.6)\n",
            "Requirement already satisfied: ipython-genutils~=0.2.0 in /usr/local/lib/python3.10/dist-packages (from ipywidgets>=7.6.5->pycaret) (0.2.0)\n",
            "Requirement already satisfied: widgetsnbextension~=3.6.0 in /usr/local/lib/python3.10/dist-packages (from ipywidgets>=7.6.5->pycaret) (3.6.4)\n",
            "Requirement already satisfied: jupyterlab-widgets>=1.0.0 in /usr/local/lib/python3.10/dist-packages (from ipywidgets>=7.6.5->pycaret) (3.0.7)\n",
            "Requirement already satisfied: wheel in /usr/local/lib/python3.10/dist-packages (from lightgbm>=3.0.0->pycaret) (0.40.0)\n",
            "Requirement already satisfied: contourpy>=1.0.1 in /usr/local/lib/python3.10/dist-packages (from matplotlib>=3.3.0->pycaret) (1.0.7)\n",
            "Requirement already satisfied: cycler>=0.10 in /usr/local/lib/python3.10/dist-packages (from matplotlib>=3.3.0->pycaret) (0.11.0)\n",
            "Requirement already satisfied: fonttools>=4.22.0 in /usr/local/lib/python3.10/dist-packages (from matplotlib>=3.3.0->pycaret) (4.39.3)\n",
            "Requirement already satisfied: kiwisolver>=1.0.1 in /usr/local/lib/python3.10/dist-packages (from matplotlib>=3.3.0->pycaret) (1.4.4)\n",
            "Requirement already satisfied: pillow>=6.2.0 in /usr/local/lib/python3.10/dist-packages (from matplotlib>=3.3.0->pycaret) (8.4.0)\n",
            "Requirement already satisfied: pyparsing>=2.3.1 in /usr/local/lib/python3.10/dist-packages (from matplotlib>=3.3.0->pycaret) (3.0.9)\n",
            "Requirement already satisfied: python-dateutil>=2.7 in /usr/local/lib/python3.10/dist-packages (from matplotlib>=3.3.0->pycaret) (2.8.2)\n",
            "Requirement already satisfied: fastjsonschema in /usr/local/lib/python3.10/dist-packages (from nbformat>=4.2.0->pycaret) (2.16.3)\n",
            "Requirement already satisfied: jsonschema>=2.6 in /usr/local/lib/python3.10/dist-packages (from nbformat>=4.2.0->pycaret) (4.3.3)\n",
            "Requirement already satisfied: jupyter-core in /usr/local/lib/python3.10/dist-packages (from nbformat>=4.2.0->pycaret) (5.3.0)\n",
            "Requirement already satisfied: llvmlite<0.40,>=0.39.0dev0 in /usr/local/lib/python3.10/dist-packages (from numba>=0.55.0->pycaret) (0.39.1)\n",
            "Requirement already satisfied: pytz>=2020.1 in /usr/local/lib/python3.10/dist-packages (from pandas<2.0.0,>=1.3.0->pycaret) (2022.7.1)\n",
            "Requirement already satisfied: tenacity>=6.2.0 in /usr/local/lib/python3.10/dist-packages (from plotly>=5.0.0->pycaret) (8.2.2)\n",
            "Collecting dash<3.0.0,>=2.2.0 (from plotly-resampler>=0.8.3.1->pycaret)\n",
            "  Downloading dash-2.10.0-py3-none-any.whl (10.3 MB)\n",
            "\u001b[2K     \u001b[90m━━━━━━━━━━━━━━━━━━━━━━━━━━━━━━━━━━━━━━━━\u001b[0m \u001b[32m10.3/10.3 MB\u001b[0m \u001b[31m84.9 MB/s\u001b[0m eta \u001b[36m0:00:00\u001b[0m\n",
            "\u001b[?25hCollecting jupyter-dash>=0.4.2 (from plotly-resampler>=0.8.3.1->pycaret)\n",
            "  Downloading jupyter_dash-0.4.2-py3-none-any.whl (23 kB)\n",
            "Collecting orjson<4.0.0,>=3.8.0 (from plotly-resampler>=0.8.3.1->pycaret)\n",
            "  Downloading orjson-3.8.14-cp310-cp310-manylinux_2_17_x86_64.manylinux2014_x86_64.whl (136 kB)\n",
            "\u001b[2K     \u001b[90m━━━━━━━━━━━━━━━━━━━━━━━━━━━━━━━━━━━━━━\u001b[0m \u001b[32m136.6/136.6 kB\u001b[0m \u001b[31m14.0 MB/s\u001b[0m eta \u001b[36m0:00:00\u001b[0m\n",
            "\u001b[?25hCollecting trace-updater>=0.0.8 (from plotly-resampler>=0.8.3.1->pycaret)\n",
            "  Downloading trace_updater-0.0.9.1-py3-none-any.whl (185 kB)\n",
            "\u001b[2K     \u001b[90m━━━━━━━━━━━━━━━━━━━━━━━━━━━━━━━━━━━━━━\u001b[0m \u001b[32m185.2/185.2 kB\u001b[0m \u001b[31m17.7 MB/s\u001b[0m eta \u001b[36m0:00:00\u001b[0m\n",
            "\u001b[?25hRequirement already satisfied: Cython!=0.29.18,!=0.29.31,>=0.29 in /usr/local/lib/python3.10/dist-packages (from pmdarima!=1.8.1,<3.0.0,>=1.8.0->pycaret) (0.29.34)\n",
            "Requirement already satisfied: urllib3 in /usr/local/lib/python3.10/dist-packages (from pmdarima!=1.8.1,<3.0.0,>=1.8.0->pycaret) (1.26.15)\n",
            "Requirement already satisfied: six in /usr/local/lib/python3.10/dist-packages (from pyod>=1.0.8->pycaret) (1.16.0)\n",
            "Requirement already satisfied: certifi>=2017.4.17 in /usr/local/lib/python3.10/dist-packages (from requests>=2.27.1->pycaret) (2022.12.7)\n",
            "Requirement already satisfied: charset-normalizer~=2.0.0 in /usr/local/lib/python3.10/dist-packages (from requests>=2.27.1->pycaret) (2.0.12)\n",
            "Requirement already satisfied: idna<4,>=2.5 in /usr/local/lib/python3.10/dist-packages (from requests>=2.27.1->pycaret) (3.4)\n",
            "Collecting deprecated>=1.2.13 (from sktime!=0.17.1,<0.17.2,>=0.16.1->pycaret)\n",
            "  Downloading Deprecated-1.2.14-py2.py3-none-any.whl (9.6 kB)\n",
            "Collecting Flask<=2.2.3,>=1.0.4 (from dash<3.0.0,>=2.2.0->plotly-resampler>=0.8.3.1->pycaret)\n",
            "  Downloading Flask-2.2.3-py3-none-any.whl (101 kB)\n",
            "\u001b[2K     \u001b[90m━━━━━━━━━━━━━━━━━━━━━━━━━━━━━━━━━━━━━━━\u001b[0m \u001b[32m101.8/101.8 kB\u001b[0m \u001b[31m9.3 MB/s\u001b[0m eta \u001b[36m0:00:00\u001b[0m\n",
            "\u001b[?25hCollecting Werkzeug<=2.2.3 (from dash<3.0.0,>=2.2.0->plotly-resampler>=0.8.3.1->pycaret)\n",
            "  Downloading Werkzeug-2.2.3-py3-none-any.whl (233 kB)\n",
            "\u001b[2K     \u001b[90m━━━━━━━━━━━━━━━━━━━━━━━━━━━━━━━━━━━━━━\u001b[0m \u001b[32m233.6/233.6 kB\u001b[0m \u001b[31m20.6 MB/s\u001b[0m eta \u001b[36m0:00:00\u001b[0m\n",
            "\u001b[?25hCollecting dash-html-components==2.0.0 (from dash<3.0.0,>=2.2.0->plotly-resampler>=0.8.3.1->pycaret)\n",
            "  Downloading dash_html_components-2.0.0-py3-none-any.whl (4.1 kB)\n",
            "Collecting dash-core-components==2.0.0 (from dash<3.0.0,>=2.2.0->plotly-resampler>=0.8.3.1->pycaret)\n",
            "  Downloading dash_core_components-2.0.0-py3-none-any.whl (3.8 kB)\n",
            "Collecting dash-table==5.0.0 (from dash<3.0.0,>=2.2.0->plotly-resampler>=0.8.3.1->pycaret)\n",
            "  Downloading dash_table-5.0.0-py3-none-any.whl (3.9 kB)\n",
            "Requirement already satisfied: wrapt<2,>=1.10 in /usr/local/lib/python3.10/dist-packages (from deprecated>=1.2.13->sktime!=0.17.1,<0.17.2,>=0.16.1->pycaret) (1.14.1)\n",
            "Requirement already satisfied: jupyter-client in /usr/local/lib/python3.10/dist-packages (from ipykernel>=4.5.1->ipywidgets>=7.6.5->pycaret) (6.1.12)\n",
            "Requirement already satisfied: tornado>=4.2 in /usr/local/lib/python3.10/dist-packages (from ipykernel>=4.5.1->ipywidgets>=7.6.5->pycaret) (6.3.1)\n",
            "Requirement already satisfied: parso<0.9.0,>=0.8.0 in /usr/local/lib/python3.10/dist-packages (from jedi>=0.16->ipython>=5.5.0->pycaret) (0.8.3)\n",
            "Requirement already satisfied: attrs>=17.4.0 in /usr/local/lib/python3.10/dist-packages (from jsonschema>=2.6->nbformat>=4.2.0->pycaret) (23.1.0)\n",
            "Requirement already satisfied: pyrsistent!=0.17.0,!=0.17.1,!=0.17.2,>=0.14.0 in /usr/local/lib/python3.10/dist-packages (from jsonschema>=2.6->nbformat>=4.2.0->pycaret) (0.19.3)\n",
            "Collecting retrying (from jupyter-dash>=0.4.2->plotly-resampler>=0.8.3.1->pycaret)\n",
            "  Downloading retrying-1.3.4-py3-none-any.whl (11 kB)\n",
            "Collecting ansi2html (from jupyter-dash>=0.4.2->plotly-resampler>=0.8.3.1->pycaret)\n",
            "  Downloading ansi2html-1.8.0-py3-none-any.whl (16 kB)\n",
            "Requirement already satisfied: nest-asyncio in /usr/local/lib/python3.10/dist-packages (from jupyter-dash>=0.4.2->plotly-resampler>=0.8.3.1->pycaret) (1.5.6)\n",
            "Requirement already satisfied: ptyprocess>=0.5 in /usr/local/lib/python3.10/dist-packages (from pexpect>4.3->ipython>=5.5.0->pycaret) (0.7.0)\n",
            "Requirement already satisfied: wcwidth in /usr/local/lib/python3.10/dist-packages (from prompt-toolkit!=3.0.0,!=3.0.1,<3.1.0,>=2.0.0->ipython>=5.5.0->pycaret) (0.2.6)\n",
            "Requirement already satisfied: notebook>=4.4.1 in /usr/local/lib/python3.10/dist-packages (from widgetsnbextension~=3.6.0->ipywidgets>=7.6.5->pycaret) (6.4.8)\n",
            "Requirement already satisfied: platformdirs>=2.5 in /usr/local/lib/python3.10/dist-packages (from jupyter-core->nbformat>=4.2.0->pycaret) (3.3.0)\n",
            "Requirement already satisfied: itsdangerous>=2.0 in /usr/local/lib/python3.10/dist-packages (from Flask<=2.2.3,>=1.0.4->dash<3.0.0,>=2.2.0->plotly-resampler>=0.8.3.1->pycaret) (2.1.2)\n",
            "Requirement already satisfied: click>=8.0 in /usr/local/lib/python3.10/dist-packages (from Flask<=2.2.3,>=1.0.4->dash<3.0.0,>=2.2.0->plotly-resampler>=0.8.3.1->pycaret) (8.1.3)\n",
            "Requirement already satisfied: pyzmq>=17 in /usr/local/lib/python3.10/dist-packages (from notebook>=4.4.1->widgetsnbextension~=3.6.0->ipywidgets>=7.6.5->pycaret) (23.2.1)\n",
            "Requirement already satisfied: argon2-cffi in /usr/local/lib/python3.10/dist-packages (from notebook>=4.4.1->widgetsnbextension~=3.6.0->ipywidgets>=7.6.5->pycaret) (21.3.0)\n",
            "Requirement already satisfied: nbconvert in /usr/local/lib/python3.10/dist-packages (from notebook>=4.4.1->widgetsnbextension~=3.6.0->ipywidgets>=7.6.5->pycaret) (6.5.4)\n",
            "Requirement already satisfied: Send2Trash>=1.8.0 in /usr/local/lib/python3.10/dist-packages (from notebook>=4.4.1->widgetsnbextension~=3.6.0->ipywidgets>=7.6.5->pycaret) (1.8.0)\n",
            "Requirement already satisfied: terminado>=0.8.3 in /usr/local/lib/python3.10/dist-packages (from notebook>=4.4.1->widgetsnbextension~=3.6.0->ipywidgets>=7.6.5->pycaret) (0.17.1)\n",
            "Requirement already satisfied: prometheus-client in /usr/local/lib/python3.10/dist-packages (from notebook>=4.4.1->widgetsnbextension~=3.6.0->ipywidgets>=7.6.5->pycaret) (0.16.0)\n",
            "Requirement already satisfied: argon2-cffi-bindings in /usr/local/lib/python3.10/dist-packages (from argon2-cffi->notebook>=4.4.1->widgetsnbextension~=3.6.0->ipywidgets>=7.6.5->pycaret) (21.2.0)\n",
            "Requirement already satisfied: lxml in /usr/local/lib/python3.10/dist-packages (from nbconvert->notebook>=4.4.1->widgetsnbextension~=3.6.0->ipywidgets>=7.6.5->pycaret) (4.9.2)\n",
            "Requirement already satisfied: beautifulsoup4 in /usr/local/lib/python3.10/dist-packages (from nbconvert->notebook>=4.4.1->widgetsnbextension~=3.6.0->ipywidgets>=7.6.5->pycaret) (4.11.2)\n",
            "Requirement already satisfied: bleach in /usr/local/lib/python3.10/dist-packages (from nbconvert->notebook>=4.4.1->widgetsnbextension~=3.6.0->ipywidgets>=7.6.5->pycaret) (6.0.0)\n",
            "Requirement already satisfied: defusedxml in /usr/local/lib/python3.10/dist-packages (from nbconvert->notebook>=4.4.1->widgetsnbextension~=3.6.0->ipywidgets>=7.6.5->pycaret) (0.7.1)\n",
            "Requirement already satisfied: entrypoints>=0.2.2 in /usr/local/lib/python3.10/dist-packages (from nbconvert->notebook>=4.4.1->widgetsnbextension~=3.6.0->ipywidgets>=7.6.5->pycaret) (0.4)\n",
            "Requirement already satisfied: jupyterlab-pygments in /usr/local/lib/python3.10/dist-packages (from nbconvert->notebook>=4.4.1->widgetsnbextension~=3.6.0->ipywidgets>=7.6.5->pycaret) (0.2.2)\n",
            "Requirement already satisfied: mistune<2,>=0.8.1 in /usr/local/lib/python3.10/dist-packages (from nbconvert->notebook>=4.4.1->widgetsnbextension~=3.6.0->ipywidgets>=7.6.5->pycaret) (0.8.4)\n",
            "Requirement already satisfied: nbclient>=0.5.0 in /usr/local/lib/python3.10/dist-packages (from nbconvert->notebook>=4.4.1->widgetsnbextension~=3.6.0->ipywidgets>=7.6.5->pycaret) (0.7.4)\n",
            "Requirement already satisfied: pandocfilters>=1.4.1 in /usr/local/lib/python3.10/dist-packages (from nbconvert->notebook>=4.4.1->widgetsnbextension~=3.6.0->ipywidgets>=7.6.5->pycaret) (1.5.0)\n",
            "Requirement already satisfied: tinycss2 in /usr/local/lib/python3.10/dist-packages (from nbconvert->notebook>=4.4.1->widgetsnbextension~=3.6.0->ipywidgets>=7.6.5->pycaret) (1.2.1)\n",
            "Requirement already satisfied: cffi>=1.0.1 in /usr/local/lib/python3.10/dist-packages (from argon2-cffi-bindings->argon2-cffi->notebook>=4.4.1->widgetsnbextension~=3.6.0->ipywidgets>=7.6.5->pycaret) (1.15.1)\n",
            "Requirement already satisfied: soupsieve>1.2 in /usr/local/lib/python3.10/dist-packages (from beautifulsoup4->nbconvert->notebook>=4.4.1->widgetsnbextension~=3.6.0->ipywidgets>=7.6.5->pycaret) (2.4.1)\n",
            "Requirement already satisfied: webencodings in /usr/local/lib/python3.10/dist-packages (from bleach->nbconvert->notebook>=4.4.1->widgetsnbextension~=3.6.0->ipywidgets>=7.6.5->pycaret) (0.5.1)\n",
            "Requirement already satisfied: pycparser in /usr/local/lib/python3.10/dist-packages (from cffi>=1.0.1->argon2-cffi-bindings->argon2-cffi->notebook>=4.4.1->widgetsnbextension~=3.6.0->ipywidgets>=7.6.5->pycaret) (2.21)\n",
            "Building wheels for collected packages: plotly-resampler, pyod\n",
            "  Building wheel for plotly-resampler (pyproject.toml) ... \u001b[?25l\u001b[?25hdone\n",
            "  Created wheel for plotly-resampler: filename=plotly_resampler-0.8.3.2-cp310-cp310-manylinux_2_31_x86_64.whl size=75232 sha256=9fa6650152c0f4124eee9ee74acd4849fd6f88c60c139c2a7e5c730278e781e1\n",
            "  Stored in directory: /root/.cache/pip/wheels/a9/19/e2/ec856d98cf9b617511fff0abae1dfed5bf1f6093ce65126b45\n",
            "  Building wheel for pyod (setup.py) ... \u001b[?25l\u001b[?25hdone\n",
            "  Created wheel for pyod: filename=pyod-1.0.9-py3-none-any.whl size=184097 sha256=e279702eb81d4a3cf73778d477ed3a1d46fc002d20133249645471a303688c9b\n",
            "  Stored in directory: /root/.cache/pip/wheels/83/55/6b/552e083cf5509c0afe808b76cf434f1be284d01a112623bd37\n",
            "Successfully built plotly-resampler pyod\n",
            "Installing collected packages: trace-updater, kaleido, dash-table, dash-html-components, dash-core-components, xxhash, wurlitzer, Werkzeug, schemdraw, retrying, orjson, jedi, importlib-metadata, deprecation, deprecated, ansi2html, Flask, sktime, scikit-plot, pyod, dash, pmdarima, jupyter-dash, category-encoders, tbats, plotly-resampler, pycaret\n",
            "  Attempting uninstall: Werkzeug\n",
            "    Found existing installation: Werkzeug 2.3.0\n",
            "    Uninstalling Werkzeug-2.3.0:\n",
            "      Successfully uninstalled Werkzeug-2.3.0\n",
            "  Attempting uninstall: Flask\n",
            "    Found existing installation: Flask 2.2.4\n",
            "    Uninstalling Flask-2.2.4:\n",
            "      Successfully uninstalled Flask-2.2.4\n",
            "Successfully installed Flask-2.2.3 Werkzeug-2.2.3 ansi2html-1.8.0 category-encoders-2.6.1 dash-2.10.0 dash-core-components-2.0.0 dash-html-components-2.0.0 dash-table-5.0.0 deprecated-1.2.14 deprecation-2.1.0 importlib-metadata-6.6.0 jedi-0.18.2 jupyter-dash-0.4.2 kaleido-0.2.1 orjson-3.8.14 plotly-resampler-0.8.3.2 pmdarima-2.0.3 pycaret-3.0.2 pyod-1.0.9 retrying-1.3.4 schemdraw-0.15 scikit-plot-0.3.7 sktime-0.17.0 tbats-1.1.3 trace-updater-0.0.9.1 wurlitzer-3.0.3 xxhash-3.2.0\n"
          ]
        }
      ],
      "source": [
        "!pip install pycaret"
      ]
    },
    {
      "cell_type": "code",
      "execution_count": null,
      "metadata": {
        "colab": {
          "base_uri": "https://localhost:8080/"
        },
        "id": "bd9IRWzXOmr6",
        "outputId": "504f0e0a-8b93-4584-c8d7-3098373c9a6d"
      },
      "outputs": [
        {
          "name": "stdout",
          "output_type": "stream",
          "text": [
            "Looking in indexes: https://pypi.org/simple, https://us-python.pkg.dev/colab-wheels/public/simple/\n",
            "Collecting mlflow\n",
            "  Downloading mlflow-2.3.2-py3-none-any.whl (17.7 MB)\n",
            "\u001b[2K     \u001b[90m━━━━━━━━━━━━━━━━━━━━━━━━━━━━━━━━━━━━━━━━\u001b[0m \u001b[32m17.7/17.7 MB\u001b[0m \u001b[31m39.7 MB/s\u001b[0m eta \u001b[36m0:00:00\u001b[0m\n",
            "\u001b[?25hRequirement already satisfied: click<9,>=7.0 in /usr/local/lib/python3.10/dist-packages (from mlflow) (8.1.3)\n",
            "Requirement already satisfied: cloudpickle<3 in /usr/local/lib/python3.10/dist-packages (from mlflow) (2.2.1)\n",
            "Collecting databricks-cli<1,>=0.8.7 (from mlflow)\n",
            "  Downloading databricks-cli-0.17.7.tar.gz (83 kB)\n",
            "\u001b[2K     \u001b[90m━━━━━━━━━━━━━━━━━━━━━━━━━━━━━━━━━━━━━━━━\u001b[0m \u001b[32m83.5/83.5 kB\u001b[0m \u001b[31m9.1 MB/s\u001b[0m eta \u001b[36m0:00:00\u001b[0m\n",
            "\u001b[?25h  Preparing metadata (setup.py) ... \u001b[?25l\u001b[?25hdone\n",
            "Requirement already satisfied: entrypoints<1 in /usr/local/lib/python3.10/dist-packages (from mlflow) (0.4)\n",
            "Collecting gitpython<4,>=2.1.0 (from mlflow)\n",
            "  Downloading GitPython-3.1.31-py3-none-any.whl (184 kB)\n",
            "\u001b[2K     \u001b[90m━━━━━━━━━━━━━━━━━━━━━━━━━━━━━━━━━━━━━━\u001b[0m \u001b[32m184.3/184.3 kB\u001b[0m \u001b[31m17.2 MB/s\u001b[0m eta \u001b[36m0:00:00\u001b[0m\n",
            "\u001b[?25hRequirement already satisfied: pyyaml<7,>=5.1 in /usr/local/lib/python3.10/dist-packages (from mlflow) (6.0)\n",
            "Requirement already satisfied: protobuf<5,>=3.12.0 in /usr/local/lib/python3.10/dist-packages (from mlflow) (3.20.3)\n",
            "Requirement already satisfied: pytz<2024 in /usr/local/lib/python3.10/dist-packages (from mlflow) (2022.7.1)\n",
            "Requirement already satisfied: requests<3,>=2.17.3 in /usr/local/lib/python3.10/dist-packages (from mlflow) (2.27.1)\n",
            "Requirement already satisfied: packaging<24 in /usr/local/lib/python3.10/dist-packages (from mlflow) (23.1)\n",
            "Requirement already satisfied: importlib-metadata!=4.7.0,<7,>=3.7.0 in /usr/local/lib/python3.10/dist-packages (from mlflow) (6.6.0)\n",
            "Requirement already satisfied: sqlparse<1,>=0.4.0 in /usr/local/lib/python3.10/dist-packages (from mlflow) (0.4.4)\n",
            "Collecting alembic!=1.10.0,<2 (from mlflow)\n",
            "  Downloading alembic-1.11.1-py3-none-any.whl (224 kB)\n",
            "\u001b[2K     \u001b[90m━━━━━━━━━━━━━━━━━━━━━━━━━━━━━━━━━━━━━━\u001b[0m \u001b[32m224.5/224.5 kB\u001b[0m \u001b[31m18.1 MB/s\u001b[0m eta \u001b[36m0:00:00\u001b[0m\n",
            "\u001b[?25hCollecting docker<7,>=4.0.0 (from mlflow)\n",
            "  Downloading docker-6.1.2-py3-none-any.whl (148 kB)\n",
            "\u001b[2K     \u001b[90m━━━━━━━━━━━━━━━━━━━━━━━━━━━━━━━━━━━━━━\u001b[0m \u001b[32m148.1/148.1 kB\u001b[0m \u001b[31m13.3 MB/s\u001b[0m eta \u001b[36m0:00:00\u001b[0m\n",
            "\u001b[?25hRequirement already satisfied: Flask<3 in /usr/local/lib/python3.10/dist-packages (from mlflow) (2.2.3)\n",
            "Requirement already satisfied: numpy<2 in /usr/local/lib/python3.10/dist-packages (from mlflow) (1.22.4)\n",
            "Requirement already satisfied: scipy<2 in /usr/local/lib/python3.10/dist-packages (from mlflow) (1.10.1)\n",
            "Requirement already satisfied: pandas<3 in /usr/local/lib/python3.10/dist-packages (from mlflow) (1.5.3)\n",
            "Collecting querystring-parser<2 (from mlflow)\n",
            "  Downloading querystring_parser-1.2.4-py2.py3-none-any.whl (7.9 kB)\n",
            "Requirement already satisfied: sqlalchemy<3,>=1.4.0 in /usr/local/lib/python3.10/dist-packages (from mlflow) (2.0.10)\n",
            "Requirement already satisfied: scikit-learn<2 in /usr/local/lib/python3.10/dist-packages (from mlflow) (1.2.2)\n",
            "Requirement already satisfied: pyarrow<12,>=4.0.0 in /usr/local/lib/python3.10/dist-packages (from mlflow) (9.0.0)\n",
            "Requirement already satisfied: markdown<4,>=3.3 in /usr/local/lib/python3.10/dist-packages (from mlflow) (3.4.3)\n",
            "Requirement already satisfied: matplotlib<4 in /usr/local/lib/python3.10/dist-packages (from mlflow) (3.7.1)\n",
            "Collecting gunicorn<21 (from mlflow)\n",
            "  Downloading gunicorn-20.1.0-py3-none-any.whl (79 kB)\n",
            "\u001b[2K     \u001b[90m━━━━━━━━━━━━━━━━━━━━━━━━━━━━━━━━━━━━━━━━\u001b[0m \u001b[32m79.5/79.5 kB\u001b[0m \u001b[31m7.8 MB/s\u001b[0m eta \u001b[36m0:00:00\u001b[0m\n",
            "\u001b[?25hRequirement already satisfied: Jinja2<4,>=2.11 in /usr/local/lib/python3.10/dist-packages (from mlflow) (3.1.2)\n",
            "Collecting Mako (from alembic!=1.10.0,<2->mlflow)\n",
            "  Downloading Mako-1.2.4-py3-none-any.whl (78 kB)\n",
            "\u001b[2K     \u001b[90m━━━━━━━━━━━━━━━━━━━━━━━━━━━━━━━━━━━━━━━━\u001b[0m \u001b[32m78.7/78.7 kB\u001b[0m \u001b[31m7.4 MB/s\u001b[0m eta \u001b[36m0:00:00\u001b[0m\n",
            "\u001b[?25hRequirement already satisfied: typing-extensions>=4 in /usr/local/lib/python3.10/dist-packages (from alembic!=1.10.0,<2->mlflow) (4.5.0)\n",
            "Collecting pyjwt>=1.7.0 (from databricks-cli<1,>=0.8.7->mlflow)\n",
            "  Downloading PyJWT-2.7.0-py3-none-any.whl (22 kB)\n",
            "Requirement already satisfied: oauthlib>=3.1.0 in /usr/local/lib/python3.10/dist-packages (from databricks-cli<1,>=0.8.7->mlflow) (3.2.2)\n",
            "Requirement already satisfied: tabulate>=0.7.7 in /usr/local/lib/python3.10/dist-packages (from databricks-cli<1,>=0.8.7->mlflow) (0.8.10)\n",
            "Requirement already satisfied: six>=1.10.0 in /usr/local/lib/python3.10/dist-packages (from databricks-cli<1,>=0.8.7->mlflow) (1.16.0)\n",
            "Requirement already satisfied: urllib3<2.0.0,>=1.26.7 in /usr/local/lib/python3.10/dist-packages (from databricks-cli<1,>=0.8.7->mlflow) (1.26.15)\n",
            "Requirement already satisfied: websocket-client>=0.32.0 in /usr/local/lib/python3.10/dist-packages (from docker<7,>=4.0.0->mlflow) (1.5.1)\n",
            "Requirement already satisfied: Werkzeug>=2.2.2 in /usr/local/lib/python3.10/dist-packages (from Flask<3->mlflow) (2.2.3)\n",
            "Requirement already satisfied: itsdangerous>=2.0 in /usr/local/lib/python3.10/dist-packages (from Flask<3->mlflow) (2.1.2)\n",
            "Collecting gitdb<5,>=4.0.1 (from gitpython<4,>=2.1.0->mlflow)\n",
            "  Downloading gitdb-4.0.10-py3-none-any.whl (62 kB)\n",
            "\u001b[2K     \u001b[90m━━━━━━━━━━━━━━━━━━━━━━━━━━━━━━━━━━━━━━━━\u001b[0m \u001b[32m62.7/62.7 kB\u001b[0m \u001b[31m6.2 MB/s\u001b[0m eta \u001b[36m0:00:00\u001b[0m\n",
            "\u001b[?25hRequirement already satisfied: setuptools>=3.0 in /usr/local/lib/python3.10/dist-packages (from gunicorn<21->mlflow) (67.7.2)\n",
            "Requirement already satisfied: zipp>=0.5 in /usr/local/lib/python3.10/dist-packages (from importlib-metadata!=4.7.0,<7,>=3.7.0->mlflow) (3.15.0)\n",
            "Requirement already satisfied: MarkupSafe>=2.0 in /usr/local/lib/python3.10/dist-packages (from Jinja2<4,>=2.11->mlflow) (2.1.2)\n",
            "Requirement already satisfied: contourpy>=1.0.1 in /usr/local/lib/python3.10/dist-packages (from matplotlib<4->mlflow) (1.0.7)\n",
            "Requirement already satisfied: cycler>=0.10 in /usr/local/lib/python3.10/dist-packages (from matplotlib<4->mlflow) (0.11.0)\n",
            "Requirement already satisfied: fonttools>=4.22.0 in /usr/local/lib/python3.10/dist-packages (from matplotlib<4->mlflow) (4.39.3)\n",
            "Requirement already satisfied: kiwisolver>=1.0.1 in /usr/local/lib/python3.10/dist-packages (from matplotlib<4->mlflow) (1.4.4)\n",
            "Requirement already satisfied: pillow>=6.2.0 in /usr/local/lib/python3.10/dist-packages (from matplotlib<4->mlflow) (8.4.0)\n",
            "Requirement already satisfied: pyparsing>=2.3.1 in /usr/local/lib/python3.10/dist-packages (from matplotlib<4->mlflow) (3.0.9)\n",
            "Requirement already satisfied: python-dateutil>=2.7 in /usr/local/lib/python3.10/dist-packages (from matplotlib<4->mlflow) (2.8.2)\n",
            "Requirement already satisfied: certifi>=2017.4.17 in /usr/local/lib/python3.10/dist-packages (from requests<3,>=2.17.3->mlflow) (2022.12.7)\n",
            "Requirement already satisfied: charset-normalizer~=2.0.0 in /usr/local/lib/python3.10/dist-packages (from requests<3,>=2.17.3->mlflow) (2.0.12)\n",
            "Requirement already satisfied: idna<4,>=2.5 in /usr/local/lib/python3.10/dist-packages (from requests<3,>=2.17.3->mlflow) (3.4)\n",
            "Requirement already satisfied: joblib>=1.1.1 in /usr/local/lib/python3.10/dist-packages (from scikit-learn<2->mlflow) (1.2.0)\n",
            "Requirement already satisfied: threadpoolctl>=2.0.0 in /usr/local/lib/python3.10/dist-packages (from scikit-learn<2->mlflow) (3.1.0)\n",
            "Requirement already satisfied: greenlet!=0.4.17 in /usr/local/lib/python3.10/dist-packages (from sqlalchemy<3,>=1.4.0->mlflow) (2.0.2)\n",
            "Collecting smmap<6,>=3.0.1 (from gitdb<5,>=4.0.1->gitpython<4,>=2.1.0->mlflow)\n",
            "  Downloading smmap-5.0.0-py3-none-any.whl (24 kB)\n",
            "Building wheels for collected packages: databricks-cli\n",
            "  Building wheel for databricks-cli (setup.py) ... \u001b[?25l\u001b[?25hdone\n",
            "  Created wheel for databricks-cli: filename=databricks_cli-0.17.7-py3-none-any.whl size=143860 sha256=08397a5b251d445dc4f91d3394ee5849756ee4d7d2d62634a385c0ff884e5c9c\n",
            "  Stored in directory: /root/.cache/pip/wheels/ae/63/93/5402c1a09c1868a59d0b05013484e07af97a9d7b3dbd5bd39a\n",
            "Successfully built databricks-cli\n",
            "Installing collected packages: smmap, querystring-parser, pyjwt, Mako, gunicorn, gitdb, docker, databricks-cli, alembic, gitpython, mlflow\n",
            "Successfully installed Mako-1.2.4 alembic-1.11.1 databricks-cli-0.17.7 docker-6.1.2 gitdb-4.0.10 gitpython-3.1.31 gunicorn-20.1.0 mlflow-2.3.2 pyjwt-2.7.0 querystring-parser-1.2.4 smmap-5.0.0\n"
          ]
        }
      ],
      "source": [
        "!pip install mlflow"
      ]
    },
    {
      "cell_type": "code",
      "execution_count": null,
      "metadata": {
        "colab": {
          "base_uri": "https://localhost:8080/",
          "height": 1000,
          "referenced_widgets": [
            "3c065ef84adc431494f7bbaff8e89d99",
            "251aec7703cf41859f5e8fc3f85900ae",
            "c491e3cd97de40848b7a182dac6a5584",
            "5d7650e9c9064c23ac3b72d4b7378d1c",
            "caf525a9d8924b5a9f8921d85e29dc26",
            "661e2e67e99c456c81fc293828da9041",
            "531c434878c44291aa3bf6aeea11e260",
            "3638c5ae7a4c402f844f36f3e976fb02",
            "828316a9dd60437781d45deeafbb3124",
            "5fd30fb326fa4d3fbead67cfa3391035",
            "fa14a45582d34a5798e5210c228ceb7a"
          ]
        },
        "id": "-zNjSZGXNaLl",
        "outputId": "3ddb817e-82d3-43e7-c797-6d01952a3c9a"
      },
      "outputs": [
        {
          "data": {
            "text/html": [
              "<style type=\"text/css\">\n",
              "#T_d2d29_row11_col1, #T_d2d29_row17_col1 {\n",
              "  background-color: lightgreen;\n",
              "}\n",
              "</style>\n",
              "<table id=\"T_d2d29\" class=\"dataframe\">\n",
              "  <thead>\n",
              "    <tr>\n",
              "      <th class=\"blank level0\" >&nbsp;</th>\n",
              "      <th id=\"T_d2d29_level0_col0\" class=\"col_heading level0 col0\" >Description</th>\n",
              "      <th id=\"T_d2d29_level0_col1\" class=\"col_heading level0 col1\" >Value</th>\n",
              "    </tr>\n",
              "  </thead>\n",
              "  <tbody>\n",
              "    <tr>\n",
              "      <th id=\"T_d2d29_level0_row0\" class=\"row_heading level0 row0\" >0</th>\n",
              "      <td id=\"T_d2d29_row0_col0\" class=\"data row0 col0\" >Session id</td>\n",
              "      <td id=\"T_d2d29_row0_col1\" class=\"data row0 col1\" >6446</td>\n",
              "    </tr>\n",
              "    <tr>\n",
              "      <th id=\"T_d2d29_level0_row1\" class=\"row_heading level0 row1\" >1</th>\n",
              "      <td id=\"T_d2d29_row1_col0\" class=\"data row1 col0\" >Target</td>\n",
              "      <td id=\"T_d2d29_row1_col1\" class=\"data row1 col1\" >Rhythm</td>\n",
              "    </tr>\n",
              "    <tr>\n",
              "      <th id=\"T_d2d29_level0_row2\" class=\"row_heading level0 row2\" >2</th>\n",
              "      <td id=\"T_d2d29_row2_col0\" class=\"data row2 col0\" >Target type</td>\n",
              "      <td id=\"T_d2d29_row2_col1\" class=\"data row2 col1\" >Multiclass</td>\n",
              "    </tr>\n",
              "    <tr>\n",
              "      <th id=\"T_d2d29_level0_row3\" class=\"row_heading level0 row3\" >3</th>\n",
              "      <td id=\"T_d2d29_row3_col0\" class=\"data row3 col0\" >Target mapping</td>\n",
              "      <td id=\"T_d2d29_row3_col1\" class=\"data row3 col1\" >AF: 0, AFIB: 1, AT: 2, AVNRT: 3, AVRT: 4, SA: 5, SAAWR: 6, SB: 7, SR: 8, ST: 9, SVT: 10</td>\n",
              "    </tr>\n",
              "    <tr>\n",
              "      <th id=\"T_d2d29_level0_row4\" class=\"row_heading level0 row4\" >4</th>\n",
              "      <td id=\"T_d2d29_row4_col0\" class=\"data row4 col0\" >Original data shape</td>\n",
              "      <td id=\"T_d2d29_row4_col1\" class=\"data row4 col1\" >(10646, 16)</td>\n",
              "    </tr>\n",
              "    <tr>\n",
              "      <th id=\"T_d2d29_level0_row5\" class=\"row_heading level0 row5\" >5</th>\n",
              "      <td id=\"T_d2d29_row5_col0\" class=\"data row5 col0\" >Transformed data shape</td>\n",
              "      <td id=\"T_d2d29_row5_col1\" class=\"data row5 col1\" >(10646, 16)</td>\n",
              "    </tr>\n",
              "    <tr>\n",
              "      <th id=\"T_d2d29_level0_row6\" class=\"row_heading level0 row6\" >6</th>\n",
              "      <td id=\"T_d2d29_row6_col0\" class=\"data row6 col0\" >Transformed train set shape</td>\n",
              "      <td id=\"T_d2d29_row6_col1\" class=\"data row6 col1\" >(8516, 16)</td>\n",
              "    </tr>\n",
              "    <tr>\n",
              "      <th id=\"T_d2d29_level0_row7\" class=\"row_heading level0 row7\" >7</th>\n",
              "      <td id=\"T_d2d29_row7_col0\" class=\"data row7 col0\" >Transformed test set shape</td>\n",
              "      <td id=\"T_d2d29_row7_col1\" class=\"data row7 col1\" >(2130, 16)</td>\n",
              "    </tr>\n",
              "    <tr>\n",
              "      <th id=\"T_d2d29_level0_row8\" class=\"row_heading level0 row8\" >8</th>\n",
              "      <td id=\"T_d2d29_row8_col0\" class=\"data row8 col0\" >Ordinal features</td>\n",
              "      <td id=\"T_d2d29_row8_col1\" class=\"data row8 col1\" >1</td>\n",
              "    </tr>\n",
              "    <tr>\n",
              "      <th id=\"T_d2d29_level0_row9\" class=\"row_heading level0 row9\" >9</th>\n",
              "      <td id=\"T_d2d29_row9_col0\" class=\"data row9 col0\" >Numeric features</td>\n",
              "      <td id=\"T_d2d29_row9_col1\" class=\"data row9 col1\" >12</td>\n",
              "    </tr>\n",
              "    <tr>\n",
              "      <th id=\"T_d2d29_level0_row10\" class=\"row_heading level0 row10\" >10</th>\n",
              "      <td id=\"T_d2d29_row10_col0\" class=\"data row10 col0\" >Categorical features</td>\n",
              "      <td id=\"T_d2d29_row10_col1\" class=\"data row10 col1\" >3</td>\n",
              "    </tr>\n",
              "    <tr>\n",
              "      <th id=\"T_d2d29_level0_row11\" class=\"row_heading level0 row11\" >11</th>\n",
              "      <td id=\"T_d2d29_row11_col0\" class=\"data row11 col0\" >Preprocess</td>\n",
              "      <td id=\"T_d2d29_row11_col1\" class=\"data row11 col1\" >True</td>\n",
              "    </tr>\n",
              "    <tr>\n",
              "      <th id=\"T_d2d29_level0_row12\" class=\"row_heading level0 row12\" >12</th>\n",
              "      <td id=\"T_d2d29_row12_col0\" class=\"data row12 col0\" >Imputation type</td>\n",
              "      <td id=\"T_d2d29_row12_col1\" class=\"data row12 col1\" >simple</td>\n",
              "    </tr>\n",
              "    <tr>\n",
              "      <th id=\"T_d2d29_level0_row13\" class=\"row_heading level0 row13\" >13</th>\n",
              "      <td id=\"T_d2d29_row13_col0\" class=\"data row13 col0\" >Numeric imputation</td>\n",
              "      <td id=\"T_d2d29_row13_col1\" class=\"data row13 col1\" >mean</td>\n",
              "    </tr>\n",
              "    <tr>\n",
              "      <th id=\"T_d2d29_level0_row14\" class=\"row_heading level0 row14\" >14</th>\n",
              "      <td id=\"T_d2d29_row14_col0\" class=\"data row14 col0\" >Categorical imputation</td>\n",
              "      <td id=\"T_d2d29_row14_col1\" class=\"data row14 col1\" >mode</td>\n",
              "    </tr>\n",
              "    <tr>\n",
              "      <th id=\"T_d2d29_level0_row15\" class=\"row_heading level0 row15\" >15</th>\n",
              "      <td id=\"T_d2d29_row15_col0\" class=\"data row15 col0\" >Maximum one-hot encoding</td>\n",
              "      <td id=\"T_d2d29_row15_col1\" class=\"data row15 col1\" >25</td>\n",
              "    </tr>\n",
              "    <tr>\n",
              "      <th id=\"T_d2d29_level0_row16\" class=\"row_heading level0 row16\" >16</th>\n",
              "      <td id=\"T_d2d29_row16_col0\" class=\"data row16 col0\" >Encoding method</td>\n",
              "      <td id=\"T_d2d29_row16_col1\" class=\"data row16 col1\" >None</td>\n",
              "    </tr>\n",
              "    <tr>\n",
              "      <th id=\"T_d2d29_level0_row17\" class=\"row_heading level0 row17\" >17</th>\n",
              "      <td id=\"T_d2d29_row17_col0\" class=\"data row17 col0\" >Normalize</td>\n",
              "      <td id=\"T_d2d29_row17_col1\" class=\"data row17 col1\" >True</td>\n",
              "    </tr>\n",
              "    <tr>\n",
              "      <th id=\"T_d2d29_level0_row18\" class=\"row_heading level0 row18\" >18</th>\n",
              "      <td id=\"T_d2d29_row18_col0\" class=\"data row18 col0\" >Normalize method</td>\n",
              "      <td id=\"T_d2d29_row18_col1\" class=\"data row18 col1\" >zscore</td>\n",
              "    </tr>\n",
              "    <tr>\n",
              "      <th id=\"T_d2d29_level0_row19\" class=\"row_heading level0 row19\" >19</th>\n",
              "      <td id=\"T_d2d29_row19_col0\" class=\"data row19 col0\" >Fold Generator</td>\n",
              "      <td id=\"T_d2d29_row19_col1\" class=\"data row19 col1\" >StratifiedKFold</td>\n",
              "    </tr>\n",
              "    <tr>\n",
              "      <th id=\"T_d2d29_level0_row20\" class=\"row_heading level0 row20\" >20</th>\n",
              "      <td id=\"T_d2d29_row20_col0\" class=\"data row20 col0\" >Fold Number</td>\n",
              "      <td id=\"T_d2d29_row20_col1\" class=\"data row20 col1\" >10</td>\n",
              "    </tr>\n",
              "    <tr>\n",
              "      <th id=\"T_d2d29_level0_row21\" class=\"row_heading level0 row21\" >21</th>\n",
              "      <td id=\"T_d2d29_row21_col0\" class=\"data row21 col0\" >CPU Jobs</td>\n",
              "      <td id=\"T_d2d29_row21_col1\" class=\"data row21 col1\" >-1</td>\n",
              "    </tr>\n",
              "    <tr>\n",
              "      <th id=\"T_d2d29_level0_row22\" class=\"row_heading level0 row22\" >22</th>\n",
              "      <td id=\"T_d2d29_row22_col0\" class=\"data row22 col0\" >Use GPU</td>\n",
              "      <td id=\"T_d2d29_row22_col1\" class=\"data row22 col1\" >False</td>\n",
              "    </tr>\n",
              "    <tr>\n",
              "      <th id=\"T_d2d29_level0_row23\" class=\"row_heading level0 row23\" >23</th>\n",
              "      <td id=\"T_d2d29_row23_col0\" class=\"data row23 col0\" >Log Experiment</td>\n",
              "      <td id=\"T_d2d29_row23_col1\" class=\"data row23 col1\" >False</td>\n",
              "    </tr>\n",
              "    <tr>\n",
              "      <th id=\"T_d2d29_level0_row24\" class=\"row_heading level0 row24\" >24</th>\n",
              "      <td id=\"T_d2d29_row24_col0\" class=\"data row24 col0\" >Experiment Name</td>\n",
              "      <td id=\"T_d2d29_row24_col1\" class=\"data row24 col1\" >comparacion_modelos</td>\n",
              "    </tr>\n",
              "    <tr>\n",
              "      <th id=\"T_d2d29_level0_row25\" class=\"row_heading level0 row25\" >25</th>\n",
              "      <td id=\"T_d2d29_row25_col0\" class=\"data row25 col0\" >USI</td>\n",
              "      <td id=\"T_d2d29_row25_col1\" class=\"data row25 col1\" >894d</td>\n",
              "    </tr>\n",
              "  </tbody>\n",
              "</table>\n"
            ],
            "text/plain": [
              "<pandas.io.formats.style.Styler at 0x7f09b43b88b0>"
            ]
          },
          "metadata": {},
          "output_type": "display_data"
        },
        {
          "data": {
            "text/html": [],
            "text/plain": [
              "<IPython.core.display.HTML object>"
            ]
          },
          "metadata": {},
          "output_type": "display_data"
        },
        {
          "data": {
            "text/html": [
              "<style type=\"text/css\">\n",
              "#T_5166e th {\n",
              "  text-align: left;\n",
              "}\n",
              "#T_5166e_row0_col0, #T_5166e_row0_col2, #T_5166e_row0_col4, #T_5166e_row1_col0, #T_5166e_row1_col1, #T_5166e_row1_col2, #T_5166e_row1_col3, #T_5166e_row1_col4, #T_5166e_row1_col5, #T_5166e_row1_col6, #T_5166e_row1_col7, #T_5166e_row2_col0, #T_5166e_row2_col1, #T_5166e_row2_col2, #T_5166e_row2_col3, #T_5166e_row2_col4, #T_5166e_row2_col5, #T_5166e_row2_col6, #T_5166e_row2_col7, #T_5166e_row3_col0, #T_5166e_row3_col1, #T_5166e_row3_col3, #T_5166e_row3_col5, #T_5166e_row3_col6, #T_5166e_row3_col7, #T_5166e_row4_col0, #T_5166e_row4_col1, #T_5166e_row4_col2, #T_5166e_row4_col3, #T_5166e_row4_col4, #T_5166e_row4_col5, #T_5166e_row4_col6, #T_5166e_row4_col7, #T_5166e_row5_col0, #T_5166e_row5_col1, #T_5166e_row5_col2, #T_5166e_row5_col3, #T_5166e_row5_col4, #T_5166e_row5_col5, #T_5166e_row5_col6, #T_5166e_row5_col7, #T_5166e_row6_col0, #T_5166e_row6_col1, #T_5166e_row6_col2, #T_5166e_row6_col3, #T_5166e_row6_col4, #T_5166e_row6_col5, #T_5166e_row6_col6, #T_5166e_row6_col7, #T_5166e_row7_col0, #T_5166e_row7_col1, #T_5166e_row7_col2, #T_5166e_row7_col3, #T_5166e_row7_col4, #T_5166e_row7_col5, #T_5166e_row7_col6, #T_5166e_row7_col7, #T_5166e_row8_col0, #T_5166e_row8_col1, #T_5166e_row8_col2, #T_5166e_row8_col3, #T_5166e_row8_col4, #T_5166e_row8_col5, #T_5166e_row8_col6, #T_5166e_row8_col7, #T_5166e_row9_col0, #T_5166e_row9_col1, #T_5166e_row9_col2, #T_5166e_row9_col3, #T_5166e_row9_col4, #T_5166e_row9_col5, #T_5166e_row9_col6, #T_5166e_row9_col7, #T_5166e_row10_col0, #T_5166e_row10_col1, #T_5166e_row10_col2, #T_5166e_row10_col3, #T_5166e_row10_col4, #T_5166e_row10_col5, #T_5166e_row10_col6, #T_5166e_row10_col7, #T_5166e_row11_col0, #T_5166e_row11_col1, #T_5166e_row11_col2, #T_5166e_row11_col3, #T_5166e_row11_col4, #T_5166e_row11_col5, #T_5166e_row11_col6, #T_5166e_row11_col7, #T_5166e_row12_col0, #T_5166e_row12_col1, #T_5166e_row12_col2, #T_5166e_row12_col3, #T_5166e_row12_col4, #T_5166e_row12_col5, #T_5166e_row12_col6, #T_5166e_row12_col7 {\n",
              "  text-align: left;\n",
              "}\n",
              "#T_5166e_row0_col1, #T_5166e_row0_col3, #T_5166e_row0_col5, #T_5166e_row0_col6, #T_5166e_row0_col7, #T_5166e_row3_col2, #T_5166e_row3_col4 {\n",
              "  text-align: left;\n",
              "  background-color: yellow;\n",
              "}\n",
              "#T_5166e_row0_col8, #T_5166e_row2_col8, #T_5166e_row3_col8, #T_5166e_row4_col8, #T_5166e_row5_col8, #T_5166e_row6_col8, #T_5166e_row7_col8, #T_5166e_row8_col8, #T_5166e_row9_col8, #T_5166e_row10_col8, #T_5166e_row11_col8, #T_5166e_row12_col8 {\n",
              "  text-align: left;\n",
              "  background-color: lightgrey;\n",
              "}\n",
              "#T_5166e_row1_col8 {\n",
              "  text-align: left;\n",
              "  background-color: yellow;\n",
              "  background-color: lightgrey;\n",
              "}\n",
              "</style>\n",
              "<table id=\"T_5166e\" class=\"dataframe\">\n",
              "  <thead>\n",
              "    <tr>\n",
              "      <th class=\"blank level0\" >&nbsp;</th>\n",
              "      <th id=\"T_5166e_level0_col0\" class=\"col_heading level0 col0\" >Model</th>\n",
              "      <th id=\"T_5166e_level0_col1\" class=\"col_heading level0 col1\" >Accuracy</th>\n",
              "      <th id=\"T_5166e_level0_col2\" class=\"col_heading level0 col2\" >AUC</th>\n",
              "      <th id=\"T_5166e_level0_col3\" class=\"col_heading level0 col3\" >Recall</th>\n",
              "      <th id=\"T_5166e_level0_col4\" class=\"col_heading level0 col4\" >Prec.</th>\n",
              "      <th id=\"T_5166e_level0_col5\" class=\"col_heading level0 col5\" >F1</th>\n",
              "      <th id=\"T_5166e_level0_col6\" class=\"col_heading level0 col6\" >Kappa</th>\n",
              "      <th id=\"T_5166e_level0_col7\" class=\"col_heading level0 col7\" >MCC</th>\n",
              "      <th id=\"T_5166e_level0_col8\" class=\"col_heading level0 col8\" >TT (Sec)</th>\n",
              "    </tr>\n",
              "  </thead>\n",
              "  <tbody>\n",
              "    <tr>\n",
              "      <th id=\"T_5166e_level0_row0\" class=\"row_heading level0 row0\" >knn</th>\n",
              "      <td id=\"T_5166e_row0_col0\" class=\"data row0 col0\" >K Neighbors Classifier</td>\n",
              "      <td id=\"T_5166e_row0_col1\" class=\"data row0 col1\" >0.7118</td>\n",
              "      <td id=\"T_5166e_row0_col2\" class=\"data row0 col2\" >0.4395</td>\n",
              "      <td id=\"T_5166e_row0_col3\" class=\"data row0 col3\" >0.7118</td>\n",
              "      <td id=\"T_5166e_row0_col4\" class=\"data row0 col4\" >0.6970</td>\n",
              "      <td id=\"T_5166e_row0_col5\" class=\"data row0 col5\" >0.6759</td>\n",
              "      <td id=\"T_5166e_row0_col6\" class=\"data row0 col6\" >0.6204</td>\n",
              "      <td id=\"T_5166e_row0_col7\" class=\"data row0 col7\" >0.6297</td>\n",
              "      <td id=\"T_5166e_row0_col8\" class=\"data row0 col8\" >0.9830</td>\n",
              "    </tr>\n",
              "    <tr>\n",
              "      <th id=\"T_5166e_level0_row1\" class=\"row_heading level0 row1\" >ridge</th>\n",
              "      <td id=\"T_5166e_row1_col0\" class=\"data row1 col0\" >Ridge Classifier</td>\n",
              "      <td id=\"T_5166e_row1_col1\" class=\"data row1 col1\" >0.6008</td>\n",
              "      <td id=\"T_5166e_row1_col2\" class=\"data row1 col2\" >0.0000</td>\n",
              "      <td id=\"T_5166e_row1_col3\" class=\"data row1 col3\" >0.6008</td>\n",
              "      <td id=\"T_5166e_row1_col4\" class=\"data row1 col4\" >0.5380</td>\n",
              "      <td id=\"T_5166e_row1_col5\" class=\"data row1 col5\" >0.5084</td>\n",
              "      <td id=\"T_5166e_row1_col6\" class=\"data row1 col6\" >0.4612</td>\n",
              "      <td id=\"T_5166e_row1_col7\" class=\"data row1 col7\" >0.4903</td>\n",
              "      <td id=\"T_5166e_row1_col8\" class=\"data row1 col8\" >0.4420</td>\n",
              "    </tr>\n",
              "    <tr>\n",
              "      <th id=\"T_5166e_level0_row2\" class=\"row_heading level0 row2\" >lr</th>\n",
              "      <td id=\"T_5166e_row2_col0\" class=\"data row2 col0\" >Logistic Regression</td>\n",
              "      <td id=\"T_5166e_row2_col1\" class=\"data row2 col1\" >0.5929</td>\n",
              "      <td id=\"T_5166e_row2_col2\" class=\"data row2 col2\" >0.4488</td>\n",
              "      <td id=\"T_5166e_row2_col3\" class=\"data row2 col3\" >0.5929</td>\n",
              "      <td id=\"T_5166e_row2_col4\" class=\"data row2 col4\" >0.5630</td>\n",
              "      <td id=\"T_5166e_row2_col5\" class=\"data row2 col5\" >0.5455</td>\n",
              "      <td id=\"T_5166e_row2_col6\" class=\"data row2 col6\" >0.4828</td>\n",
              "      <td id=\"T_5166e_row2_col7\" class=\"data row2 col7\" >0.5034</td>\n",
              "      <td id=\"T_5166e_row2_col8\" class=\"data row2 col8\" >2.8570</td>\n",
              "    </tr>\n",
              "    <tr>\n",
              "      <th id=\"T_5166e_level0_row3\" class=\"row_heading level0 row3\" >et</th>\n",
              "      <td id=\"T_5166e_row3_col0\" class=\"data row3 col0\" >Extra Trees Classifier</td>\n",
              "      <td id=\"T_5166e_row3_col1\" class=\"data row3 col1\" >0.5844</td>\n",
              "      <td id=\"T_5166e_row3_col2\" class=\"data row3 col2\" >0.4673</td>\n",
              "      <td id=\"T_5166e_row3_col3\" class=\"data row3 col3\" >0.5844</td>\n",
              "      <td id=\"T_5166e_row3_col4\" class=\"data row3 col4\" >0.7099</td>\n",
              "      <td id=\"T_5166e_row3_col5\" class=\"data row3 col5\" >0.5492</td>\n",
              "      <td id=\"T_5166e_row3_col6\" class=\"data row3 col6\" >0.4733</td>\n",
              "      <td id=\"T_5166e_row3_col7\" class=\"data row3 col7\" >0.4945</td>\n",
              "      <td id=\"T_5166e_row3_col8\" class=\"data row3 col8\" >1.5940</td>\n",
              "    </tr>\n",
              "    <tr>\n",
              "      <th id=\"T_5166e_level0_row4\" class=\"row_heading level0 row4\" >svm</th>\n",
              "      <td id=\"T_5166e_row4_col0\" class=\"data row4 col0\" >SVM - Linear Kernel</td>\n",
              "      <td id=\"T_5166e_row4_col1\" class=\"data row4 col1\" >0.5405</td>\n",
              "      <td id=\"T_5166e_row4_col2\" class=\"data row4 col2\" >0.0000</td>\n",
              "      <td id=\"T_5166e_row4_col3\" class=\"data row4 col3\" >0.5405</td>\n",
              "      <td id=\"T_5166e_row4_col4\" class=\"data row4 col4\" >0.5938</td>\n",
              "      <td id=\"T_5166e_row4_col5\" class=\"data row4 col5\" >0.5418</td>\n",
              "      <td id=\"T_5166e_row4_col6\" class=\"data row4 col6\" >0.4276</td>\n",
              "      <td id=\"T_5166e_row4_col7\" class=\"data row4 col7\" >0.4460</td>\n",
              "      <td id=\"T_5166e_row4_col8\" class=\"data row4 col8\" >0.8630</td>\n",
              "    </tr>\n",
              "    <tr>\n",
              "      <th id=\"T_5166e_level0_row5\" class=\"row_heading level0 row5\" >ada</th>\n",
              "      <td id=\"T_5166e_row5_col0\" class=\"data row5 col0\" >Ada Boost Classifier</td>\n",
              "      <td id=\"T_5166e_row5_col1\" class=\"data row5 col1\" >0.4534</td>\n",
              "      <td id=\"T_5166e_row5_col2\" class=\"data row5 col2\" >0.3239</td>\n",
              "      <td id=\"T_5166e_row5_col3\" class=\"data row5 col3\" >0.4534</td>\n",
              "      <td id=\"T_5166e_row5_col4\" class=\"data row5 col4\" >0.3493</td>\n",
              "      <td id=\"T_5166e_row5_col5\" class=\"data row5 col5\" >0.3725</td>\n",
              "      <td id=\"T_5166e_row5_col6\" class=\"data row5 col6\" >0.3206</td>\n",
              "      <td id=\"T_5166e_row5_col7\" class=\"data row5 col7\" >0.4083</td>\n",
              "      <td id=\"T_5166e_row5_col8\" class=\"data row5 col8\" >1.4490</td>\n",
              "    </tr>\n",
              "    <tr>\n",
              "      <th id=\"T_5166e_level0_row6\" class=\"row_heading level0 row6\" >dummy</th>\n",
              "      <td id=\"T_5166e_row6_col0\" class=\"data row6 col0\" >Dummy Classifier</td>\n",
              "      <td id=\"T_5166e_row6_col1\" class=\"data row6 col1\" >0.3653</td>\n",
              "      <td id=\"T_5166e_row6_col2\" class=\"data row6 col2\" >0.2500</td>\n",
              "      <td id=\"T_5166e_row6_col3\" class=\"data row6 col3\" >0.3653</td>\n",
              "      <td id=\"T_5166e_row6_col4\" class=\"data row6 col4\" >0.1335</td>\n",
              "      <td id=\"T_5166e_row6_col5\" class=\"data row6 col5\" >0.1955</td>\n",
              "      <td id=\"T_5166e_row6_col6\" class=\"data row6 col6\" >0.0000</td>\n",
              "      <td id=\"T_5166e_row6_col7\" class=\"data row6 col7\" >0.0000</td>\n",
              "      <td id=\"T_5166e_row6_col8\" class=\"data row6 col8\" >0.4450</td>\n",
              "    </tr>\n",
              "    <tr>\n",
              "      <th id=\"T_5166e_level0_row7\" class=\"row_heading level0 row7\" >rf</th>\n",
              "      <td id=\"T_5166e_row7_col0\" class=\"data row7 col0\" >Random Forest Classifier</td>\n",
              "      <td id=\"T_5166e_row7_col1\" class=\"data row7 col1\" >0.3054</td>\n",
              "      <td id=\"T_5166e_row7_col2\" class=\"data row7 col2\" >0.4451</td>\n",
              "      <td id=\"T_5166e_row7_col3\" class=\"data row7 col3\" >0.3054</td>\n",
              "      <td id=\"T_5166e_row7_col4\" class=\"data row7 col4\" >0.5913</td>\n",
              "      <td id=\"T_5166e_row7_col5\" class=\"data row7 col5\" >0.3375</td>\n",
              "      <td id=\"T_5166e_row7_col6\" class=\"data row7 col6\" >0.2188</td>\n",
              "      <td id=\"T_5166e_row7_col7\" class=\"data row7 col7\" >0.2524</td>\n",
              "      <td id=\"T_5166e_row7_col8\" class=\"data row7 col8\" >1.7760</td>\n",
              "    </tr>\n",
              "    <tr>\n",
              "      <th id=\"T_5166e_level0_row8\" class=\"row_heading level0 row8\" >lightgbm</th>\n",
              "      <td id=\"T_5166e_row8_col0\" class=\"data row8 col0\" >Light Gradient Boosting Machine</td>\n",
              "      <td id=\"T_5166e_row8_col1\" class=\"data row8 col1\" >0.2629</td>\n",
              "      <td id=\"T_5166e_row8_col2\" class=\"data row8 col2\" >0.3391</td>\n",
              "      <td id=\"T_5166e_row8_col3\" class=\"data row8 col3\" >0.2629</td>\n",
              "      <td id=\"T_5166e_row8_col4\" class=\"data row8 col4\" >0.3750</td>\n",
              "      <td id=\"T_5166e_row8_col5\" class=\"data row8 col5\" >0.2453</td>\n",
              "      <td id=\"T_5166e_row8_col6\" class=\"data row8 col6\" >0.1323</td>\n",
              "      <td id=\"T_5166e_row8_col7\" class=\"data row8 col7\" >0.1722</td>\n",
              "      <td id=\"T_5166e_row8_col8\" class=\"data row8 col8\" >2.8510</td>\n",
              "    </tr>\n",
              "    <tr>\n",
              "      <th id=\"T_5166e_level0_row9\" class=\"row_heading level0 row9\" >nb</th>\n",
              "      <td id=\"T_5166e_row9_col0\" class=\"data row9 col0\" >Naive Bayes</td>\n",
              "      <td id=\"T_5166e_row9_col1\" class=\"data row9 col1\" >0.2341</td>\n",
              "      <td id=\"T_5166e_row9_col2\" class=\"data row9 col2\" >0.2607</td>\n",
              "      <td id=\"T_5166e_row9_col3\" class=\"data row9 col3\" >0.2341</td>\n",
              "      <td id=\"T_5166e_row9_col4\" class=\"data row9 col4\" >0.1521</td>\n",
              "      <td id=\"T_5166e_row9_col5\" class=\"data row9 col5\" >0.1842</td>\n",
              "      <td id=\"T_5166e_row9_col6\" class=\"data row9 col6\" >0.0365</td>\n",
              "      <td id=\"T_5166e_row9_col7\" class=\"data row9 col7\" >0.0468</td>\n",
              "      <td id=\"T_5166e_row9_col8\" class=\"data row9 col8\" >0.6640</td>\n",
              "    </tr>\n",
              "    <tr>\n",
              "      <th id=\"T_5166e_level0_row10\" class=\"row_heading level0 row10\" >qda</th>\n",
              "      <td id=\"T_5166e_row10_col0\" class=\"data row10 col0\" >Quadratic Discriminant Analysis</td>\n",
              "      <td id=\"T_5166e_row10_col1\" class=\"data row10 col1\" >0.1747</td>\n",
              "      <td id=\"T_5166e_row10_col2\" class=\"data row10 col2\" >0.1982</td>\n",
              "      <td id=\"T_5166e_row10_col3\" class=\"data row10 col3\" >0.1747</td>\n",
              "      <td id=\"T_5166e_row10_col4\" class=\"data row10 col4\" >0.0455</td>\n",
              "      <td id=\"T_5166e_row10_col5\" class=\"data row10 col5\" >0.0702</td>\n",
              "      <td id=\"T_5166e_row10_col6\" class=\"data row10 col6\" >-0.0030</td>\n",
              "      <td id=\"T_5166e_row10_col7\" class=\"data row10 col7\" >-0.0042</td>\n",
              "      <td id=\"T_5166e_row10_col8\" class=\"data row10 col8\" >0.5470</td>\n",
              "    </tr>\n",
              "    <tr>\n",
              "      <th id=\"T_5166e_level0_row11\" class=\"row_heading level0 row11\" >xgboost</th>\n",
              "      <td id=\"T_5166e_row11_col0\" class=\"data row11 col0\" >Extreme Gradient Boosting</td>\n",
              "      <td id=\"T_5166e_row11_col1\" class=\"data row11 col1\" >0.1304</td>\n",
              "      <td id=\"T_5166e_row11_col2\" class=\"data row11 col2\" >0.4359</td>\n",
              "      <td id=\"T_5166e_row11_col3\" class=\"data row11 col3\" >0.1304</td>\n",
              "      <td id=\"T_5166e_row11_col4\" class=\"data row11 col4\" >0.2595</td>\n",
              "      <td id=\"T_5166e_row11_col5\" class=\"data row11 col5\" >0.1401</td>\n",
              "      <td id=\"T_5166e_row11_col6\" class=\"data row11 col6\" >0.0900</td>\n",
              "      <td id=\"T_5166e_row11_col7\" class=\"data row11 col7\" >0.1337</td>\n",
              "      <td id=\"T_5166e_row11_col8\" class=\"data row11 col8\" >3.2600</td>\n",
              "    </tr>\n",
              "    <tr>\n",
              "      <th id=\"T_5166e_level0_row12\" class=\"row_heading level0 row12\" >gbc</th>\n",
              "      <td id=\"T_5166e_row12_col0\" class=\"data row12 col0\" >Gradient Boosting Classifier</td>\n",
              "      <td id=\"T_5166e_row12_col1\" class=\"data row12 col1\" >0.0048</td>\n",
              "      <td id=\"T_5166e_row12_col2\" class=\"data row12 col2\" >0.3125</td>\n",
              "      <td id=\"T_5166e_row12_col3\" class=\"data row12 col3\" >0.0048</td>\n",
              "      <td id=\"T_5166e_row12_col4\" class=\"data row12 col4\" >0.0619</td>\n",
              "      <td id=\"T_5166e_row12_col5\" class=\"data row12 col5\" >0.0063</td>\n",
              "      <td id=\"T_5166e_row12_col6\" class=\"data row12 col6\" >0.0014</td>\n",
              "      <td id=\"T_5166e_row12_col7\" class=\"data row12 col7\" >0.0037</td>\n",
              "      <td id=\"T_5166e_row12_col8\" class=\"data row12 col8\" >20.9050</td>\n",
              "    </tr>\n",
              "  </tbody>\n",
              "</table>\n"
            ],
            "text/plain": [
              "<pandas.io.formats.style.Styler at 0x7f09c7875f90>"
            ]
          },
          "metadata": {},
          "output_type": "display_data"
        },
        {
          "data": {
            "application/vnd.jupyter.widget-view+json": {
              "model_id": "3c065ef84adc431494f7bbaff8e89d99",
              "version_major": 2,
              "version_minor": 0
            },
            "text/plain": [
              "Processing:   0%|          | 0/65 [00:00<?, ?it/s]"
            ]
          },
          "metadata": {
            "application/vnd.jupyter.widget-view+json": {
              "colab": {
                "custom_widget_manager": {
                  "url": "https://ssl.gstatic.com/colaboratory-static/widgets/colab-cdn-widget-manager/b3e629b1971e1542/manager.min.js"
                }
              }
            }
          },
          "output_type": "display_data"
        },
        {
          "data": {
            "text/html": [],
            "text/plain": [
              "<IPython.core.display.HTML object>"
            ]
          },
          "metadata": {},
          "output_type": "display_data"
        },
        {
          "name": "stdout",
          "output_type": "stream",
          "text": [
            "KNeighborsClassifier(algorithm='auto', leaf_size=30, metric='minkowski',\n",
            "                     metric_params=None, n_jobs=-1, n_neighbors=5, p=2,\n",
            "                     weights='uniform')\n"
          ]
        }
      ],
      "source": [
        "from pycaret.classification import *\n",
        "\n",
        "# Cargar los datos\n",
        "data = pd.read_excel('Monografia/Diagnostics.xlsx')\n",
        "\n",
        "# Configurar el entorno de PyCaret e inicializar la configuración de clasificación\n",
        "clf = setup(data=data, target='Rhythm', train_size=0.8, normalize=True, experiment_name='comparacion_modelos')\n",
        "\n",
        "# Comparar los modelos\n",
        "mejor_modelo = compare_models()\n",
        "\n",
        "# Imprimir el mejor modelo\n",
        "print(mejor_modelo)"
      ]
    },
    {
      "cell_type": "markdown",
      "metadata": {
        "id": "E8Cv7uBNYeoY"
      },
      "source": [
        "### **Prueba realizada por Maria Bernarda**"
      ]
    },
    {
      "cell_type": "code",
      "execution_count": null,
      "metadata": {
        "id": "Qc1maF8WdmdB"
      },
      "outputs": [],
      "source": [
        "def getLabelCount(df,target):\n",
        "    return sorted([( labelValue,len(df.loc[df[target] == labelValue]) ) for labelValue in df[target].unique()])"
      ]
    },
    {
      "cell_type": "code",
      "execution_count": null,
      "metadata": {
        "id": "azTG6_cPWjq3"
      },
      "outputs": [],
      "source": [
        "from imblearn.combine import *\n",
        "# Leer el archivo de datos\n",
        "df = pd.read_excel('Monografia/Diagnostics.xlsx')\n",
        "\n",
        "# Convertir variables categóricas en numéricas\n",
        "for column in df.columns:\n",
        "    if df[column].dtype == type(object):\n",
        "        le = LabelEncoder()\n",
        "        df[column] = le.fit_transform(df[column].astype(str))\n",
        "\n",
        "# Definir variables independientes y dependiente\n",
        "X = df.drop(['Rhythm'], axis=1)\n",
        "y = df['Rhythm']\n",
        "# Separar conjunto de entrenamiento y prueba\n",
        "X_train, X_test, y_train, y_test = train_test_split(X, y, test_size=0.20, stratify=y)"
      ]
    },
    {
      "cell_type": "code",
      "execution_count": null,
      "metadata": {
        "colab": {
          "base_uri": "https://localhost:8080/"
        },
        "id": "aSqUs25SXbBk",
        "outputId": "2cb48264-af3c-412c-b40c-d2c337034e20"
      },
      "outputs": [
        {
          "data": {
            "text/plain": [
              "[(0, 3111),\n",
              " (1, 3111),\n",
              " (2, 3111),\n",
              " (3, 3111),\n",
              " (4, 3111),\n",
              " (5, 3111),\n",
              " (6, 3111),\n",
              " (7, 3111),\n",
              " (8, 3111),\n",
              " (9, 3111),\n",
              " (10, 3111)]"
            ]
          },
          "execution_count": 74,
          "metadata": {},
          "output_type": "execute_result"
        }
      ],
      "source": [
        "# Conteo desbalance de clases\n",
        "print('Desbalance de clases:')\n",
        "getLabelCount(df,'Rhythm')\n",
        "# Balance de clases\n",
        "smote = SMOTE(sampling_strategy='all')\n",
        "X_train_over,y_train_over = smote.fit_resample(X_train,y_train)\n",
        "pd.Series(y_train_over).value_counts()\n",
        "# Definir nuevo data\n",
        "df = X_train_over\n",
        "df['Rhythm'] = y_train_over\n",
        "# chequear que haya balance de clases\n",
        "print('Balance de clases:')\n",
        "getLabelCount(df,'Rhythm')"
      ]
    },
    {
      "cell_type": "code",
      "execution_count": null,
      "metadata": {
        "colab": {
          "base_uri": "https://localhost:8080/",
          "height": 1000,
          "referenced_widgets": [
            "e0bf6d4e6a97486cbfb3a57c4d31742e",
            "c589f60c4edd461ba7121ba474f47063",
            "01d56a3ea8394475bd4b73ed15528316",
            "78ddaf8a5ca649d49859b649e3217a3d",
            "8cbbeb0588cf465eace07c8e15ecb647",
            "d6f7e8dcea0c4337984c6123bbdc0e2b",
            "9bcfcccd594a4f48aeaa7a9c575e6fae",
            "d44bd269c4b547aa901d294e050f8c57",
            "845f81066daf49eaa54a8af6e149431a",
            "ede8961c8d69448f869a833f07d79613",
            "b552cf161e3643e4834a5c14fb9526d3"
          ]
        },
        "id": "-v45kY6HYZSY",
        "outputId": "bd0573fe-1ca3-408e-cb75-86e9ec4c3d00"
      },
      "outputs": [
        {
          "data": {
            "text/html": [
              "<style type=\"text/css\">\n",
              "#T_e5406_row8_col1, #T_e5406_row12_col1, #T_e5406_row14_col1 {\n",
              "  background-color: lightgreen;\n",
              "}\n",
              "</style>\n",
              "<table id=\"T_e5406\" class=\"dataframe\">\n",
              "  <thead>\n",
              "    <tr>\n",
              "      <th class=\"blank level0\" >&nbsp;</th>\n",
              "      <th id=\"T_e5406_level0_col0\" class=\"col_heading level0 col0\" >Description</th>\n",
              "      <th id=\"T_e5406_level0_col1\" class=\"col_heading level0 col1\" >Value</th>\n",
              "    </tr>\n",
              "  </thead>\n",
              "  <tbody>\n",
              "    <tr>\n",
              "      <th id=\"T_e5406_level0_row0\" class=\"row_heading level0 row0\" >0</th>\n",
              "      <td id=\"T_e5406_row0_col0\" class=\"data row0 col0\" >Session id</td>\n",
              "      <td id=\"T_e5406_row0_col1\" class=\"data row0 col1\" >7579</td>\n",
              "    </tr>\n",
              "    <tr>\n",
              "      <th id=\"T_e5406_level0_row1\" class=\"row_heading level0 row1\" >1</th>\n",
              "      <td id=\"T_e5406_row1_col0\" class=\"data row1 col0\" >Target</td>\n",
              "      <td id=\"T_e5406_row1_col1\" class=\"data row1 col1\" >Rhythm</td>\n",
              "    </tr>\n",
              "    <tr>\n",
              "      <th id=\"T_e5406_level0_row2\" class=\"row_heading level0 row2\" >2</th>\n",
              "      <td id=\"T_e5406_row2_col0\" class=\"data row2 col0\" >Target type</td>\n",
              "      <td id=\"T_e5406_row2_col1\" class=\"data row2 col1\" >Multiclass</td>\n",
              "    </tr>\n",
              "    <tr>\n",
              "      <th id=\"T_e5406_level0_row3\" class=\"row_heading level0 row3\" >3</th>\n",
              "      <td id=\"T_e5406_row3_col0\" class=\"data row3 col0\" >Original data shape</td>\n",
              "      <td id=\"T_e5406_row3_col1\" class=\"data row3 col1\" >(34221, 16)</td>\n",
              "    </tr>\n",
              "    <tr>\n",
              "      <th id=\"T_e5406_level0_row4\" class=\"row_heading level0 row4\" >4</th>\n",
              "      <td id=\"T_e5406_row4_col0\" class=\"data row4 col0\" >Transformed data shape</td>\n",
              "      <td id=\"T_e5406_row4_col1\" class=\"data row4 col1\" >(34224, 16)</td>\n",
              "    </tr>\n",
              "    <tr>\n",
              "      <th id=\"T_e5406_level0_row5\" class=\"row_heading level0 row5\" >5</th>\n",
              "      <td id=\"T_e5406_row5_col0\" class=\"data row5 col0\" >Transformed train set shape</td>\n",
              "      <td id=\"T_e5406_row5_col1\" class=\"data row5 col1\" >(27379, 16)</td>\n",
              "    </tr>\n",
              "    <tr>\n",
              "      <th id=\"T_e5406_level0_row6\" class=\"row_heading level0 row6\" >6</th>\n",
              "      <td id=\"T_e5406_row6_col0\" class=\"data row6 col0\" >Transformed test set shape</td>\n",
              "      <td id=\"T_e5406_row6_col1\" class=\"data row6 col1\" >(6845, 16)</td>\n",
              "    </tr>\n",
              "    <tr>\n",
              "      <th id=\"T_e5406_level0_row7\" class=\"row_heading level0 row7\" >7</th>\n",
              "      <td id=\"T_e5406_row7_col0\" class=\"data row7 col0\" >Numeric features</td>\n",
              "      <td id=\"T_e5406_row7_col1\" class=\"data row7 col1\" >15</td>\n",
              "    </tr>\n",
              "    <tr>\n",
              "      <th id=\"T_e5406_level0_row8\" class=\"row_heading level0 row8\" >8</th>\n",
              "      <td id=\"T_e5406_row8_col0\" class=\"data row8 col0\" >Preprocess</td>\n",
              "      <td id=\"T_e5406_row8_col1\" class=\"data row8 col1\" >True</td>\n",
              "    </tr>\n",
              "    <tr>\n",
              "      <th id=\"T_e5406_level0_row9\" class=\"row_heading level0 row9\" >9</th>\n",
              "      <td id=\"T_e5406_row9_col0\" class=\"data row9 col0\" >Imputation type</td>\n",
              "      <td id=\"T_e5406_row9_col1\" class=\"data row9 col1\" >simple</td>\n",
              "    </tr>\n",
              "    <tr>\n",
              "      <th id=\"T_e5406_level0_row10\" class=\"row_heading level0 row10\" >10</th>\n",
              "      <td id=\"T_e5406_row10_col0\" class=\"data row10 col0\" >Numeric imputation</td>\n",
              "      <td id=\"T_e5406_row10_col1\" class=\"data row10 col1\" >mean</td>\n",
              "    </tr>\n",
              "    <tr>\n",
              "      <th id=\"T_e5406_level0_row11\" class=\"row_heading level0 row11\" >11</th>\n",
              "      <td id=\"T_e5406_row11_col0\" class=\"data row11 col0\" >Categorical imputation</td>\n",
              "      <td id=\"T_e5406_row11_col1\" class=\"data row11 col1\" >mode</td>\n",
              "    </tr>\n",
              "    <tr>\n",
              "      <th id=\"T_e5406_level0_row12\" class=\"row_heading level0 row12\" >12</th>\n",
              "      <td id=\"T_e5406_row12_col0\" class=\"data row12 col0\" >Fix imbalance</td>\n",
              "      <td id=\"T_e5406_row12_col1\" class=\"data row12 col1\" >True</td>\n",
              "    </tr>\n",
              "    <tr>\n",
              "      <th id=\"T_e5406_level0_row13\" class=\"row_heading level0 row13\" >13</th>\n",
              "      <td id=\"T_e5406_row13_col0\" class=\"data row13 col0\" >Fix imbalance method</td>\n",
              "      <td id=\"T_e5406_row13_col1\" class=\"data row13 col1\" >SMOTE(k_neighbors=5, n_jobs=None, random_state=None, sampling_strategy='all')</td>\n",
              "    </tr>\n",
              "    <tr>\n",
              "      <th id=\"T_e5406_level0_row14\" class=\"row_heading level0 row14\" >14</th>\n",
              "      <td id=\"T_e5406_row14_col0\" class=\"data row14 col0\" >Normalize</td>\n",
              "      <td id=\"T_e5406_row14_col1\" class=\"data row14 col1\" >True</td>\n",
              "    </tr>\n",
              "    <tr>\n",
              "      <th id=\"T_e5406_level0_row15\" class=\"row_heading level0 row15\" >15</th>\n",
              "      <td id=\"T_e5406_row15_col0\" class=\"data row15 col0\" >Normalize method</td>\n",
              "      <td id=\"T_e5406_row15_col1\" class=\"data row15 col1\" >zscore</td>\n",
              "    </tr>\n",
              "    <tr>\n",
              "      <th id=\"T_e5406_level0_row16\" class=\"row_heading level0 row16\" >16</th>\n",
              "      <td id=\"T_e5406_row16_col0\" class=\"data row16 col0\" >Fold Generator</td>\n",
              "      <td id=\"T_e5406_row16_col1\" class=\"data row16 col1\" >StratifiedKFold</td>\n",
              "    </tr>\n",
              "    <tr>\n",
              "      <th id=\"T_e5406_level0_row17\" class=\"row_heading level0 row17\" >17</th>\n",
              "      <td id=\"T_e5406_row17_col0\" class=\"data row17 col0\" >Fold Number</td>\n",
              "      <td id=\"T_e5406_row17_col1\" class=\"data row17 col1\" >10</td>\n",
              "    </tr>\n",
              "    <tr>\n",
              "      <th id=\"T_e5406_level0_row18\" class=\"row_heading level0 row18\" >18</th>\n",
              "      <td id=\"T_e5406_row18_col0\" class=\"data row18 col0\" >CPU Jobs</td>\n",
              "      <td id=\"T_e5406_row18_col1\" class=\"data row18 col1\" >-1</td>\n",
              "    </tr>\n",
              "    <tr>\n",
              "      <th id=\"T_e5406_level0_row19\" class=\"row_heading level0 row19\" >19</th>\n",
              "      <td id=\"T_e5406_row19_col0\" class=\"data row19 col0\" >Use GPU</td>\n",
              "      <td id=\"T_e5406_row19_col1\" class=\"data row19 col1\" >False</td>\n",
              "    </tr>\n",
              "    <tr>\n",
              "      <th id=\"T_e5406_level0_row20\" class=\"row_heading level0 row20\" >20</th>\n",
              "      <td id=\"T_e5406_row20_col0\" class=\"data row20 col0\" >Log Experiment</td>\n",
              "      <td id=\"T_e5406_row20_col1\" class=\"data row20 col1\" >False</td>\n",
              "    </tr>\n",
              "    <tr>\n",
              "      <th id=\"T_e5406_level0_row21\" class=\"row_heading level0 row21\" >21</th>\n",
              "      <td id=\"T_e5406_row21_col0\" class=\"data row21 col0\" >Experiment Name</td>\n",
              "      <td id=\"T_e5406_row21_col1\" class=\"data row21 col1\" >comparacion_modelos_2</td>\n",
              "    </tr>\n",
              "    <tr>\n",
              "      <th id=\"T_e5406_level0_row22\" class=\"row_heading level0 row22\" >22</th>\n",
              "      <td id=\"T_e5406_row22_col0\" class=\"data row22 col0\" >USI</td>\n",
              "      <td id=\"T_e5406_row22_col1\" class=\"data row22 col1\" >061b</td>\n",
              "    </tr>\n",
              "  </tbody>\n",
              "</table>\n"
            ],
            "text/plain": [
              "<pandas.io.formats.style.Styler at 0x7f09aad7a470>"
            ]
          },
          "metadata": {},
          "output_type": "display_data"
        },
        {
          "data": {
            "text/html": [],
            "text/plain": [
              "<IPython.core.display.HTML object>"
            ]
          },
          "metadata": {},
          "output_type": "display_data"
        },
        {
          "data": {
            "text/html": [
              "<style type=\"text/css\">\n",
              "#T_25cfd th {\n",
              "  text-align: left;\n",
              "}\n",
              "#T_25cfd_row0_col0, #T_25cfd_row1_col0, #T_25cfd_row1_col1, #T_25cfd_row1_col3, #T_25cfd_row1_col4, #T_25cfd_row1_col5, #T_25cfd_row1_col6, #T_25cfd_row1_col7, #T_25cfd_row2_col0, #T_25cfd_row2_col1, #T_25cfd_row2_col2, #T_25cfd_row2_col3, #T_25cfd_row2_col4, #T_25cfd_row2_col5, #T_25cfd_row2_col6, #T_25cfd_row2_col7, #T_25cfd_row3_col0, #T_25cfd_row3_col1, #T_25cfd_row3_col2, #T_25cfd_row3_col3, #T_25cfd_row3_col4, #T_25cfd_row3_col5, #T_25cfd_row3_col6, #T_25cfd_row3_col7, #T_25cfd_row4_col0, #T_25cfd_row4_col1, #T_25cfd_row4_col2, #T_25cfd_row4_col3, #T_25cfd_row4_col4, #T_25cfd_row4_col5, #T_25cfd_row4_col6, #T_25cfd_row4_col7, #T_25cfd_row5_col0, #T_25cfd_row5_col1, #T_25cfd_row5_col2, #T_25cfd_row5_col3, #T_25cfd_row5_col4, #T_25cfd_row5_col5, #T_25cfd_row5_col6, #T_25cfd_row5_col7, #T_25cfd_row6_col0, #T_25cfd_row6_col1, #T_25cfd_row6_col2, #T_25cfd_row6_col3, #T_25cfd_row6_col4, #T_25cfd_row6_col5, #T_25cfd_row6_col6, #T_25cfd_row6_col7, #T_25cfd_row7_col0, #T_25cfd_row7_col1, #T_25cfd_row7_col2, #T_25cfd_row7_col3, #T_25cfd_row7_col4, #T_25cfd_row7_col5, #T_25cfd_row7_col6, #T_25cfd_row7_col7, #T_25cfd_row8_col0, #T_25cfd_row8_col1, #T_25cfd_row8_col2, #T_25cfd_row8_col3, #T_25cfd_row8_col4, #T_25cfd_row8_col5, #T_25cfd_row8_col6, #T_25cfd_row8_col7, #T_25cfd_row9_col0, #T_25cfd_row9_col1, #T_25cfd_row9_col2, #T_25cfd_row9_col3, #T_25cfd_row9_col4, #T_25cfd_row9_col5, #T_25cfd_row9_col6, #T_25cfd_row9_col7, #T_25cfd_row10_col0, #T_25cfd_row10_col1, #T_25cfd_row10_col2, #T_25cfd_row10_col3, #T_25cfd_row10_col4, #T_25cfd_row10_col5, #T_25cfd_row10_col6, #T_25cfd_row10_col7, #T_25cfd_row11_col0, #T_25cfd_row11_col1, #T_25cfd_row11_col2, #T_25cfd_row11_col3, #T_25cfd_row11_col4, #T_25cfd_row11_col5, #T_25cfd_row11_col6, #T_25cfd_row11_col7, #T_25cfd_row12_col0, #T_25cfd_row12_col1, #T_25cfd_row12_col2, #T_25cfd_row12_col3, #T_25cfd_row12_col4, #T_25cfd_row12_col5, #T_25cfd_row12_col6, #T_25cfd_row12_col7, #T_25cfd_row13_col0, #T_25cfd_row13_col1, #T_25cfd_row13_col2, #T_25cfd_row13_col3, #T_25cfd_row13_col4, #T_25cfd_row13_col5, #T_25cfd_row13_col6, #T_25cfd_row13_col7, #T_25cfd_row14_col0, #T_25cfd_row14_col1, #T_25cfd_row14_col2, #T_25cfd_row14_col3, #T_25cfd_row14_col4, #T_25cfd_row14_col5, #T_25cfd_row14_col6, #T_25cfd_row14_col7 {\n",
              "  text-align: left;\n",
              "}\n",
              "#T_25cfd_row0_col1, #T_25cfd_row0_col2, #T_25cfd_row0_col3, #T_25cfd_row0_col4, #T_25cfd_row0_col5, #T_25cfd_row0_col6, #T_25cfd_row0_col7, #T_25cfd_row1_col2 {\n",
              "  text-align: left;\n",
              "  background-color: yellow;\n",
              "}\n",
              "#T_25cfd_row0_col8, #T_25cfd_row1_col8, #T_25cfd_row2_col8, #T_25cfd_row3_col8, #T_25cfd_row4_col8, #T_25cfd_row5_col8, #T_25cfd_row6_col8, #T_25cfd_row8_col8, #T_25cfd_row9_col8, #T_25cfd_row10_col8, #T_25cfd_row11_col8, #T_25cfd_row12_col8, #T_25cfd_row13_col8, #T_25cfd_row14_col8 {\n",
              "  text-align: left;\n",
              "  background-color: lightgrey;\n",
              "}\n",
              "#T_25cfd_row7_col8 {\n",
              "  text-align: left;\n",
              "  background-color: yellow;\n",
              "  background-color: lightgrey;\n",
              "}\n",
              "</style>\n",
              "<table id=\"T_25cfd\" class=\"dataframe\">\n",
              "  <thead>\n",
              "    <tr>\n",
              "      <th class=\"blank level0\" >&nbsp;</th>\n",
              "      <th id=\"T_25cfd_level0_col0\" class=\"col_heading level0 col0\" >Model</th>\n",
              "      <th id=\"T_25cfd_level0_col1\" class=\"col_heading level0 col1\" >Accuracy</th>\n",
              "      <th id=\"T_25cfd_level0_col2\" class=\"col_heading level0 col2\" >AUC</th>\n",
              "      <th id=\"T_25cfd_level0_col3\" class=\"col_heading level0 col3\" >Recall</th>\n",
              "      <th id=\"T_25cfd_level0_col4\" class=\"col_heading level0 col4\" >Prec.</th>\n",
              "      <th id=\"T_25cfd_level0_col5\" class=\"col_heading level0 col5\" >F1</th>\n",
              "      <th id=\"T_25cfd_level0_col6\" class=\"col_heading level0 col6\" >Kappa</th>\n",
              "      <th id=\"T_25cfd_level0_col7\" class=\"col_heading level0 col7\" >MCC</th>\n",
              "      <th id=\"T_25cfd_level0_col8\" class=\"col_heading level0 col8\" >TT (Sec)</th>\n",
              "    </tr>\n",
              "  </thead>\n",
              "  <tbody>\n",
              "    <tr>\n",
              "      <th id=\"T_25cfd_level0_row0\" class=\"row_heading level0 row0\" >lightgbm</th>\n",
              "      <td id=\"T_25cfd_row0_col0\" class=\"data row0 col0\" >Light Gradient Boosting Machine</td>\n",
              "      <td id=\"T_25cfd_row0_col1\" class=\"data row0 col1\" >0.9797</td>\n",
              "      <td id=\"T_25cfd_row0_col2\" class=\"data row0 col2\" >0.9994</td>\n",
              "      <td id=\"T_25cfd_row0_col3\" class=\"data row0 col3\" >0.9797</td>\n",
              "      <td id=\"T_25cfd_row0_col4\" class=\"data row0 col4\" >0.9796</td>\n",
              "      <td id=\"T_25cfd_row0_col5\" class=\"data row0 col5\" >0.9795</td>\n",
              "      <td id=\"T_25cfd_row0_col6\" class=\"data row0 col6\" >0.9776</td>\n",
              "      <td id=\"T_25cfd_row0_col7\" class=\"data row0 col7\" >0.9776</td>\n",
              "      <td id=\"T_25cfd_row0_col8\" class=\"data row0 col8\" >6.2140</td>\n",
              "    </tr>\n",
              "    <tr>\n",
              "      <th id=\"T_25cfd_level0_row1\" class=\"row_heading level0 row1\" >xgboost</th>\n",
              "      <td id=\"T_25cfd_row1_col0\" class=\"data row1 col0\" >Extreme Gradient Boosting</td>\n",
              "      <td id=\"T_25cfd_row1_col1\" class=\"data row1 col1\" >0.9795</td>\n",
              "      <td id=\"T_25cfd_row1_col2\" class=\"data row1 col2\" >0.9994</td>\n",
              "      <td id=\"T_25cfd_row1_col3\" class=\"data row1 col3\" >0.9795</td>\n",
              "      <td id=\"T_25cfd_row1_col4\" class=\"data row1 col4\" >0.9795</td>\n",
              "      <td id=\"T_25cfd_row1_col5\" class=\"data row1 col5\" >0.9794</td>\n",
              "      <td id=\"T_25cfd_row1_col6\" class=\"data row1 col6\" >0.9775</td>\n",
              "      <td id=\"T_25cfd_row1_col7\" class=\"data row1 col7\" >0.9775</td>\n",
              "      <td id=\"T_25cfd_row1_col8\" class=\"data row1 col8\" >29.2520</td>\n",
              "    </tr>\n",
              "    <tr>\n",
              "      <th id=\"T_25cfd_level0_row2\" class=\"row_heading level0 row2\" >et</th>\n",
              "      <td id=\"T_25cfd_row2_col0\" class=\"data row2 col0\" >Extra Trees Classifier</td>\n",
              "      <td id=\"T_25cfd_row2_col1\" class=\"data row2 col1\" >0.9717</td>\n",
              "      <td id=\"T_25cfd_row2_col2\" class=\"data row2 col2\" >0.9990</td>\n",
              "      <td id=\"T_25cfd_row2_col3\" class=\"data row2 col3\" >0.9717</td>\n",
              "      <td id=\"T_25cfd_row2_col4\" class=\"data row2 col4\" >0.9717</td>\n",
              "      <td id=\"T_25cfd_row2_col5\" class=\"data row2 col5\" >0.9713</td>\n",
              "      <td id=\"T_25cfd_row2_col6\" class=\"data row2 col6\" >0.9689</td>\n",
              "      <td id=\"T_25cfd_row2_col7\" class=\"data row2 col7\" >0.9689</td>\n",
              "      <td id=\"T_25cfd_row2_col8\" class=\"data row2 col8\" >4.0510</td>\n",
              "    </tr>\n",
              "    <tr>\n",
              "      <th id=\"T_25cfd_level0_row3\" class=\"row_heading level0 row3\" >rf</th>\n",
              "      <td id=\"T_25cfd_row3_col0\" class=\"data row3 col0\" >Random Forest Classifier</td>\n",
              "      <td id=\"T_25cfd_row3_col1\" class=\"data row3 col1\" >0.9705</td>\n",
              "      <td id=\"T_25cfd_row3_col2\" class=\"data row3 col2\" >0.9988</td>\n",
              "      <td id=\"T_25cfd_row3_col3\" class=\"data row3 col3\" >0.9705</td>\n",
              "      <td id=\"T_25cfd_row3_col4\" class=\"data row3 col4\" >0.9705</td>\n",
              "      <td id=\"T_25cfd_row3_col5\" class=\"data row3 col5\" >0.9702</td>\n",
              "      <td id=\"T_25cfd_row3_col6\" class=\"data row3 col6\" >0.9675</td>\n",
              "      <td id=\"T_25cfd_row3_col7\" class=\"data row3 col7\" >0.9676</td>\n",
              "      <td id=\"T_25cfd_row3_col8\" class=\"data row3 col8\" >5.1220</td>\n",
              "    </tr>\n",
              "    <tr>\n",
              "      <th id=\"T_25cfd_level0_row4\" class=\"row_heading level0 row4\" >dt</th>\n",
              "      <td id=\"T_25cfd_row4_col0\" class=\"data row4 col0\" >Decision Tree Classifier</td>\n",
              "      <td id=\"T_25cfd_row4_col1\" class=\"data row4 col1\" >0.9317</td>\n",
              "      <td id=\"T_25cfd_row4_col2\" class=\"data row4 col2\" >0.9625</td>\n",
              "      <td id=\"T_25cfd_row4_col3\" class=\"data row4 col3\" >0.9317</td>\n",
              "      <td id=\"T_25cfd_row4_col4\" class=\"data row4 col4\" >0.9316</td>\n",
              "      <td id=\"T_25cfd_row4_col5\" class=\"data row4 col5\" >0.9314</td>\n",
              "      <td id=\"T_25cfd_row4_col6\" class=\"data row4 col6\" >0.9249</td>\n",
              "      <td id=\"T_25cfd_row4_col7\" class=\"data row4 col7\" >0.9250</td>\n",
              "      <td id=\"T_25cfd_row4_col8\" class=\"data row4 col8\" >0.9230</td>\n",
              "    </tr>\n",
              "    <tr>\n",
              "      <th id=\"T_25cfd_level0_row5\" class=\"row_heading level0 row5\" >gbc</th>\n",
              "      <td id=\"T_25cfd_row5_col0\" class=\"data row5 col0\" >Gradient Boosting Classifier</td>\n",
              "      <td id=\"T_25cfd_row5_col1\" class=\"data row5 col1\" >0.9268</td>\n",
              "      <td id=\"T_25cfd_row5_col2\" class=\"data row5 col2\" >0.9959</td>\n",
              "      <td id=\"T_25cfd_row5_col3\" class=\"data row5 col3\" >0.9268</td>\n",
              "      <td id=\"T_25cfd_row5_col4\" class=\"data row5 col4\" >0.9264</td>\n",
              "      <td id=\"T_25cfd_row5_col5\" class=\"data row5 col5\" >0.9260</td>\n",
              "      <td id=\"T_25cfd_row5_col6\" class=\"data row5 col6\" >0.9194</td>\n",
              "      <td id=\"T_25cfd_row5_col7\" class=\"data row5 col7\" >0.9195</td>\n",
              "      <td id=\"T_25cfd_row5_col8\" class=\"data row5 col8\" >71.7070</td>\n",
              "    </tr>\n",
              "    <tr>\n",
              "      <th id=\"T_25cfd_level0_row6\" class=\"row_heading level0 row6\" >knn</th>\n",
              "      <td id=\"T_25cfd_row6_col0\" class=\"data row6 col0\" >K Neighbors Classifier</td>\n",
              "      <td id=\"T_25cfd_row6_col1\" class=\"data row6 col1\" >0.9098</td>\n",
              "      <td id=\"T_25cfd_row6_col2\" class=\"data row6 col2\" >0.9880</td>\n",
              "      <td id=\"T_25cfd_row6_col3\" class=\"data row6 col3\" >0.9098</td>\n",
              "      <td id=\"T_25cfd_row6_col4\" class=\"data row6 col4\" >0.9101</td>\n",
              "      <td id=\"T_25cfd_row6_col5\" class=\"data row6 col5\" >0.9075</td>\n",
              "      <td id=\"T_25cfd_row6_col6\" class=\"data row6 col6\" >0.9008</td>\n",
              "      <td id=\"T_25cfd_row6_col7\" class=\"data row6 col7\" >0.9013</td>\n",
              "      <td id=\"T_25cfd_row6_col8\" class=\"data row6 col8\" >2.0960</td>\n",
              "    </tr>\n",
              "    <tr>\n",
              "      <th id=\"T_25cfd_level0_row7\" class=\"row_heading level0 row7\" >qda</th>\n",
              "      <td id=\"T_25cfd_row7_col0\" class=\"data row7 col0\" >Quadratic Discriminant Analysis</td>\n",
              "      <td id=\"T_25cfd_row7_col1\" class=\"data row7 col1\" >0.7580</td>\n",
              "      <td id=\"T_25cfd_row7_col2\" class=\"data row7 col2\" >0.9601</td>\n",
              "      <td id=\"T_25cfd_row7_col3\" class=\"data row7 col3\" >0.7580</td>\n",
              "      <td id=\"T_25cfd_row7_col4\" class=\"data row7 col4\" >0.7807</td>\n",
              "      <td id=\"T_25cfd_row7_col5\" class=\"data row7 col5\" >0.7504</td>\n",
              "      <td id=\"T_25cfd_row7_col6\" class=\"data row7 col6\" >0.7338</td>\n",
              "      <td id=\"T_25cfd_row7_col7\" class=\"data row7 col7\" >0.7389</td>\n",
              "      <td id=\"T_25cfd_row7_col8\" class=\"data row7 col8\" >0.2510</td>\n",
              "    </tr>\n",
              "    <tr>\n",
              "      <th id=\"T_25cfd_level0_row8\" class=\"row_heading level0 row8\" >lr</th>\n",
              "      <td id=\"T_25cfd_row8_col0\" class=\"data row8 col0\" >Logistic Regression</td>\n",
              "      <td id=\"T_25cfd_row8_col1\" class=\"data row8 col1\" >0.7413</td>\n",
              "      <td id=\"T_25cfd_row8_col2\" class=\"data row8 col2\" >0.9607</td>\n",
              "      <td id=\"T_25cfd_row8_col3\" class=\"data row8 col3\" >0.7413</td>\n",
              "      <td id=\"T_25cfd_row8_col4\" class=\"data row8 col4\" >0.7320</td>\n",
              "      <td id=\"T_25cfd_row8_col5\" class=\"data row8 col5\" >0.7329</td>\n",
              "      <td id=\"T_25cfd_row8_col6\" class=\"data row8 col6\" >0.7154</td>\n",
              "      <td id=\"T_25cfd_row8_col7\" class=\"data row8 col7\" >0.7161</td>\n",
              "      <td id=\"T_25cfd_row8_col8\" class=\"data row8 col8\" >5.2260</td>\n",
              "    </tr>\n",
              "    <tr>\n",
              "      <th id=\"T_25cfd_level0_row9\" class=\"row_heading level0 row9\" >svm</th>\n",
              "      <td id=\"T_25cfd_row9_col0\" class=\"data row9 col0\" >SVM - Linear Kernel</td>\n",
              "      <td id=\"T_25cfd_row9_col1\" class=\"data row9 col1\" >0.6794</td>\n",
              "      <td id=\"T_25cfd_row9_col2\" class=\"data row9 col2\" >0.0000</td>\n",
              "      <td id=\"T_25cfd_row9_col3\" class=\"data row9 col3\" >0.6794</td>\n",
              "      <td id=\"T_25cfd_row9_col4\" class=\"data row9 col4\" >0.6782</td>\n",
              "      <td id=\"T_25cfd_row9_col5\" class=\"data row9 col5\" >0.6622</td>\n",
              "      <td id=\"T_25cfd_row9_col6\" class=\"data row9 col6\" >0.6474</td>\n",
              "      <td id=\"T_25cfd_row9_col7\" class=\"data row9 col7\" >0.6503</td>\n",
              "      <td id=\"T_25cfd_row9_col8\" class=\"data row9 col8\" >2.5930</td>\n",
              "    </tr>\n",
              "    <tr>\n",
              "      <th id=\"T_25cfd_level0_row10\" class=\"row_heading level0 row10\" >lda</th>\n",
              "      <td id=\"T_25cfd_row10_col0\" class=\"data row10 col0\" >Linear Discriminant Analysis</td>\n",
              "      <td id=\"T_25cfd_row10_col1\" class=\"data row10 col1\" >0.6583</td>\n",
              "      <td id=\"T_25cfd_row10_col2\" class=\"data row10 col2\" >0.9446</td>\n",
              "      <td id=\"T_25cfd_row10_col3\" class=\"data row10 col3\" >0.6583</td>\n",
              "      <td id=\"T_25cfd_row10_col4\" class=\"data row10 col4\" >0.6514</td>\n",
              "      <td id=\"T_25cfd_row10_col5\" class=\"data row10 col5\" >0.6505</td>\n",
              "      <td id=\"T_25cfd_row10_col6\" class=\"data row10 col6\" >0.6241</td>\n",
              "      <td id=\"T_25cfd_row10_col7\" class=\"data row10 col7\" >0.6250</td>\n",
              "      <td id=\"T_25cfd_row10_col8\" class=\"data row10 col8\" >0.3070</td>\n",
              "    </tr>\n",
              "    <tr>\n",
              "      <th id=\"T_25cfd_level0_row11\" class=\"row_heading level0 row11\" >nb</th>\n",
              "      <td id=\"T_25cfd_row11_col0\" class=\"data row11 col0\" >Naive Bayes</td>\n",
              "      <td id=\"T_25cfd_row11_col1\" class=\"data row11 col1\" >0.6486</td>\n",
              "      <td id=\"T_25cfd_row11_col2\" class=\"data row11 col2\" >0.9490</td>\n",
              "      <td id=\"T_25cfd_row11_col3\" class=\"data row11 col3\" >0.6486</td>\n",
              "      <td id=\"T_25cfd_row11_col4\" class=\"data row11 col4\" >0.6437</td>\n",
              "      <td id=\"T_25cfd_row11_col5\" class=\"data row11 col5\" >0.6319</td>\n",
              "      <td id=\"T_25cfd_row11_col6\" class=\"data row11 col6\" >0.6135</td>\n",
              "      <td id=\"T_25cfd_row11_col7\" class=\"data row11 col7\" >0.6166</td>\n",
              "      <td id=\"T_25cfd_row11_col8\" class=\"data row11 col8\" >0.6020</td>\n",
              "    </tr>\n",
              "    <tr>\n",
              "      <th id=\"T_25cfd_level0_row12\" class=\"row_heading level0 row12\" >ridge</th>\n",
              "      <td id=\"T_25cfd_row12_col0\" class=\"data row12 col0\" >Ridge Classifier</td>\n",
              "      <td id=\"T_25cfd_row12_col1\" class=\"data row12 col1\" >0.5775</td>\n",
              "      <td id=\"T_25cfd_row12_col2\" class=\"data row12 col2\" >0.0000</td>\n",
              "      <td id=\"T_25cfd_row12_col3\" class=\"data row12 col3\" >0.5775</td>\n",
              "      <td id=\"T_25cfd_row12_col4\" class=\"data row12 col4\" >0.5749</td>\n",
              "      <td id=\"T_25cfd_row12_col5\" class=\"data row12 col5\" >0.5547</td>\n",
              "      <td id=\"T_25cfd_row12_col6\" class=\"data row12 col6\" >0.5353</td>\n",
              "      <td id=\"T_25cfd_row12_col7\" class=\"data row12 col7\" >0.5388</td>\n",
              "      <td id=\"T_25cfd_row12_col8\" class=\"data row12 col8\" >0.3060</td>\n",
              "    </tr>\n",
              "    <tr>\n",
              "      <th id=\"T_25cfd_level0_row13\" class=\"row_heading level0 row13\" >ada</th>\n",
              "      <td id=\"T_25cfd_row13_col0\" class=\"data row13 col0\" >Ada Boost Classifier</td>\n",
              "      <td id=\"T_25cfd_row13_col1\" class=\"data row13 col1\" >0.2085</td>\n",
              "      <td id=\"T_25cfd_row13_col2\" class=\"data row13 col2\" >0.6521</td>\n",
              "      <td id=\"T_25cfd_row13_col3\" class=\"data row13 col3\" >0.2085</td>\n",
              "      <td id=\"T_25cfd_row13_col4\" class=\"data row13 col4\" >0.1283</td>\n",
              "      <td id=\"T_25cfd_row13_col5\" class=\"data row13 col5\" >0.0878</td>\n",
              "      <td id=\"T_25cfd_row13_col6\" class=\"data row13 col6\" >0.1294</td>\n",
              "      <td id=\"T_25cfd_row13_col7\" class=\"data row13 col7\" >0.1611</td>\n",
              "      <td id=\"T_25cfd_row13_col8\" class=\"data row13 col8\" >2.0910</td>\n",
              "    </tr>\n",
              "    <tr>\n",
              "      <th id=\"T_25cfd_level0_row14\" class=\"row_heading level0 row14\" >dummy</th>\n",
              "      <td id=\"T_25cfd_row14_col0\" class=\"data row14 col0\" >Dummy Classifier</td>\n",
              "      <td id=\"T_25cfd_row14_col1\" class=\"data row14 col1\" >0.0909</td>\n",
              "      <td id=\"T_25cfd_row14_col2\" class=\"data row14 col2\" >0.5000</td>\n",
              "      <td id=\"T_25cfd_row14_col3\" class=\"data row14 col3\" >0.0909</td>\n",
              "      <td id=\"T_25cfd_row14_col4\" class=\"data row14 col4\" >0.0083</td>\n",
              "      <td id=\"T_25cfd_row14_col5\" class=\"data row14 col5\" >0.0152</td>\n",
              "      <td id=\"T_25cfd_row14_col6\" class=\"data row14 col6\" >0.0000</td>\n",
              "      <td id=\"T_25cfd_row14_col7\" class=\"data row14 col7\" >0.0000</td>\n",
              "      <td id=\"T_25cfd_row14_col8\" class=\"data row14 col8\" >0.3630</td>\n",
              "    </tr>\n",
              "  </tbody>\n",
              "</table>\n"
            ],
            "text/plain": [
              "<pandas.io.formats.style.Styler at 0x7f09aad08940>"
            ]
          },
          "metadata": {},
          "output_type": "display_data"
        },
        {
          "data": {
            "application/vnd.jupyter.widget-view+json": {
              "model_id": "e0bf6d4e6a97486cbfb3a57c4d31742e",
              "version_major": 2,
              "version_minor": 0
            },
            "text/plain": [
              "Processing:   0%|          | 0/65 [00:00<?, ?it/s]"
            ]
          },
          "metadata": {
            "application/vnd.jupyter.widget-view+json": {
              "colab": {
                "custom_widget_manager": {
                  "url": "https://ssl.gstatic.com/colaboratory-static/widgets/colab-cdn-widget-manager/b3e629b1971e1542/manager.min.js"
                }
              }
            }
          },
          "output_type": "display_data"
        },
        {
          "data": {
            "text/html": [],
            "text/plain": [
              "<IPython.core.display.HTML object>"
            ]
          },
          "metadata": {},
          "output_type": "display_data"
        },
        {
          "name": "stdout",
          "output_type": "stream",
          "text": [
            "LGBMClassifier(boosting_type='gbdt', class_weight=None, colsample_bytree=1.0,\n",
            "               importance_type='split', learning_rate=0.1, max_depth=-1,\n",
            "               min_child_samples=20, min_child_weight=0.001, min_split_gain=0.0,\n",
            "               n_estimators=100, n_jobs=-1, num_leaves=31, objective=None,\n",
            "               random_state=7579, reg_alpha=0.0, reg_lambda=0.0, silent='warn',\n",
            "               subsample=1.0, subsample_for_bin=200000, subsample_freq=0)\n"
          ]
        }
      ],
      "source": [
        "from pycaret.classification import *\n",
        "\n",
        "# Configurar el entorno de PyCaret e inicializar la configuración de clasificación\n",
        "clf = setup(data=df, target='Rhythm', train_size=0.8, normalize=True, experiment_name='comparacion_modelos_2', fix_imbalance=True,fix_imbalance_method=smote)\n",
        "\n",
        "# Comparar los modelos\n",
        "mejor_modelo = compare_models()\n",
        "\n",
        "# Imprimir el mejor modelo\n",
        "print(mejor_modelo)"
      ]
    }
  ],
  "metadata": {
    "colab": {
      "provenance": []
    },
    "kernelspec": {
      "display_name": "Python 3 (ipykernel)",
      "language": "python",
      "name": "python3"
    },
    "language_info": {
      "codemirror_mode": {
        "name": "ipython",
        "version": 3
      },
      "file_extension": ".py",
      "mimetype": "text/x-python",
      "name": "python",
      "nbconvert_exporter": "python",
      "pygments_lexer": "ipython3",
      "version": "3.9.7"
    },
    "widgets": {
      "application/vnd.jupyter.widget-state+json": {
        "01d56a3ea8394475bd4b73ed15528316": {
          "model_module": "@jupyter-widgets/controls",
          "model_module_version": "1.5.0",
          "model_name": "FloatProgressModel",
          "state": {
            "_dom_classes": [],
            "_model_module": "@jupyter-widgets/controls",
            "_model_module_version": "1.5.0",
            "_model_name": "FloatProgressModel",
            "_view_count": null,
            "_view_module": "@jupyter-widgets/controls",
            "_view_module_version": "1.5.0",
            "_view_name": "ProgressView",
            "bar_style": "",
            "description": "",
            "description_tooltip": null,
            "layout": "IPY_MODEL_d44bd269c4b547aa901d294e050f8c57",
            "max": 65,
            "min": 0,
            "orientation": "horizontal",
            "style": "IPY_MODEL_845f81066daf49eaa54a8af6e149431a",
            "value": 65
          }
        },
        "251aec7703cf41859f5e8fc3f85900ae": {
          "model_module": "@jupyter-widgets/controls",
          "model_module_version": "1.5.0",
          "model_name": "HTMLModel",
          "state": {
            "_dom_classes": [],
            "_model_module": "@jupyter-widgets/controls",
            "_model_module_version": "1.5.0",
            "_model_name": "HTMLModel",
            "_view_count": null,
            "_view_module": "@jupyter-widgets/controls",
            "_view_module_version": "1.5.0",
            "_view_name": "HTMLView",
            "description": "",
            "description_tooltip": null,
            "layout": "IPY_MODEL_661e2e67e99c456c81fc293828da9041",
            "placeholder": "​",
            "style": "IPY_MODEL_531c434878c44291aa3bf6aeea11e260",
            "value": "Processing: 100%"
          }
        },
        "3638c5ae7a4c402f844f36f3e976fb02": {
          "model_module": "@jupyter-widgets/base",
          "model_module_version": "1.2.0",
          "model_name": "LayoutModel",
          "state": {
            "_model_module": "@jupyter-widgets/base",
            "_model_module_version": "1.2.0",
            "_model_name": "LayoutModel",
            "_view_count": null,
            "_view_module": "@jupyter-widgets/base",
            "_view_module_version": "1.2.0",
            "_view_name": "LayoutView",
            "align_content": null,
            "align_items": null,
            "align_self": null,
            "border": null,
            "bottom": null,
            "display": null,
            "flex": null,
            "flex_flow": null,
            "grid_area": null,
            "grid_auto_columns": null,
            "grid_auto_flow": null,
            "grid_auto_rows": null,
            "grid_column": null,
            "grid_gap": null,
            "grid_row": null,
            "grid_template_areas": null,
            "grid_template_columns": null,
            "grid_template_rows": null,
            "height": null,
            "justify_content": null,
            "justify_items": null,
            "left": null,
            "margin": null,
            "max_height": null,
            "max_width": null,
            "min_height": null,
            "min_width": null,
            "object_fit": null,
            "object_position": null,
            "order": null,
            "overflow": null,
            "overflow_x": null,
            "overflow_y": null,
            "padding": null,
            "right": null,
            "top": null,
            "visibility": null,
            "width": null
          }
        },
        "3c065ef84adc431494f7bbaff8e89d99": {
          "model_module": "@jupyter-widgets/controls",
          "model_module_version": "1.5.0",
          "model_name": "HBoxModel",
          "state": {
            "_dom_classes": [],
            "_model_module": "@jupyter-widgets/controls",
            "_model_module_version": "1.5.0",
            "_model_name": "HBoxModel",
            "_view_count": null,
            "_view_module": "@jupyter-widgets/controls",
            "_view_module_version": "1.5.0",
            "_view_name": "HBoxView",
            "box_style": "",
            "children": [
              "IPY_MODEL_251aec7703cf41859f5e8fc3f85900ae",
              "IPY_MODEL_c491e3cd97de40848b7a182dac6a5584",
              "IPY_MODEL_5d7650e9c9064c23ac3b72d4b7378d1c"
            ],
            "layout": "IPY_MODEL_caf525a9d8924b5a9f8921d85e29dc26"
          }
        },
        "531c434878c44291aa3bf6aeea11e260": {
          "model_module": "@jupyter-widgets/controls",
          "model_module_version": "1.5.0",
          "model_name": "DescriptionStyleModel",
          "state": {
            "_model_module": "@jupyter-widgets/controls",
            "_model_module_version": "1.5.0",
            "_model_name": "DescriptionStyleModel",
            "_view_count": null,
            "_view_module": "@jupyter-widgets/base",
            "_view_module_version": "1.2.0",
            "_view_name": "StyleView",
            "description_width": ""
          }
        },
        "5d7650e9c9064c23ac3b72d4b7378d1c": {
          "model_module": "@jupyter-widgets/controls",
          "model_module_version": "1.5.0",
          "model_name": "HTMLModel",
          "state": {
            "_dom_classes": [],
            "_model_module": "@jupyter-widgets/controls",
            "_model_module_version": "1.5.0",
            "_model_name": "HTMLModel",
            "_view_count": null,
            "_view_module": "@jupyter-widgets/controls",
            "_view_module_version": "1.5.0",
            "_view_name": "HTMLView",
            "description": "",
            "description_tooltip": null,
            "layout": "IPY_MODEL_5fd30fb326fa4d3fbead67cfa3391035",
            "placeholder": "​",
            "style": "IPY_MODEL_fa14a45582d34a5798e5210c228ceb7a",
            "value": " 65/65 [06:46&lt;00:00,  8.37s/it]"
          }
        },
        "5fd30fb326fa4d3fbead67cfa3391035": {
          "model_module": "@jupyter-widgets/base",
          "model_module_version": "1.2.0",
          "model_name": "LayoutModel",
          "state": {
            "_model_module": "@jupyter-widgets/base",
            "_model_module_version": "1.2.0",
            "_model_name": "LayoutModel",
            "_view_count": null,
            "_view_module": "@jupyter-widgets/base",
            "_view_module_version": "1.2.0",
            "_view_name": "LayoutView",
            "align_content": null,
            "align_items": null,
            "align_self": null,
            "border": null,
            "bottom": null,
            "display": null,
            "flex": null,
            "flex_flow": null,
            "grid_area": null,
            "grid_auto_columns": null,
            "grid_auto_flow": null,
            "grid_auto_rows": null,
            "grid_column": null,
            "grid_gap": null,
            "grid_row": null,
            "grid_template_areas": null,
            "grid_template_columns": null,
            "grid_template_rows": null,
            "height": null,
            "justify_content": null,
            "justify_items": null,
            "left": null,
            "margin": null,
            "max_height": null,
            "max_width": null,
            "min_height": null,
            "min_width": null,
            "object_fit": null,
            "object_position": null,
            "order": null,
            "overflow": null,
            "overflow_x": null,
            "overflow_y": null,
            "padding": null,
            "right": null,
            "top": null,
            "visibility": null,
            "width": null
          }
        },
        "661e2e67e99c456c81fc293828da9041": {
          "model_module": "@jupyter-widgets/base",
          "model_module_version": "1.2.0",
          "model_name": "LayoutModel",
          "state": {
            "_model_module": "@jupyter-widgets/base",
            "_model_module_version": "1.2.0",
            "_model_name": "LayoutModel",
            "_view_count": null,
            "_view_module": "@jupyter-widgets/base",
            "_view_module_version": "1.2.0",
            "_view_name": "LayoutView",
            "align_content": null,
            "align_items": null,
            "align_self": null,
            "border": null,
            "bottom": null,
            "display": null,
            "flex": null,
            "flex_flow": null,
            "grid_area": null,
            "grid_auto_columns": null,
            "grid_auto_flow": null,
            "grid_auto_rows": null,
            "grid_column": null,
            "grid_gap": null,
            "grid_row": null,
            "grid_template_areas": null,
            "grid_template_columns": null,
            "grid_template_rows": null,
            "height": null,
            "justify_content": null,
            "justify_items": null,
            "left": null,
            "margin": null,
            "max_height": null,
            "max_width": null,
            "min_height": null,
            "min_width": null,
            "object_fit": null,
            "object_position": null,
            "order": null,
            "overflow": null,
            "overflow_x": null,
            "overflow_y": null,
            "padding": null,
            "right": null,
            "top": null,
            "visibility": null,
            "width": null
          }
        },
        "78ddaf8a5ca649d49859b649e3217a3d": {
          "model_module": "@jupyter-widgets/controls",
          "model_module_version": "1.5.0",
          "model_name": "HTMLModel",
          "state": {
            "_dom_classes": [],
            "_model_module": "@jupyter-widgets/controls",
            "_model_module_version": "1.5.0",
            "_model_name": "HTMLModel",
            "_view_count": null,
            "_view_module": "@jupyter-widgets/controls",
            "_view_module_version": "1.5.0",
            "_view_name": "HTMLView",
            "description": "",
            "description_tooltip": null,
            "layout": "IPY_MODEL_ede8961c8d69448f869a833f07d79613",
            "placeholder": "​",
            "style": "IPY_MODEL_b552cf161e3643e4834a5c14fb9526d3",
            "value": " 65/65 [22:08&lt;00:00,  6.19s/it]"
          }
        },
        "828316a9dd60437781d45deeafbb3124": {
          "model_module": "@jupyter-widgets/controls",
          "model_module_version": "1.5.0",
          "model_name": "ProgressStyleModel",
          "state": {
            "_model_module": "@jupyter-widgets/controls",
            "_model_module_version": "1.5.0",
            "_model_name": "ProgressStyleModel",
            "_view_count": null,
            "_view_module": "@jupyter-widgets/base",
            "_view_module_version": "1.2.0",
            "_view_name": "StyleView",
            "bar_color": null,
            "description_width": ""
          }
        },
        "845f81066daf49eaa54a8af6e149431a": {
          "model_module": "@jupyter-widgets/controls",
          "model_module_version": "1.5.0",
          "model_name": "ProgressStyleModel",
          "state": {
            "_model_module": "@jupyter-widgets/controls",
            "_model_module_version": "1.5.0",
            "_model_name": "ProgressStyleModel",
            "_view_count": null,
            "_view_module": "@jupyter-widgets/base",
            "_view_module_version": "1.2.0",
            "_view_name": "StyleView",
            "bar_color": null,
            "description_width": ""
          }
        },
        "8cbbeb0588cf465eace07c8e15ecb647": {
          "model_module": "@jupyter-widgets/base",
          "model_module_version": "1.2.0",
          "model_name": "LayoutModel",
          "state": {
            "_model_module": "@jupyter-widgets/base",
            "_model_module_version": "1.2.0",
            "_model_name": "LayoutModel",
            "_view_count": null,
            "_view_module": "@jupyter-widgets/base",
            "_view_module_version": "1.2.0",
            "_view_name": "LayoutView",
            "align_content": null,
            "align_items": null,
            "align_self": null,
            "border": null,
            "bottom": null,
            "display": null,
            "flex": null,
            "flex_flow": null,
            "grid_area": null,
            "grid_auto_columns": null,
            "grid_auto_flow": null,
            "grid_auto_rows": null,
            "grid_column": null,
            "grid_gap": null,
            "grid_row": null,
            "grid_template_areas": null,
            "grid_template_columns": null,
            "grid_template_rows": null,
            "height": null,
            "justify_content": null,
            "justify_items": null,
            "left": null,
            "margin": null,
            "max_height": null,
            "max_width": null,
            "min_height": null,
            "min_width": null,
            "object_fit": null,
            "object_position": null,
            "order": null,
            "overflow": null,
            "overflow_x": null,
            "overflow_y": null,
            "padding": null,
            "right": null,
            "top": null,
            "visibility": "hidden",
            "width": null
          }
        },
        "9bcfcccd594a4f48aeaa7a9c575e6fae": {
          "model_module": "@jupyter-widgets/controls",
          "model_module_version": "1.5.0",
          "model_name": "DescriptionStyleModel",
          "state": {
            "_model_module": "@jupyter-widgets/controls",
            "_model_module_version": "1.5.0",
            "_model_name": "DescriptionStyleModel",
            "_view_count": null,
            "_view_module": "@jupyter-widgets/base",
            "_view_module_version": "1.2.0",
            "_view_name": "StyleView",
            "description_width": ""
          }
        },
        "b552cf161e3643e4834a5c14fb9526d3": {
          "model_module": "@jupyter-widgets/controls",
          "model_module_version": "1.5.0",
          "model_name": "DescriptionStyleModel",
          "state": {
            "_model_module": "@jupyter-widgets/controls",
            "_model_module_version": "1.5.0",
            "_model_name": "DescriptionStyleModel",
            "_view_count": null,
            "_view_module": "@jupyter-widgets/base",
            "_view_module_version": "1.2.0",
            "_view_name": "StyleView",
            "description_width": ""
          }
        },
        "c491e3cd97de40848b7a182dac6a5584": {
          "model_module": "@jupyter-widgets/controls",
          "model_module_version": "1.5.0",
          "model_name": "FloatProgressModel",
          "state": {
            "_dom_classes": [],
            "_model_module": "@jupyter-widgets/controls",
            "_model_module_version": "1.5.0",
            "_model_name": "FloatProgressModel",
            "_view_count": null,
            "_view_module": "@jupyter-widgets/controls",
            "_view_module_version": "1.5.0",
            "_view_name": "ProgressView",
            "bar_style": "",
            "description": "",
            "description_tooltip": null,
            "layout": "IPY_MODEL_3638c5ae7a4c402f844f36f3e976fb02",
            "max": 65,
            "min": 0,
            "orientation": "horizontal",
            "style": "IPY_MODEL_828316a9dd60437781d45deeafbb3124",
            "value": 65
          }
        },
        "c589f60c4edd461ba7121ba474f47063": {
          "model_module": "@jupyter-widgets/controls",
          "model_module_version": "1.5.0",
          "model_name": "HTMLModel",
          "state": {
            "_dom_classes": [],
            "_model_module": "@jupyter-widgets/controls",
            "_model_module_version": "1.5.0",
            "_model_name": "HTMLModel",
            "_view_count": null,
            "_view_module": "@jupyter-widgets/controls",
            "_view_module_version": "1.5.0",
            "_view_name": "HTMLView",
            "description": "",
            "description_tooltip": null,
            "layout": "IPY_MODEL_d6f7e8dcea0c4337984c6123bbdc0e2b",
            "placeholder": "​",
            "style": "IPY_MODEL_9bcfcccd594a4f48aeaa7a9c575e6fae",
            "value": "Processing: 100%"
          }
        },
        "caf525a9d8924b5a9f8921d85e29dc26": {
          "model_module": "@jupyter-widgets/base",
          "model_module_version": "1.2.0",
          "model_name": "LayoutModel",
          "state": {
            "_model_module": "@jupyter-widgets/base",
            "_model_module_version": "1.2.0",
            "_model_name": "LayoutModel",
            "_view_count": null,
            "_view_module": "@jupyter-widgets/base",
            "_view_module_version": "1.2.0",
            "_view_name": "LayoutView",
            "align_content": null,
            "align_items": null,
            "align_self": null,
            "border": null,
            "bottom": null,
            "display": null,
            "flex": null,
            "flex_flow": null,
            "grid_area": null,
            "grid_auto_columns": null,
            "grid_auto_flow": null,
            "grid_auto_rows": null,
            "grid_column": null,
            "grid_gap": null,
            "grid_row": null,
            "grid_template_areas": null,
            "grid_template_columns": null,
            "grid_template_rows": null,
            "height": null,
            "justify_content": null,
            "justify_items": null,
            "left": null,
            "margin": null,
            "max_height": null,
            "max_width": null,
            "min_height": null,
            "min_width": null,
            "object_fit": null,
            "object_position": null,
            "order": null,
            "overflow": null,
            "overflow_x": null,
            "overflow_y": null,
            "padding": null,
            "right": null,
            "top": null,
            "visibility": "hidden",
            "width": null
          }
        },
        "d44bd269c4b547aa901d294e050f8c57": {
          "model_module": "@jupyter-widgets/base",
          "model_module_version": "1.2.0",
          "model_name": "LayoutModel",
          "state": {
            "_model_module": "@jupyter-widgets/base",
            "_model_module_version": "1.2.0",
            "_model_name": "LayoutModel",
            "_view_count": null,
            "_view_module": "@jupyter-widgets/base",
            "_view_module_version": "1.2.0",
            "_view_name": "LayoutView",
            "align_content": null,
            "align_items": null,
            "align_self": null,
            "border": null,
            "bottom": null,
            "display": null,
            "flex": null,
            "flex_flow": null,
            "grid_area": null,
            "grid_auto_columns": null,
            "grid_auto_flow": null,
            "grid_auto_rows": null,
            "grid_column": null,
            "grid_gap": null,
            "grid_row": null,
            "grid_template_areas": null,
            "grid_template_columns": null,
            "grid_template_rows": null,
            "height": null,
            "justify_content": null,
            "justify_items": null,
            "left": null,
            "margin": null,
            "max_height": null,
            "max_width": null,
            "min_height": null,
            "min_width": null,
            "object_fit": null,
            "object_position": null,
            "order": null,
            "overflow": null,
            "overflow_x": null,
            "overflow_y": null,
            "padding": null,
            "right": null,
            "top": null,
            "visibility": null,
            "width": null
          }
        },
        "d6f7e8dcea0c4337984c6123bbdc0e2b": {
          "model_module": "@jupyter-widgets/base",
          "model_module_version": "1.2.0",
          "model_name": "LayoutModel",
          "state": {
            "_model_module": "@jupyter-widgets/base",
            "_model_module_version": "1.2.0",
            "_model_name": "LayoutModel",
            "_view_count": null,
            "_view_module": "@jupyter-widgets/base",
            "_view_module_version": "1.2.0",
            "_view_name": "LayoutView",
            "align_content": null,
            "align_items": null,
            "align_self": null,
            "border": null,
            "bottom": null,
            "display": null,
            "flex": null,
            "flex_flow": null,
            "grid_area": null,
            "grid_auto_columns": null,
            "grid_auto_flow": null,
            "grid_auto_rows": null,
            "grid_column": null,
            "grid_gap": null,
            "grid_row": null,
            "grid_template_areas": null,
            "grid_template_columns": null,
            "grid_template_rows": null,
            "height": null,
            "justify_content": null,
            "justify_items": null,
            "left": null,
            "margin": null,
            "max_height": null,
            "max_width": null,
            "min_height": null,
            "min_width": null,
            "object_fit": null,
            "object_position": null,
            "order": null,
            "overflow": null,
            "overflow_x": null,
            "overflow_y": null,
            "padding": null,
            "right": null,
            "top": null,
            "visibility": null,
            "width": null
          }
        },
        "e0bf6d4e6a97486cbfb3a57c4d31742e": {
          "model_module": "@jupyter-widgets/controls",
          "model_module_version": "1.5.0",
          "model_name": "HBoxModel",
          "state": {
            "_dom_classes": [],
            "_model_module": "@jupyter-widgets/controls",
            "_model_module_version": "1.5.0",
            "_model_name": "HBoxModel",
            "_view_count": null,
            "_view_module": "@jupyter-widgets/controls",
            "_view_module_version": "1.5.0",
            "_view_name": "HBoxView",
            "box_style": "",
            "children": [
              "IPY_MODEL_c589f60c4edd461ba7121ba474f47063",
              "IPY_MODEL_01d56a3ea8394475bd4b73ed15528316",
              "IPY_MODEL_78ddaf8a5ca649d49859b649e3217a3d"
            ],
            "layout": "IPY_MODEL_8cbbeb0588cf465eace07c8e15ecb647"
          }
        },
        "ede8961c8d69448f869a833f07d79613": {
          "model_module": "@jupyter-widgets/base",
          "model_module_version": "1.2.0",
          "model_name": "LayoutModel",
          "state": {
            "_model_module": "@jupyter-widgets/base",
            "_model_module_version": "1.2.0",
            "_model_name": "LayoutModel",
            "_view_count": null,
            "_view_module": "@jupyter-widgets/base",
            "_view_module_version": "1.2.0",
            "_view_name": "LayoutView",
            "align_content": null,
            "align_items": null,
            "align_self": null,
            "border": null,
            "bottom": null,
            "display": null,
            "flex": null,
            "flex_flow": null,
            "grid_area": null,
            "grid_auto_columns": null,
            "grid_auto_flow": null,
            "grid_auto_rows": null,
            "grid_column": null,
            "grid_gap": null,
            "grid_row": null,
            "grid_template_areas": null,
            "grid_template_columns": null,
            "grid_template_rows": null,
            "height": null,
            "justify_content": null,
            "justify_items": null,
            "left": null,
            "margin": null,
            "max_height": null,
            "max_width": null,
            "min_height": null,
            "min_width": null,
            "object_fit": null,
            "object_position": null,
            "order": null,
            "overflow": null,
            "overflow_x": null,
            "overflow_y": null,
            "padding": null,
            "right": null,
            "top": null,
            "visibility": null,
            "width": null
          }
        },
        "fa14a45582d34a5798e5210c228ceb7a": {
          "model_module": "@jupyter-widgets/controls",
          "model_module_version": "1.5.0",
          "model_name": "DescriptionStyleModel",
          "state": {
            "_model_module": "@jupyter-widgets/controls",
            "_model_module_version": "1.5.0",
            "_model_name": "DescriptionStyleModel",
            "_view_count": null,
            "_view_module": "@jupyter-widgets/base",
            "_view_module_version": "1.2.0",
            "_view_name": "StyleView",
            "description_width": ""
          }
        }
      }
    }
  },
  "nbformat": 4,
  "nbformat_minor": 0
}